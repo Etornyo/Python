{
  "cells": [
    {
      "cell_type": "code",
      "execution_count": null,
      "metadata": {
        "id": "Gb08iJ8y-7ZU"
      },
      "outputs": [],
      "source": [
        "!pip install simpletransformers --quiet"
      ]
    },
    {
      "cell_type": "code",
      "execution_count": 1,
      "metadata": {
        "id": "Ll1TJcVtACPj"
      },
      "outputs": [],
      "source": [
        "import pandas as pd\n",
        "import numpy as np\n",
        "# from sklearn.metrics import *\n",
        "# from sklearn.metrics import mean_squared_error as mse\n",
        "# import warnings\n",
        "# warnings.simplefilter('ignore')\n",
        "# from tqdm import tqdm\n",
        "\n",
        "# from simpletransformers.classification.classification_model import ClassificationModel\n",
        "# from sklearn.model_selection import train_test_split\n",
        "# # from scipy.special import softmax\n",
        "\n",
        "\n"
      ]
    },
    {
      "cell_type": "markdown",
      "metadata": {
        "id": "znu4FAy6L-Zg"
      },
      "source": [
        "### Importing in the data"
      ]
    },
    {
      "cell_type": "code",
      "execution_count": null,
      "metadata": {
        "id": "jrXTs0ALACR9"
      },
      "outputs": [],
      "source": [
        "train_set = pd.read_csv('Train.csv')\n",
        "test_set = pd.read_csv('Test.csv')\n",
        "sample_submission = pd.read_csv('SampleSubmission.csv')\n",
        "\n",
        "test_set.head()"
      ]
    },
    {
      "cell_type": "code",
      "execution_count": null,
      "metadata": {
        "id": "74i-kBN3ACUx"
      },
      "outputs": [],
      "source": [
        "#Cleaning up the training set\n",
        "train_set[\"safe_text\"].apply(lambda x: len(x)).describe()\n",
        "train_set[\"label\"].value_counts()"
      ]
    },
    {
      "cell_type": "code",
      "execution_count": null,
      "metadata": {
        "id": "laYsVoW0ACZv"
      },
      "outputs": [],
      "source": [
        "#Try setting this line to neutral\n",
        "train_set['label'][~train_set['label'].isin([0,-1,1])]=-1"
      ]
    },
    {
      "cell_type": "code",
      "execution_count": null,
      "metadata": {
        "id": "_FUaYC6U_Bhx"
      },
      "outputs": [],
      "source": [
        "train_set.isnull().sum()"
      ]
    },
    {
      "cell_type": "code",
      "execution_count": null,
      "metadata": {
        "id": "AVoZAXqm_Bkc"
      },
      "outputs": [],
      "source": [
        "train_set = train_set.dropna()\n",
        "\n"
      ]
    },
    {
      "cell_type": "code",
      "execution_count": null,
      "metadata": {
        "id": "CqVCQlug_BnF"
      },
      "outputs": [],
      "source": [
        "#Cleaning the test set\n",
        "test_set.isnull().sum()"
      ]
    },
    {
      "cell_type": "code",
      "execution_count": null,
      "metadata": {
        "id": "WJ6EK7sK_Bp_"
      },
      "outputs": [],
      "source": [
        "test_set[\"safe_text\"] = test_set[\"safe_text\"].fillna(\"xxxxxx\")\n",
        "train_set.size"
      ]
    },
    {
      "cell_type": "markdown",
      "metadata": {
        "id": "b1hakJSXCYLx"
      },
      "source": [
        "### Training the models\n",
        "\n",
        "\n",
        "\n",
        "\n"
      ]
    },
    {
      "cell_type": "code",
      "execution_count": null,
      "metadata": {
        "id": "C78_K0_u_Bsk"
      },
      "outputs": [],
      "source": [
        "def create_model(model_type,model_name,epochs=2,train_batch_size=110,eval_batch_size=130,max_seq_len=134,learning_rate=2e-5):\n",
        "  reg_model = ClassificationModel(model_type,model_name,num_labels=1,args={'train_batch_size':train_batch_size,\n",
        "                                                                         'eval_batch_size': eval_batch_size,\n",
        "                                                                         'reprocess_input_data': True,\n",
        "                                                                         'overwrite_output_dir': True,\n",
        "                                                                         'fp16': False,\n",
        "                                                                         'do_lower_case': False,\n",
        "                                                                         'num_train_epochs':epochs,\n",
        "                                                                         'max_seq_length': max_seq_len,\n",
        "                                                                         'regression': True,\n",
        "                                                                         'manual_seed': 2,\n",
        "                                                                         'learning_rate':learning_rate,\n",
        "                                                                         \"save_eval_checkpoints\": False,\n",
        "                                                                         \"save_model_every_epoch\": False,})\n",
        "  return reg_model \n"
      ]
    },
    {
      "cell_type": "code",
      "execution_count": null,
      "metadata": {
        "id": "6YYMN-xW_BvL"
      },
      "outputs": [],
      "source": [
        "temp_df = pd.DataFrame()\n",
        "temp_df['safe_text'] = train_set[\"safe_text\"]\n",
        "temp_df['labels'] = train_set[\"label\"]\n",
        "temp_test = test_set[['safe_text']].rename({'safe_text':'text'},axis=1)\n",
        "temp_test['labels'] = 0\n",
        "temp_train,temp_eval = train_test_split(temp_df,test_size=0.3,random_state=3)"
      ]
    },
    {
      "cell_type": "code",
      "execution_count": null,
      "metadata": {
        "id": "LQ__HQ-hSt39"
      },
      "outputs": [],
      "source": [
        "model1 = create_model('roberta','roberta-base',epochs=3)\n",
        "model1.train_model(temp_train)\n",
        "preds_val = model1.eval_model(temp_eval)[1]\n",
        "preds_val = np.clip(preds_val,-1,1)\n",
        "print(f\"MSE: {mse(temp_eval['labels'],preds_val)}\\n RMSE:{(mse(temp_eval['labels'],preds_val))**0.5}\")\n",
        "test_preds = model1.eval_model(temp_test)[1]\n",
        "test_preds = np.clip(test_preds,-1,1)\n",
        "pev_1 = preds_val\n",
        "pt_1 = test_preds"
      ]
    },
    {
      "cell_type": "code",
      "execution_count": null,
      "metadata": {
        "id": "_Q8bR0UCL7fK"
      },
      "outputs": [],
      "source": [
        "model2 = create_model('roberta','roberta-large',epochs=3,train_batch_size=16,eval_batch_size=16,learning_rate=1e-5)\n",
        "model2.train_model(temp_train)\n",
        "preds_val = model2.eval_model(temp_eval)[1]\n",
        "preds_val = np.clip(preds_val,-1,1)\n",
        "print(f\"MSE: {mse(temp_eval['labels'],preds_val)}\\n RMSE:{(mse(temp_eval['labels'],preds_val))**0.5}\")\n",
        "test_preds = model2.eval_model(temp_test)[1]\n",
        "test_preds = np.clip(test_preds,-1,1)\n",
        "pev_2 = preds_val\n",
        "pt_2 = test_preds"
      ]
    },
    {
      "cell_type": "code",
      "execution_count": null,
      "metadata": {
        "id": "cjXFmKVT_Bx1"
      },
      "outputs": [],
      "source": [
        "final_pv = (pev_1 * 0.3) + (pev_2 * 0.7)\n",
        "print(f\"RMSE: {mse(temp_eval['labels'],final_pv)**0.5}\")"
      ]
    },
    {
      "cell_type": "code",
      "execution_count": null,
      "metadata": {
        "id": "28m2TBVG_B0u"
      },
      "outputs": [],
      "source": [
        "tp = (pt_1*0.3) + (pt_2*0.7)"
      ]
    },
    {
      "cell_type": "code",
      "execution_count": null,
      "metadata": {
        "id": "ZQNDPXYQ_B3a"
      },
      "outputs": [],
      "source": [
        "final_preds = tp\n",
        "final_df = test_set[[\"ID_COL\"]]"
      ]
    },
    {
      "cell_type": "code",
      "execution_count": null,
      "metadata": {
        "id": "uYr7YEmtR_Wg"
      },
      "outputs": [],
      "source": [
        "final_df[\"TARGET_COL\"] = final_preds\n",
        "submission_file_name = \"NLP_challenge_solution.csv\"\n",
        "final_df.to_csv(submission_file_name,index=False)"
      ]
    },
    {
      "cell_type": "code",
      "execution_count": null,
      "metadata": {
        "id": "zx1gskiUACc7"
      },
      "outputs": [],
      "source": [
        "final_df.head()"
      ]
    },
    {
      "cell_type": "code",
      "execution_count": 4,
      "metadata": {},
      "outputs": [
        {
          "data": {
            "text/plain": [
              "10354"
            ]
          },
          "execution_count": 4,
          "metadata": {},
          "output_type": "execute_result"
        }
      ],
      "source": [
        "test = pd.read_csv('NLP_challenge_solution.csv')\n",
        "\n",
        "test.size"
      ]
    }
  ],
  "metadata": {
    "accelerator": "GPU",
    "colab": {
      "private_outputs": true,
      "provenance": []
    },
    "gpuClass": "standard",
    "kernelspec": {
      "display_name": "Python 3",
      "language": "python",
      "name": "python3"
    },
    "language_info": {
      "codemirror_mode": {
        "name": "ipython",
        "version": 3
      },
      "file_extension": ".py",
      "mimetype": "text/x-python",
      "name": "python",
      "nbconvert_exporter": "python",
      "pygments_lexer": "ipython3",
      "version": "3.10.6"
    },
    "orig_nbformat": 4,
    "vscode": {
      "interpreter": {
        "hash": "916dbcbb3f70747c44a77c7bcd40155683ae19c65e1c03b4aa3499c5328201f1"
      }
    }
  },
  "nbformat": 4,
  "nbformat_minor": 0
}
