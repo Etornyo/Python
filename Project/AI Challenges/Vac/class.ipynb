{
 "cells": [
  {
   "cell_type": "code",
   "execution_count": 17,
   "metadata": {},
   "outputs": [],
   "source": [
    "import numpy as np\n",
    "import pandas as pd\n",
    "from sklearn.feature_extraction.text import TfidfVectorizer\n",
    "from sklearn.metrics import accuracy_score\n",
    "from sklearn.model_selection import train_test_split, GridSearchCV, KFold\n",
    "from catboost import CatBoostClassifier\n"
   ]
  },
  {
   "cell_type": "code",
   "execution_count": 18,
   "metadata": {},
   "outputs": [],
   "source": [
    "\n",
    "# Load the data\n",
    "train = pd.read_csv('Train.csv').dropna(axis=0)  # Read in train, ignoring one row with missing data\n",
    "test = pd.read_csv('Test.csv').fillna('')  # Read in test"
   ]
  },
  {
   "cell_type": "code",
   "execution_count": 19,
   "metadata": {},
   "outputs": [
    {
     "data": {
      "text/html": [
       "<div>\n",
       "<style scoped>\n",
       "    .dataframe tbody tr th:only-of-type {\n",
       "        vertical-align: middle;\n",
       "    }\n",
       "\n",
       "    .dataframe tbody tr th {\n",
       "        vertical-align: top;\n",
       "    }\n",
       "\n",
       "    .dataframe thead th {\n",
       "        text-align: right;\n",
       "    }\n",
       "</style>\n",
       "<table border=\"1\" class=\"dataframe\">\n",
       "  <thead>\n",
       "    <tr style=\"text-align: right;\">\n",
       "      <th></th>\n",
       "      <th>tweet_id</th>\n",
       "      <th>safe_text</th>\n",
       "      <th>label</th>\n",
       "      <th>agreement</th>\n",
       "    </tr>\n",
       "  </thead>\n",
       "  <tbody>\n",
       "    <tr>\n",
       "      <th>0</th>\n",
       "      <td>CL1KWCMY</td>\n",
       "      <td>Me &amp;amp; The Big Homie meanboy3000 #MEANBOY #M...</td>\n",
       "      <td>0.0</td>\n",
       "      <td>1.0</td>\n",
       "    </tr>\n",
       "    <tr>\n",
       "      <th>1</th>\n",
       "      <td>E3303EME</td>\n",
       "      <td>I'm 100% thinking of devoting my career to pro...</td>\n",
       "      <td>1.0</td>\n",
       "      <td>1.0</td>\n",
       "    </tr>\n",
       "    <tr>\n",
       "      <th>2</th>\n",
       "      <td>M4IVFSMS</td>\n",
       "      <td>#whatcausesautism VACCINES, DO NOT VACCINATE Y...</td>\n",
       "      <td>-1.0</td>\n",
       "      <td>1.0</td>\n",
       "    </tr>\n",
       "    <tr>\n",
       "      <th>3</th>\n",
       "      <td>1DR6ROZ4</td>\n",
       "      <td>I mean if they immunize my kid with something ...</td>\n",
       "      <td>-1.0</td>\n",
       "      <td>1.0</td>\n",
       "    </tr>\n",
       "    <tr>\n",
       "      <th>4</th>\n",
       "      <td>J77ENIIE</td>\n",
       "      <td>Thanks to &lt;user&gt; Catch me performing at La Nui...</td>\n",
       "      <td>0.0</td>\n",
       "      <td>1.0</td>\n",
       "    </tr>\n",
       "  </tbody>\n",
       "</table>\n",
       "</div>"
      ],
      "text/plain": [
       "   tweet_id                                          safe_text  label  \\\n",
       "0  CL1KWCMY  Me &amp; The Big Homie meanboy3000 #MEANBOY #M...    0.0   \n",
       "1  E3303EME  I'm 100% thinking of devoting my career to pro...    1.0   \n",
       "2  M4IVFSMS  #whatcausesautism VACCINES, DO NOT VACCINATE Y...   -1.0   \n",
       "3  1DR6ROZ4  I mean if they immunize my kid with something ...   -1.0   \n",
       "4  J77ENIIE  Thanks to <user> Catch me performing at La Nui...    0.0   \n",
       "\n",
       "   agreement  \n",
       "0        1.0  \n",
       "1        1.0  \n",
       "2        1.0  \n",
       "3        1.0  \n",
       "4        1.0  "
      ]
     },
     "execution_count": 19,
     "metadata": {},
     "output_type": "execute_result"
    }
   ],
   "source": [
    "train.head()"
   ]
  },
  {
   "cell_type": "code",
   "execution_count": 20,
   "metadata": {},
   "outputs": [],
   "source": [
    "# Split data into training and validation sets\n",
    "df_train, df_valid = train_test_split(train, test_size=0.2, random_state=42)"
   ]
  },
  {
   "cell_type": "code",
   "execution_count": 21,
   "metadata": {},
   "outputs": [],
   "source": [
    "# Create a TF-IDF vectorizer\n",
    "vectorizer = TfidfVectorizer()"
   ]
  },
  {
   "cell_type": "code",
   "execution_count": 22,
   "metadata": {},
   "outputs": [],
   "source": [
    "# Transform text data into TF-IDF features\n",
    "X_train = vectorizer.fit_transform(df_train['safe_text'])\n",
    "X_valid = vectorizer.transform(df_valid['safe_text'])\n",
    "X_test = vectorizer.transform(test['safe_text'])"
   ]
  },
  {
   "cell_type": "code",
   "execution_count": 23,
   "metadata": {},
   "outputs": [],
   "source": [
    "# Define labels\n",
    "y_train = df_train['label']\n",
    "y_valid = df_valid['label']"
   ]
  },
  {
   "cell_type": "code",
   "execution_count": 24,
   "metadata": {},
   "outputs": [
    {
     "name": "stderr",
     "output_type": "stream",
     "text": [
      "Warning: Overfitting detector is active, thus evaluation metric is calculated on every iteration. 'metric_period' is ignored for evaluation metric.\n"
     ]
    },
    {
     "name": "stdout",
     "output_type": "stream",
     "text": [
      "0:\tlearn: 0.6446320\ttest: 0.6318750\tbest: 0.6318750 (0)\ttotal: 1.04s\tremaining: 2h 18m 32s\n",
      "50:\tlearn: 0.7074543\ttest: 0.6931250\tbest: 0.6950000 (49)\ttotal: 40.2s\tremaining: 1h 44m 22s\n",
      "100:\tlearn: 0.7196437\ttest: 0.7106250\tbest: 0.7106250 (94)\ttotal: 1m 17s\tremaining: 1h 41m 34s\n",
      "150:\tlearn: 0.7321456\ttest: 0.7100000\tbest: 0.7112500 (135)\ttotal: 1m 56s\tremaining: 1h 40m 40s\n",
      "200:\tlearn: 0.7407407\ttest: 0.7093750\tbest: 0.7112500 (135)\ttotal: 2m 33s\tremaining: 1h 39m 15s\n",
      "250:\tlearn: 0.7566807\ttest: 0.7106250\tbest: 0.7131250 (230)\ttotal: 3m 11s\tremaining: 1h 38m 18s\n",
      "300:\tlearn: 0.7632443\ttest: 0.7106250\tbest: 0.7131250 (230)\ttotal: 3m 48s\tremaining: 1h 37m 23s\n",
      "350:\tlearn: 0.7732458\ttest: 0.7162500\tbest: 0.7162500 (348)\ttotal: 4m 26s\tremaining: 1h 36m 46s\n",
      "400:\tlearn: 0.7815284\ttest: 0.7181250\tbest: 0.7181250 (365)\ttotal: 5m 3s\tremaining: 1h 35m 59s\n",
      "450:\tlearn: 0.7866854\ttest: 0.7162500\tbest: 0.7181250 (365)\ttotal: 5m 41s\tremaining: 1h 35m 22s\n",
      "500:\tlearn: 0.7924676\ttest: 0.7212500\tbest: 0.7212500 (500)\ttotal: 6m 19s\tremaining: 1h 34m 45s\n",
      "550:\tlearn: 0.7979372\ttest: 0.7225000\tbest: 0.7237500 (528)\ttotal: 6m 57s\tremaining: 1h 34m 3s\n",
      "600:\tlearn: 0.8020003\ttest: 0.7237500\tbest: 0.7250000 (569)\ttotal: 7m 35s\tremaining: 1h 33m 24s\n",
      "650:\tlearn: 0.8077825\ttest: 0.7231250\tbest: 0.7250000 (569)\ttotal: 8m 13s\tremaining: 1h 32m 45s\n",
      "700:\tlearn: 0.8118456\ttest: 0.7268750\tbest: 0.7268750 (675)\ttotal: 8m 50s\tremaining: 1h 32m 6s\n",
      "750:\tlearn: 0.8140334\ttest: 0.7293750\tbest: 0.7300000 (731)\ttotal: 9m 29s\tremaining: 1h 31m 35s\n",
      "800:\tlearn: 0.8173152\ttest: 0.7306250\tbest: 0.7318750 (790)\ttotal: 10m 7s\tremaining: 1h 31m 1s\n",
      "850:\tlearn: 0.8191905\ttest: 0.7287500\tbest: 0.7318750 (790)\ttotal: 10m 45s\tremaining: 1h 30m 22s\n",
      "900:\tlearn: 0.8229411\ttest: 0.7306250\tbest: 0.7318750 (790)\ttotal: 11m 23s\tremaining: 1h 29m 43s\n",
      "950:\tlearn: 0.8259103\ttest: 0.7293750\tbest: 0.7318750 (790)\ttotal: 12m 1s\tremaining: 1h 29m 4s\n",
      "1000:\tlearn: 0.8287232\ttest: 0.7318750\tbest: 0.7325000 (989)\ttotal: 12m 38s\tremaining: 1h 28m 22s\n",
      "1050:\tlearn: 0.8335677\ttest: 0.7350000\tbest: 0.7356250 (1035)\ttotal: 13m 15s\tremaining: 1h 27m 41s\n",
      "1100:\tlearn: 0.8359119\ttest: 0.7331250\tbest: 0.7356250 (1035)\ttotal: 13m 53s\tremaining: 1h 27m 1s\n",
      "1150:\tlearn: 0.8382560\ttest: 0.7318750\tbest: 0.7356250 (1035)\ttotal: 14m 30s\tremaining: 1h 26m 20s\n",
      "1200:\tlearn: 0.8391936\ttest: 0.7325000\tbest: 0.7356250 (1035)\ttotal: 15m 8s\tremaining: 1h 25m 41s\n",
      "1250:\tlearn: 0.8413815\ttest: 0.7331250\tbest: 0.7356250 (1035)\ttotal: 15m 45s\tremaining: 1h 25m 2s\n",
      "1300:\tlearn: 0.8438819\ttest: 0.7312500\tbest: 0.7356250 (1035)\ttotal: 16m 23s\tremaining: 1h 24m 23s\n",
      "Stopped by overfitting detector  (300 iterations wait)\n",
      "\n",
      "bestTest = 0.735625\n",
      "bestIteration = 1035\n",
      "\n",
      "Shrink model to first 1036 iterations.\n",
      "Accuracy:  0.735625\n"
     ]
    },
    {
     "name": "stderr",
     "output_type": "stream",
     "text": [
      "Warning: Overfitting detector is active, thus evaluation metric is calculated on every iteration. 'metric_period' is ignored for evaluation metric.\n"
     ]
    },
    {
     "name": "stdout",
     "output_type": "stream",
     "text": [
      "0:\tlearn: 0.6588529\ttest: 0.6643750\tbest: 0.6643750 (0)\ttotal: 843ms\tremaining: 1h 52m 25s\n",
      "50:\tlearn: 0.7038600\ttest: 0.7187500\tbest: 0.7212500 (41)\ttotal: 38.7s\tremaining: 1h 40m 26s\n",
      "100:\tlearn: 0.7157368\ttest: 0.7200000\tbest: 0.7231250 (91)\ttotal: 1m 17s\tremaining: 1h 40m 49s\n",
      "150:\tlearn: 0.7285513\ttest: 0.7250000\tbest: 0.7281250 (147)\ttotal: 1m 54s\tremaining: 1h 39m 24s\n",
      "200:\tlearn: 0.7429286\ttest: 0.7325000\tbest: 0.7325000 (200)\ttotal: 2m 31s\tremaining: 1h 38m 1s\n",
      "250:\tlearn: 0.7557431\ttest: 0.7337500\tbest: 0.7350000 (223)\ttotal: 3m 8s\tremaining: 1h 36m 58s\n",
      "300:\tlearn: 0.7662135\ttest: 0.7337500\tbest: 0.7350000 (223)\ttotal: 3m 45s\tremaining: 1h 36m 3s\n",
      "350:\tlearn: 0.7724644\ttest: 0.7312500\tbest: 0.7350000 (223)\ttotal: 4m 22s\tremaining: 1h 35m 18s\n",
      "400:\tlearn: 0.7823097\ttest: 0.7325000\tbest: 0.7350000 (223)\ttotal: 4m 59s\tremaining: 1h 34m 33s\n",
      "450:\tlearn: 0.7896546\ttest: 0.7337500\tbest: 0.7350000 (223)\ttotal: 5m 37s\tremaining: 1h 34m 11s\n",
      "500:\tlearn: 0.7949680\ttest: 0.7337500\tbest: 0.7350000 (223)\ttotal: 6m 14s\tremaining: 1h 33m 24s\n",
      "Stopped by overfitting detector  (300 iterations wait)\n",
      "\n",
      "bestTest = 0.735\n",
      "bestIteration = 223\n",
      "\n",
      "Shrink model to first 224 iterations.\n",
      "Accuracy:  0.735\n"
     ]
    },
    {
     "name": "stderr",
     "output_type": "stream",
     "text": [
      "Warning: Overfitting detector is active, thus evaluation metric is calculated on every iteration. 'metric_period' is ignored for evaluation metric.\n"
     ]
    },
    {
     "name": "stdout",
     "output_type": "stream",
     "text": [
      "0:\tlearn: 0.6508830\ttest: 0.6268750\tbest: 0.6268750 (0)\ttotal: 780ms\tremaining: 1h 44m 2s\n",
      "50:\tlearn: 0.7077668\ttest: 0.6893750\tbest: 0.6918750 (48)\ttotal: 38.2s\tremaining: 1h 39m 10s\n",
      "100:\tlearn: 0.7230817\ttest: 0.7012500\tbest: 0.7025000 (91)\ttotal: 1m 14s\tremaining: 1h 37m 35s\n",
      "150:\tlearn: 0.7337084\ttest: 0.7093750\tbest: 0.7093750 (150)\ttotal: 1m 51s\tremaining: 1h 36m 37s\n",
      "200:\tlearn: 0.7441788\ttest: 0.7131250\tbest: 0.7156250 (191)\ttotal: 2m 28s\tremaining: 1h 36m 7s\n",
      "250:\tlearn: 0.7537115\ttest: 0.7156250\tbest: 0.7162500 (234)\ttotal: 3m 5s\tremaining: 1h 35m 28s\n",
      "300:\tlearn: 0.7629317\ttest: 0.7212500\tbest: 0.7225000 (286)\ttotal: 3m 42s\tremaining: 1h 34m 50s\n",
      "350:\tlearn: 0.7730895\ttest: 0.7262500\tbest: 0.7262500 (350)\ttotal: 4m 19s\tremaining: 1h 34m 7s\n",
      "400:\tlearn: 0.7794968\ttest: 0.7268750\tbest: 0.7281250 (381)\ttotal: 4m 56s\tremaining: 1h 33m 33s\n",
      "450:\tlearn: 0.7841850\ttest: 0.7243750\tbest: 0.7281250 (381)\ttotal: 5m 33s\tremaining: 1h 33m\n",
      "500:\tlearn: 0.7935615\ttest: 0.7268750\tbest: 0.7281250 (381)\ttotal: 6m 10s\tremaining: 1h 32m 24s\n",
      "550:\tlearn: 0.7979372\ttest: 0.7256250\tbest: 0.7287500 (527)\ttotal: 6m 47s\tremaining: 1h 31m 44s\n",
      "600:\tlearn: 0.8018440\ttest: 0.7275000\tbest: 0.7287500 (527)\ttotal: 7m 24s\tremaining: 1h 31m 7s\n",
      "650:\tlearn: 0.8054383\ttest: 0.7287500\tbest: 0.7287500 (527)\ttotal: 8m 1s\tremaining: 1h 30m 30s\n",
      "700:\tlearn: 0.8104391\ttest: 0.7306250\tbest: 0.7306250 (694)\ttotal: 8m 39s\tremaining: 1h 30m 7s\n",
      "750:\tlearn: 0.8137209\ttest: 0.7306250\tbest: 0.7306250 (694)\ttotal: 9m 21s\tremaining: 1h 30m 15s\n",
      "800:\tlearn: 0.8166901\ttest: 0.7312500\tbest: 0.7312500 (762)\ttotal: 10m 4s\tremaining: 1h 30m 35s\n",
      "850:\tlearn: 0.8196593\ttest: 0.7318750\tbest: 0.7318750 (807)\ttotal: 10m 50s\tremaining: 1h 31m 4s\n",
      "900:\tlearn: 0.8224723\ttest: 0.7312500\tbest: 0.7325000 (851)\ttotal: 11m 32s\tremaining: 1h 30m 56s\n",
      "950:\tlearn: 0.8263791\ttest: 0.7300000\tbest: 0.7325000 (851)\ttotal: 12m 10s\tremaining: 1h 30m 14s\n",
      "1000:\tlearn: 0.8280981\ttest: 0.7306250\tbest: 0.7325000 (851)\ttotal: 12m 46s\tremaining: 1h 29m 22s\n",
      "1050:\tlearn: 0.8310674\ttest: 0.7300000\tbest: 0.7325000 (851)\ttotal: 13m 23s\tremaining: 1h 28m 31s\n",
      "1100:\tlearn: 0.8335677\ttest: 0.7281250\tbest: 0.7325000 (851)\ttotal: 13m 59s\tremaining: 1h 27m 41s\n",
      "1150:\tlearn: 0.8377872\ttest: 0.7293750\tbest: 0.7325000 (851)\ttotal: 14m 36s\tremaining: 1h 26m 56s\n",
      "Stopped by overfitting detector  (300 iterations wait)\n",
      "\n",
      "bestTest = 0.7325\n",
      "bestIteration = 851\n",
      "\n",
      "Shrink model to first 852 iterations.\n",
      "Accuracy:  0.7325\n"
     ]
    },
    {
     "name": "stderr",
     "output_type": "stream",
     "text": [
      "Warning: Overfitting detector is active, thus evaluation metric is calculated on every iteration. 'metric_period' is ignored for evaluation metric.\n"
     ]
    },
    {
     "name": "stdout",
     "output_type": "stream",
     "text": [
      "0:\tlearn: 0.6696359\ttest: 0.6575000\tbest: 0.6575000 (0)\ttotal: 912ms\tremaining: 2h 1m 34s\n",
      "50:\tlearn: 0.7027661\ttest: 0.6862500\tbest: 0.6868750 (49)\ttotal: 39.8s\tremaining: 1h 43m 28s\n",
      "100:\tlearn: 0.7204251\ttest: 0.6918750\tbest: 0.6937500 (96)\ttotal: 1m 21s\tremaining: 1h 45m 35s\n",
      "150:\tlearn: 0.7340209\ttest: 0.6981250\tbest: 0.7006250 (124)\ttotal: 1m 57s\tremaining: 1h 41m 45s\n",
      "200:\tlearn: 0.7471480\ttest: 0.7037500\tbest: 0.7037500 (186)\ttotal: 2m 31s\tremaining: 1h 38m 7s\n",
      "250:\tlearn: 0.7583997\ttest: 0.7050000\tbest: 0.7075000 (237)\ttotal: 3m 5s\tremaining: 1h 35m 39s\n",
      "300:\tlearn: 0.7673074\ttest: 0.7075000\tbest: 0.7075000 (237)\ttotal: 3m 40s\tremaining: 1h 33m 53s\n",
      "350:\tlearn: 0.7752774\ttest: 0.7075000\tbest: 0.7087500 (304)\ttotal: 4m 14s\tremaining: 1h 32m 20s\n",
      "400:\tlearn: 0.7805907\ttest: 0.7062500\tbest: 0.7087500 (304)\ttotal: 4m 47s\tremaining: 1h 30m 54s\n",
      "450:\tlearn: 0.7860603\ttest: 0.7068750\tbest: 0.7087500 (304)\ttotal: 5m 21s\tremaining: 1h 29m 49s\n",
      "500:\tlearn: 0.7901235\ttest: 0.7068750\tbest: 0.7087500 (304)\ttotal: 5m 55s\tremaining: 1h 28m 39s\n",
      "550:\tlearn: 0.7951242\ttest: 0.7050000\tbest: 0.7087500 (304)\ttotal: 6m 33s\tremaining: 1h 28m 43s\n",
      "600:\tlearn: 0.8001250\ttest: 0.7062500\tbest: 0.7087500 (304)\ttotal: 7m 15s\tremaining: 1h 29m 19s\n",
      "Stopped by overfitting detector  (300 iterations wait)\n",
      "\n",
      "bestTest = 0.70875\n",
      "bestIteration = 304\n",
      "\n",
      "Shrink model to first 305 iterations.\n",
      "Accuracy:  0.70875\n"
     ]
    },
    {
     "name": "stderr",
     "output_type": "stream",
     "text": [
      "Warning: Overfitting detector is active, thus evaluation metric is calculated on every iteration. 'metric_period' is ignored for evaluation metric.\n"
     ]
    },
    {
     "name": "stdout",
     "output_type": "stream",
     "text": [
      "0:\tlearn: 0.6659375\ttest: 0.6722952\tbest: 0.6722952 (0)\ttotal: 905ms\tremaining: 2h 36s\n",
      "50:\tlearn: 0.7059375\ttest: 0.6904315\tbest: 0.6929331 (47)\ttotal: 47.1s\tremaining: 2h 2m 27s\n",
      "100:\tlearn: 0.7201563\ttest: 0.6941839\tbest: 0.6973108 (88)\ttotal: 1m 35s\tremaining: 2h 4m 12s\n",
      "150:\tlearn: 0.7306250\ttest: 0.7060663\tbest: 0.7060663 (142)\ttotal: 2m 19s\tremaining: 2h 36s\n",
      "200:\tlearn: 0.7414063\ttest: 0.7079425\tbest: 0.7079425 (197)\ttotal: 3m 5s\tremaining: 1h 59m 40s\n",
      "250:\tlearn: 0.7559375\ttest: 0.7085679\tbest: 0.7123202 (227)\ttotal: 3m 49s\tremaining: 1h 58m 6s\n",
      "300:\tlearn: 0.7671875\ttest: 0.7116948\tbest: 0.7123202 (227)\ttotal: 4m 32s\tremaining: 1h 56m 19s\n",
      "350:\tlearn: 0.7756250\ttest: 0.7110694\tbest: 0.7123202 (227)\ttotal: 5m 13s\tremaining: 1h 53m 43s\n",
      "400:\tlearn: 0.7845313\ttest: 0.7129456\tbest: 0.7135710 (395)\ttotal: 6m 1s\tremaining: 1h 54m 4s\n",
      "450:\tlearn: 0.7928125\ttest: 0.7116948\tbest: 0.7141964 (420)\ttotal: 6m 48s\tremaining: 1h 53m 56s\n",
      "500:\tlearn: 0.7979688\ttest: 0.7116948\tbest: 0.7141964 (420)\ttotal: 7m 31s\tremaining: 1h 52m 30s\n",
      "550:\tlearn: 0.8037500\ttest: 0.7110694\tbest: 0.7141964 (420)\ttotal: 8m 13s\tremaining: 1h 51m 7s\n",
      "600:\tlearn: 0.8089063\ttest: 0.7123202\tbest: 0.7141964 (420)\ttotal: 8m 52s\tremaining: 1h 49m 21s\n",
      "650:\tlearn: 0.8125000\ttest: 0.7116948\tbest: 0.7141964 (420)\ttotal: 9m 34s\tremaining: 1h 48m 1s\n",
      "700:\tlearn: 0.8148437\ttest: 0.7116948\tbest: 0.7141964 (420)\ttotal: 10m 12s\tremaining: 1h 46m 16s\n",
      "Stopped by overfitting detector  (300 iterations wait)\n",
      "\n",
      "bestTest = 0.7141963727\n",
      "bestIteration = 420\n",
      "\n",
      "Shrink model to first 421 iterations.\n",
      "Accuracy:  0.7141963727329581\n"
     ]
    }
   ],
   "source": [
    "kf = KFold(n_splits=5, shuffle=True, random_state=42)\n",
    "\n",
    "errlgb = []  # Initialize list to store accuracy values\n",
    "y_pred_totlgb = []  # Initialize list to store total predictions\n",
    "\n",
    "for fold_, (train_idx, valid_idx) in enumerate(kf.split(X_train)):\n",
    "    X_train_fold, X_valid_fold = X_train[train_idx], X_train[valid_idx]\n",
    "    y_train_fold, y_valid_fold = y_train.iloc[train_idx], y_train.iloc[valid_idx]\n",
    "    \n",
    "    # Model\n",
    "    catboost_classifier = CatBoostClassifier(iterations=8000,\n",
    "                                            learning_rate=0.055,\n",
    "                                            depth=8,\n",
    "                                            eval_metric='Accuracy',  # Changed to accuracy metric\n",
    "                                            random_seed=42,\n",
    "                                            bagging_temperature=0.2,\n",
    "                                            od_type='Iter',\n",
    "                                            metric_period=50,\n",
    "                                            od_wait=300)\n",
    "    \n",
    "    catboost_classifier.fit(X_train_fold, y_train_fold,\n",
    "                            use_best_model=True,\n",
    "                            eval_set=(X_valid_fold, y_valid_fold),  # Provide validation set for early stopping\n",
    "                            verbose=50)\n",
    "    \n",
    "    y_pred_prob = catboost_classifier.predict_proba(X_test)[:, 1]  # Predict class probabilities\n",
    "    y_pred = np.round(y_pred_prob)  # Convert probabilities to binary predictions\n",
    "    \n",
    "    accuracy = accuracy_score(y_valid_fold, catboost_classifier.predict(X_valid_fold))\n",
    "    print(\"Accuracy: \", accuracy)\n",
    "    errlgb.append(accuracy)\n",
    "    y_pred_totlgb.append(y_pred)"
   ]
  },
  {
   "cell_type": "code",
   "execution_count": 25,
   "metadata": {},
   "outputs": [
    {
     "name": "stdout",
     "output_type": "stream",
     "text": [
      "Fitting 3 folds for each of 16 candidates, totalling 48 fits\n"
     ]
    },
    {
     "name": "stderr",
     "output_type": "stream",
     "text": [
      "Warning: Overfitting detector is active, thus evaluation metric is calculated on every iteration. 'metric_period' is ignored for evaluation metric.\n"
     ]
    },
    {
     "name": "stdout",
     "output_type": "stream",
     "text": [
      "0:\tlearn: 0.6099391\ttest: 0.6203877\tbest: 0.6203877 (0)\ttotal: 85.8ms\tremaining: 8.49s\n",
      "50:\tlearn: 0.6577590\ttest: 0.6616635\tbest: 0.6616635 (49)\ttotal: 3.47s\tremaining: 3.33s\n",
      "99:\tlearn: 0.6685420\ttest: 0.6685428\tbest: 0.6697936 (90)\ttotal: 6.19s\tremaining: 0us\n",
      "\n",
      "bestTest = 0.669793621\n",
      "bestIteration = 90\n",
      "\n",
      "Shrink model to first 91 iterations.\n",
      "[CV] END depth=4, iterations=100, l2_leaf_reg=1, learning_rate=0.01; total time=   7.0s\n"
     ]
    },
    {
     "name": "stderr",
     "output_type": "stream",
     "text": [
      "Warning: Overfitting detector is active, thus evaluation metric is calculated on every iteration. 'metric_period' is ignored for evaluation metric.\n"
     ]
    },
    {
     "name": "stdout",
     "output_type": "stream",
     "text": [
      "0:\tlearn: 0.6229201\ttest: 0.6297686\tbest: 0.6297686 (0)\ttotal: 60.1ms\tremaining: 5.95s\n",
      "50:\tlearn: 0.6545582\ttest: 0.6541588\tbest: 0.6741714 (2)\ttotal: 2.94s\tremaining: 2.83s\n",
      "99:\tlearn: 0.6665104\ttest: 0.6629143\tbest: 0.6741714 (2)\ttotal: 5.69s\tremaining: 0us\n",
      "\n",
      "bestTest = 0.6741713571\n",
      "bestIteration = 2\n",
      "\n",
      "Shrink model to first 3 iterations.\n",
      "[CV] END depth=4, iterations=100, l2_leaf_reg=1, learning_rate=0.01; total time=   6.3s\n"
     ]
    },
    {
     "name": "stderr",
     "output_type": "stream",
     "text": [
      "Warning: Overfitting detector is active, thus evaluation metric is calculated on every iteration. 'metric_period' is ignored for evaluation metric.\n"
     ]
    },
    {
     "name": "stdout",
     "output_type": "stream",
     "text": [
      "0:\tlearn: 0.5615186\ttest: 0.5590994\tbest: 0.5590994 (0)\ttotal: 55.8ms\tremaining: 5.52s\n",
      "50:\tlearn: 0.6667448\ttest: 0.6535335\tbest: 0.6535335 (50)\ttotal: 2.89s\tremaining: 2.77s\n",
      "99:\tlearn: 0.6730724\ttest: 0.6622889\tbest: 0.6654159 (72)\ttotal: 5.51s\tremaining: 0us\n",
      "\n",
      "bestTest = 0.6654158849\n",
      "bestIteration = 72\n",
      "\n",
      "Shrink model to first 73 iterations.\n",
      "[CV] END depth=4, iterations=100, l2_leaf_reg=1, learning_rate=0.01; total time=   6.2s\n"
     ]
    },
    {
     "name": "stderr",
     "output_type": "stream",
     "text": [
      "Warning: Overfitting detector is active, thus evaluation metric is calculated on every iteration. 'metric_period' is ignored for evaluation metric.\n"
     ]
    },
    {
     "name": "stdout",
     "output_type": "stream",
     "text": [
      "0:\tlearn: 0.6099391\ttest: 0.6203877\tbest: 0.6203877 (0)\ttotal: 56.6ms\tremaining: 5.6s\n",
      "50:\tlearn: 0.7006564\ttest: 0.6860538\tbest: 0.6860538 (41)\ttotal: 2.98s\tremaining: 2.86s\n",
      "99:\tlearn: 0.7208158\ttest: 0.7054409\tbest: 0.7060663 (91)\ttotal: 5.75s\tremaining: 0us\n",
      "\n",
      "bestTest = 0.7060662914\n",
      "bestIteration = 91\n",
      "\n",
      "Shrink model to first 92 iterations.\n",
      "[CV] END depth=4, iterations=100, l2_leaf_reg=1, learning_rate=0.1; total time=   6.4s\n"
     ]
    },
    {
     "name": "stderr",
     "output_type": "stream",
     "text": [
      "Warning: Overfitting detector is active, thus evaluation metric is calculated on every iteration. 'metric_period' is ignored for evaluation metric.\n"
     ]
    },
    {
     "name": "stdout",
     "output_type": "stream",
     "text": [
      "0:\tlearn: 0.6229201\ttest: 0.6297686\tbest: 0.6297686 (0)\ttotal: 71.8ms\tremaining: 7.11s\n",
      "50:\tlearn: 0.7079916\ttest: 0.6885553\tbest: 0.6923077 (46)\ttotal: 3.02s\tremaining: 2.9s\n",
      "99:\tlearn: 0.7281462\ttest: 0.6973108\tbest: 0.6979362 (95)\ttotal: 5.7s\tremaining: 0us\n",
      "\n",
      "bestTest = 0.6979362101\n",
      "bestIteration = 95\n",
      "\n",
      "Shrink model to first 96 iterations.\n",
      "[CV] END depth=4, iterations=100, l2_leaf_reg=1, learning_rate=0.1; total time=   6.5s\n"
     ]
    },
    {
     "name": "stderr",
     "output_type": "stream",
     "text": [
      "Warning: Overfitting detector is active, thus evaluation metric is calculated on every iteration. 'metric_period' is ignored for evaluation metric.\n"
     ]
    },
    {
     "name": "stdout",
     "output_type": "stream",
     "text": [
      "0:\tlearn: 0.5615186\ttest: 0.5590994\tbest: 0.5590994 (0)\ttotal: 62.3ms\tremaining: 6.16s\n",
      "50:\tlearn: 0.7054136\ttest: 0.6829268\tbest: 0.6829268 (50)\ttotal: 2.96s\tremaining: 2.84s\n",
      "99:\tlearn: 0.7250996\ttest: 0.6954346\tbest: 0.6954346 (96)\ttotal: 5.66s\tremaining: 0us\n",
      "\n",
      "bestTest = 0.6954346467\n",
      "bestIteration = 96\n",
      "\n",
      "Shrink model to first 97 iterations.\n",
      "[CV] END depth=4, iterations=100, l2_leaf_reg=1, learning_rate=0.1; total time=   6.3s\n"
     ]
    },
    {
     "name": "stderr",
     "output_type": "stream",
     "text": [
      "Warning: Overfitting detector is active, thus evaluation metric is calculated on every iteration. 'metric_period' is ignored for evaluation metric.\n"
     ]
    },
    {
     "name": "stdout",
     "output_type": "stream",
     "text": [
      "0:\tlearn: 0.6099391\ttest: 0.6203877\tbest: 0.6203877 (0)\ttotal: 67.9ms\tremaining: 6.72s\n",
      "50:\tlearn: 0.6589311\ttest: 0.6616635\tbest: 0.6616635 (49)\ttotal: 3.04s\tremaining: 2.92s\n",
      "99:\tlearn: 0.6683075\ttest: 0.6679174\tbest: 0.6679174 (91)\ttotal: 5.98s\tremaining: 0us\n",
      "\n",
      "bestTest = 0.6679174484\n",
      "bestIteration = 91\n",
      "\n",
      "Shrink model to first 92 iterations.\n",
      "[CV] END depth=4, iterations=100, l2_leaf_reg=3, learning_rate=0.01; total time=   6.7s\n"
     ]
    },
    {
     "name": "stderr",
     "output_type": "stream",
     "text": [
      "Warning: Overfitting detector is active, thus evaluation metric is calculated on every iteration. 'metric_period' is ignored for evaluation metric.\n"
     ]
    },
    {
     "name": "stdout",
     "output_type": "stream",
     "text": [
      "0:\tlearn: 0.6229201\ttest: 0.6297686\tbest: 0.6297686 (0)\ttotal: 108ms\tremaining: 10.7s\n",
      "50:\tlearn: 0.6545582\ttest: 0.6535335\tbest: 0.6697936 (2)\ttotal: 3.08s\tremaining: 2.96s\n",
      "99:\tlearn: 0.6641669\ttest: 0.6597874\tbest: 0.6697936 (2)\ttotal: 6.12s\tremaining: 0us\n",
      "\n",
      "bestTest = 0.669793621\n",
      "bestIteration = 2\n",
      "\n",
      "Shrink model to first 3 iterations.\n",
      "[CV] END depth=4, iterations=100, l2_leaf_reg=3, learning_rate=0.01; total time=   7.0s\n"
     ]
    },
    {
     "name": "stderr",
     "output_type": "stream",
     "text": [
      "Warning: Overfitting detector is active, thus evaluation metric is calculated on every iteration. 'metric_period' is ignored for evaluation metric.\n"
     ]
    },
    {
     "name": "stdout",
     "output_type": "stream",
     "text": [
      "0:\tlearn: 0.5615186\ttest: 0.5572233\tbest: 0.5572233 (0)\ttotal: 59.1ms\tremaining: 5.85s\n",
      "50:\tlearn: 0.6658074\ttest: 0.6522827\tbest: 0.6522827 (45)\ttotal: 3.13s\tremaining: 3.01s\n",
      "99:\tlearn: 0.6721350\ttest: 0.6629143\tbest: 0.6654159 (72)\ttotal: 6.6s\tremaining: 0us\n",
      "\n",
      "bestTest = 0.6654158849\n",
      "bestIteration = 72\n",
      "\n",
      "Shrink model to first 73 iterations.\n",
      "[CV] END depth=4, iterations=100, l2_leaf_reg=3, learning_rate=0.01; total time=   7.4s\n"
     ]
    },
    {
     "name": "stderr",
     "output_type": "stream",
     "text": [
      "Warning: Overfitting detector is active, thus evaluation metric is calculated on every iteration. 'metric_period' is ignored for evaluation metric.\n"
     ]
    },
    {
     "name": "stdout",
     "output_type": "stream",
     "text": [
      "0:\tlearn: 0.6099391\ttest: 0.6203877\tbest: 0.6203877 (0)\ttotal: 79.8ms\tremaining: 7.9s\n",
      "50:\tlearn: 0.6987811\ttest: 0.6841776\tbest: 0.6854284 (48)\ttotal: 2.7s\tremaining: 2.6s\n",
      "99:\tlearn: 0.7180028\ttest: 0.6991870\tbest: 0.7010632 (83)\ttotal: 5.44s\tremaining: 0us\n",
      "\n",
      "bestTest = 0.7010631645\n",
      "bestIteration = 83\n",
      "\n",
      "Shrink model to first 84 iterations.\n",
      "[CV] END depth=4, iterations=100, l2_leaf_reg=3, learning_rate=0.1; total time=   6.2s\n"
     ]
    },
    {
     "name": "stderr",
     "output_type": "stream",
     "text": [
      "Warning: Overfitting detector is active, thus evaluation metric is calculated on every iteration. 'metric_period' is ignored for evaluation metric.\n"
     ]
    },
    {
     "name": "stdout",
     "output_type": "stream",
     "text": [
      "0:\tlearn: 0.6229201\ttest: 0.6297686\tbest: 0.6297686 (0)\ttotal: 60.7ms\tremaining: 6.01s\n",
      "50:\tlearn: 0.7037731\ttest: 0.6823014\tbest: 0.6823014 (38)\ttotal: 2.92s\tremaining: 2.81s\n",
      "99:\tlearn: 0.7227560\ttest: 0.6954346\tbest: 0.6985616 (83)\ttotal: 5.51s\tremaining: 0us\n",
      "\n",
      "bestTest = 0.698561601\n",
      "bestIteration = 83\n",
      "\n",
      "Shrink model to first 84 iterations.\n",
      "[CV] END depth=4, iterations=100, l2_leaf_reg=3, learning_rate=0.1; total time=   6.2s\n"
     ]
    },
    {
     "name": "stderr",
     "output_type": "stream",
     "text": [
      "Warning: Overfitting detector is active, thus evaluation metric is calculated on every iteration. 'metric_period' is ignored for evaluation metric.\n"
     ]
    },
    {
     "name": "stdout",
     "output_type": "stream",
     "text": [
      "0:\tlearn: 0.5615186\ttest: 0.5572233\tbest: 0.5572233 (0)\ttotal: 53.9ms\tremaining: 5.33s\n",
      "50:\tlearn: 0.7037731\ttest: 0.6841776\tbest: 0.6841776 (50)\ttotal: 2.88s\tremaining: 2.77s\n",
      "99:\tlearn: 0.7215843\ttest: 0.6904315\tbest: 0.6935585 (93)\ttotal: 5.58s\tremaining: 0us\n",
      "\n",
      "bestTest = 0.693558474\n",
      "bestIteration = 93\n",
      "\n",
      "Shrink model to first 94 iterations.\n",
      "[CV] END depth=4, iterations=100, l2_leaf_reg=3, learning_rate=0.1; total time=   6.2s\n"
     ]
    },
    {
     "name": "stderr",
     "output_type": "stream",
     "text": [
      "Warning: Overfitting detector is active, thus evaluation metric is calculated on every iteration. 'metric_period' is ignored for evaluation metric.\n"
     ]
    },
    {
     "name": "stdout",
     "output_type": "stream",
     "text": [
      "0:\tlearn: 0.6099391\ttest: 0.6203877\tbest: 0.6203877 (0)\ttotal: 184ms\tremaining: 36.7s\n",
      "50:\tlearn: 0.6577590\ttest: 0.6616635\tbest: 0.6616635 (49)\ttotal: 4.07s\tremaining: 11.9s\n",
      "100:\tlearn: 0.6690108\ttest: 0.6685428\tbest: 0.6697936 (90)\ttotal: 7.34s\tremaining: 7.2s\n",
      "150:\tlearn: 0.6711205\ttest: 0.6697936\tbest: 0.6704190 (127)\ttotal: 10.4s\tremaining: 3.37s\n",
      "199:\tlearn: 0.6734646\ttest: 0.6716698\tbest: 0.6722952 (180)\ttotal: 13s\tremaining: 0us\n",
      "\n",
      "bestTest = 0.6722951845\n",
      "bestIteration = 180\n",
      "\n",
      "Shrink model to first 181 iterations.\n",
      "[CV] END depth=4, iterations=200, l2_leaf_reg=1, learning_rate=0.01; total time=  13.8s\n"
     ]
    },
    {
     "name": "stderr",
     "output_type": "stream",
     "text": [
      "Warning: Overfitting detector is active, thus evaluation metric is calculated on every iteration. 'metric_period' is ignored for evaluation metric.\n"
     ]
    },
    {
     "name": "stdout",
     "output_type": "stream",
     "text": [
      "0:\tlearn: 0.6229201\ttest: 0.6297686\tbest: 0.6297686 (0)\ttotal: 57.6ms\tremaining: 11.5s\n",
      "50:\tlearn: 0.6545582\ttest: 0.6541588\tbest: 0.6741714 (2)\ttotal: 2.92s\tremaining: 8.54s\n",
      "100:\tlearn: 0.6667448\ttest: 0.6629143\tbest: 0.6741714 (2)\ttotal: 6.25s\tremaining: 6.13s\n",
      "150:\tlearn: 0.6733068\ttest: 0.6710444\tbest: 0.6741714 (2)\ttotal: 9.45s\tremaining: 3.07s\n",
      "199:\tlearn: 0.6817436\ttest: 0.6760475\tbest: 0.6760475 (169)\ttotal: 12.5s\tremaining: 0us\n",
      "\n",
      "bestTest = 0.6760475297\n",
      "bestIteration = 169\n",
      "\n",
      "Shrink model to first 170 iterations.\n",
      "[CV] END depth=4, iterations=200, l2_leaf_reg=1, learning_rate=0.01; total time=  13.3s\n"
     ]
    },
    {
     "name": "stderr",
     "output_type": "stream",
     "text": [
      "Warning: Overfitting detector is active, thus evaluation metric is calculated on every iteration. 'metric_period' is ignored for evaluation metric.\n"
     ]
    },
    {
     "name": "stdout",
     "output_type": "stream",
     "text": [
      "0:\tlearn: 0.5615186\ttest: 0.5590994\tbest: 0.5590994 (0)\ttotal: 83.8ms\tremaining: 16.7s\n",
      "50:\tlearn: 0.6667448\ttest: 0.6535335\tbest: 0.6535335 (50)\ttotal: 3.53s\tremaining: 10.3s\n",
      "100:\tlearn: 0.6726037\ttest: 0.6622889\tbest: 0.6654159 (72)\ttotal: 6.25s\tremaining: 6.13s\n",
      "150:\tlearn: 0.6794000\ttest: 0.6697936\tbest: 0.6697936 (146)\ttotal: 8.94s\tremaining: 2.9s\n",
      "199:\tlearn: 0.6864307\ttest: 0.6729206\tbest: 0.6741714 (171)\ttotal: 11.5s\tremaining: 0us\n",
      "\n",
      "bestTest = 0.6741713571\n",
      "bestIteration = 171\n",
      "\n",
      "Shrink model to first 172 iterations.\n",
      "[CV] END depth=4, iterations=200, l2_leaf_reg=1, learning_rate=0.01; total time=  12.8s\n"
     ]
    },
    {
     "name": "stderr",
     "output_type": "stream",
     "text": [
      "Warning: Overfitting detector is active, thus evaluation metric is calculated on every iteration. 'metric_period' is ignored for evaluation metric.\n"
     ]
    },
    {
     "name": "stdout",
     "output_type": "stream",
     "text": [
      "0:\tlearn: 0.6099391\ttest: 0.6203877\tbest: 0.6203877 (0)\ttotal: 57.2ms\tremaining: 11.4s\n",
      "50:\tlearn: 0.7006564\ttest: 0.6860538\tbest: 0.6860538 (41)\ttotal: 2.61s\tremaining: 7.61s\n",
      "100:\tlearn: 0.7203469\ttest: 0.7035647\tbest: 0.7060663 (91)\ttotal: 5.19s\tremaining: 5.09s\n",
      "150:\tlearn: 0.7386310\ttest: 0.7010632\tbest: 0.7060663 (91)\ttotal: 8.07s\tremaining: 2.62s\n",
      "199:\tlearn: 0.7592593\ttest: 0.7079425\tbest: 0.7085679 (193)\ttotal: 10.8s\tremaining: 0us\n",
      "\n",
      "bestTest = 0.7085678549\n",
      "bestIteration = 193\n",
      "\n",
      "Shrink model to first 194 iterations.\n",
      "[CV] END depth=4, iterations=200, l2_leaf_reg=1, learning_rate=0.1; total time=  11.7s\n"
     ]
    },
    {
     "name": "stderr",
     "output_type": "stream",
     "text": [
      "Warning: Overfitting detector is active, thus evaluation metric is calculated on every iteration. 'metric_period' is ignored for evaluation metric.\n"
     ]
    },
    {
     "name": "stdout",
     "output_type": "stream",
     "text": [
      "0:\tlearn: 0.6229201\ttest: 0.6297686\tbest: 0.6297686 (0)\ttotal: 53.4ms\tremaining: 10.6s\n",
      "50:\tlearn: 0.7079916\ttest: 0.6885553\tbest: 0.6923077 (46)\ttotal: 2.87s\tremaining: 8.37s\n",
      "100:\tlearn: 0.7274432\ttest: 0.6973108\tbest: 0.6979362 (95)\ttotal: 5.69s\tremaining: 5.58s\n",
      "150:\tlearn: 0.7478322\ttest: 0.7029393\tbest: 0.7029393 (144)\ttotal: 8.71s\tremaining: 2.83s\n",
      "199:\tlearn: 0.7600187\ttest: 0.7066917\tbest: 0.7073171 (195)\ttotal: 11.8s\tremaining: 0us\n",
      "\n",
      "bestTest = 0.7073170732\n",
      "bestIteration = 195\n",
      "\n",
      "Shrink model to first 196 iterations.\n",
      "[CV] END depth=4, iterations=200, l2_leaf_reg=1, learning_rate=0.1; total time=  12.5s\n"
     ]
    },
    {
     "name": "stderr",
     "output_type": "stream",
     "text": [
      "Warning: Overfitting detector is active, thus evaluation metric is calculated on every iteration. 'metric_period' is ignored for evaluation metric.\n"
     ]
    },
    {
     "name": "stdout",
     "output_type": "stream",
     "text": [
      "0:\tlearn: 0.5615186\ttest: 0.5590994\tbest: 0.5590994 (0)\ttotal: 69.7ms\tremaining: 13.9s\n",
      "50:\tlearn: 0.7054136\ttest: 0.6829268\tbest: 0.6829268 (50)\ttotal: 3.35s\tremaining: 9.8s\n",
      "100:\tlearn: 0.7250996\ttest: 0.6954346\tbest: 0.6954346 (96)\ttotal: 6.44s\tremaining: 6.31s\n",
      "150:\tlearn: 0.7436138\ttest: 0.6923077\tbest: 0.6960600 (102)\ttotal: 9.13s\tremaining: 2.96s\n",
      "199:\tlearn: 0.7583783\ttest: 0.6966854\tbest: 0.6966854 (199)\ttotal: 12s\tremaining: 0us\n",
      "\n",
      "bestTest = 0.6966854284\n",
      "bestIteration = 199\n",
      "\n",
      "[CV] END depth=4, iterations=200, l2_leaf_reg=1, learning_rate=0.1; total time=  12.6s\n"
     ]
    },
    {
     "name": "stderr",
     "output_type": "stream",
     "text": [
      "Warning: Overfitting detector is active, thus evaluation metric is calculated on every iteration. 'metric_period' is ignored for evaluation metric.\n"
     ]
    },
    {
     "name": "stdout",
     "output_type": "stream",
     "text": [
      "0:\tlearn: 0.6099391\ttest: 0.6203877\tbest: 0.6203877 (0)\ttotal: 49ms\tremaining: 9.76s\n",
      "50:\tlearn: 0.6589311\ttest: 0.6616635\tbest: 0.6616635 (49)\ttotal: 3.21s\tremaining: 9.38s\n",
      "100:\tlearn: 0.6683075\ttest: 0.6672921\tbest: 0.6679174 (91)\ttotal: 6.13s\tremaining: 6.01s\n",
      "150:\tlearn: 0.6704173\ttest: 0.6704190\tbest: 0.6710444 (142)\ttotal: 8.96s\tremaining: 2.9s\n",
      "199:\tlearn: 0.6718237\ttest: 0.6722952\tbest: 0.6729206 (183)\ttotal: 11.7s\tremaining: 0us\n",
      "\n",
      "bestTest = 0.6729205754\n",
      "bestIteration = 183\n",
      "\n",
      "Shrink model to first 184 iterations.\n",
      "[CV] END depth=4, iterations=200, l2_leaf_reg=3, learning_rate=0.01; total time=  12.3s\n"
     ]
    },
    {
     "name": "stderr",
     "output_type": "stream",
     "text": [
      "Warning: Overfitting detector is active, thus evaluation metric is calculated on every iteration. 'metric_period' is ignored for evaluation metric.\n"
     ]
    },
    {
     "name": "stdout",
     "output_type": "stream",
     "text": [
      "0:\tlearn: 0.6229201\ttest: 0.6297686\tbest: 0.6297686 (0)\ttotal: 138ms\tremaining: 27.5s\n",
      "50:\tlearn: 0.6545582\ttest: 0.6535335\tbest: 0.6697936 (2)\ttotal: 3.04s\tremaining: 8.87s\n",
      "100:\tlearn: 0.6641669\ttest: 0.6597874\tbest: 0.6697936 (2)\ttotal: 5.79s\tremaining: 5.68s\n",
      "150:\tlearn: 0.6721350\ttest: 0.6691682\tbest: 0.6704190 (145)\ttotal: 8.49s\tremaining: 2.76s\n",
      "199:\tlearn: 0.6784626\ttest: 0.6747967\tbest: 0.6754221 (194)\ttotal: 11.3s\tremaining: 0us\n",
      "\n",
      "bestTest = 0.6754221388\n",
      "bestIteration = 194\n",
      "\n",
      "Shrink model to first 195 iterations.\n",
      "[CV] END depth=4, iterations=200, l2_leaf_reg=3, learning_rate=0.01; total time=  12.0s\n"
     ]
    },
    {
     "name": "stderr",
     "output_type": "stream",
     "text": [
      "Warning: Overfitting detector is active, thus evaluation metric is calculated on every iteration. 'metric_period' is ignored for evaluation metric.\n"
     ]
    },
    {
     "name": "stdout",
     "output_type": "stream",
     "text": [
      "0:\tlearn: 0.5615186\ttest: 0.5572233\tbest: 0.5572233 (0)\ttotal: 60.7ms\tremaining: 12.1s\n",
      "50:\tlearn: 0.6658074\ttest: 0.6522827\tbest: 0.6522827 (45)\ttotal: 3s\tremaining: 8.75s\n",
      "100:\tlearn: 0.6719006\ttest: 0.6622889\tbest: 0.6654159 (72)\ttotal: 5.78s\tremaining: 5.67s\n",
      "150:\tlearn: 0.6794000\ttest: 0.6679174\tbest: 0.6691682 (146)\ttotal: 8.54s\tremaining: 2.77s\n",
      "199:\tlearn: 0.6852590\ttest: 0.6729206\tbest: 0.6729206 (184)\ttotal: 11.1s\tremaining: 0us\n",
      "\n",
      "bestTest = 0.6729205754\n",
      "bestIteration = 184\n",
      "\n",
      "Shrink model to first 185 iterations.\n",
      "[CV] END depth=4, iterations=200, l2_leaf_reg=3, learning_rate=0.01; total time=  11.8s\n"
     ]
    },
    {
     "name": "stderr",
     "output_type": "stream",
     "text": [
      "Warning: Overfitting detector is active, thus evaluation metric is calculated on every iteration. 'metric_period' is ignored for evaluation metric.\n"
     ]
    },
    {
     "name": "stdout",
     "output_type": "stream",
     "text": [
      "0:\tlearn: 0.6099391\ttest: 0.6203877\tbest: 0.6203877 (0)\ttotal: 61.9ms\tremaining: 12.3s\n",
      "50:\tlearn: 0.6987811\ttest: 0.6841776\tbest: 0.6854284 (48)\ttotal: 2.96s\tremaining: 8.64s\n",
      "100:\tlearn: 0.7196437\ttest: 0.6985616\tbest: 0.7010632 (83)\ttotal: 5.66s\tremaining: 5.55s\n",
      "150:\tlearn: 0.7337084\ttest: 0.7035647\tbest: 0.7048155 (138)\ttotal: 8.31s\tremaining: 2.69s\n",
      "199:\tlearn: 0.7480075\ttest: 0.7079425\tbest: 0.7085679 (197)\ttotal: 10.8s\tremaining: 0us\n",
      "\n",
      "bestTest = 0.7085678549\n",
      "bestIteration = 197\n",
      "\n",
      "Shrink model to first 198 iterations.\n",
      "[CV] END depth=4, iterations=200, l2_leaf_reg=3, learning_rate=0.1; total time=  11.5s\n"
     ]
    },
    {
     "name": "stderr",
     "output_type": "stream",
     "text": [
      "Warning: Overfitting detector is active, thus evaluation metric is calculated on every iteration. 'metric_period' is ignored for evaluation metric.\n"
     ]
    },
    {
     "name": "stdout",
     "output_type": "stream",
     "text": [
      "0:\tlearn: 0.6229201\ttest: 0.6297686\tbest: 0.6297686 (0)\ttotal: 57.9ms\tremaining: 11.5s\n",
      "50:\tlearn: 0.7037731\ttest: 0.6823014\tbest: 0.6823014 (38)\ttotal: 2.85s\tremaining: 8.32s\n",
      "100:\tlearn: 0.7234591\ttest: 0.6960600\tbest: 0.6985616 (83)\ttotal: 5.43s\tremaining: 5.32s\n",
      "150:\tlearn: 0.7417389\ttest: 0.7016886\tbest: 0.7035647 (126)\ttotal: 8.26s\tremaining: 2.68s\n",
      "199:\tlearn: 0.7497071\ttest: 0.7060663\tbest: 0.7066917 (197)\ttotal: 10.9s\tremaining: 0us\n",
      "\n",
      "bestTest = 0.7066916823\n",
      "bestIteration = 197\n",
      "\n",
      "Shrink model to first 198 iterations.\n",
      "[CV] END depth=4, iterations=200, l2_leaf_reg=3, learning_rate=0.1; total time=  11.5s\n"
     ]
    },
    {
     "name": "stderr",
     "output_type": "stream",
     "text": [
      "Warning: Overfitting detector is active, thus evaluation metric is calculated on every iteration. 'metric_period' is ignored for evaluation metric.\n"
     ]
    },
    {
     "name": "stdout",
     "output_type": "stream",
     "text": [
      "0:\tlearn: 0.5615186\ttest: 0.5572233\tbest: 0.5572233 (0)\ttotal: 54.6ms\tremaining: 10.9s\n",
      "50:\tlearn: 0.7037731\ttest: 0.6841776\tbest: 0.6841776 (50)\ttotal: 2.8s\tremaining: 8.19s\n",
      "100:\tlearn: 0.7241622\ttest: 0.6898061\tbest: 0.6935585 (93)\ttotal: 5.43s\tremaining: 5.33s\n",
      "150:\tlearn: 0.7361144\ttest: 0.6929331\tbest: 0.6948093 (107)\ttotal: 8.05s\tremaining: 2.61s\n",
      "199:\tlearn: 0.7480666\ttest: 0.6966854\tbest: 0.6966854 (199)\ttotal: 10.6s\tremaining: 0us\n",
      "\n",
      "bestTest = 0.6966854284\n",
      "bestIteration = 199\n",
      "\n",
      "[CV] END depth=4, iterations=200, l2_leaf_reg=3, learning_rate=0.1; total time=  11.2s\n"
     ]
    },
    {
     "name": "stderr",
     "output_type": "stream",
     "text": [
      "Warning: Overfitting detector is active, thus evaluation metric is calculated on every iteration. 'metric_period' is ignored for evaluation metric.\n"
     ]
    },
    {
     "name": "stdout",
     "output_type": "stream",
     "text": [
      "0:\tlearn: 0.6509611\ttest: 0.6654159\tbest: 0.6654159 (0)\ttotal: 173ms\tremaining: 17.1s\n",
      "50:\tlearn: 0.6636193\ttest: 0.6635397\tbest: 0.6722952 (2)\ttotal: 7.31s\tremaining: 7.02s\n",
      "99:\tlearn: 0.6715893\ttest: 0.6672921\tbest: 0.6722952 (2)\ttotal: 14s\tremaining: 0us\n",
      "\n",
      "bestTest = 0.6722951845\n",
      "bestIteration = 2\n",
      "\n",
      "Shrink model to first 3 iterations.\n",
      "[CV] END depth=6, iterations=100, l2_leaf_reg=1, learning_rate=0.01; total time=  14.7s\n"
     ]
    },
    {
     "name": "stderr",
     "output_type": "stream",
     "text": [
      "Warning: Overfitting detector is active, thus evaluation metric is calculated on every iteration. 'metric_period' is ignored for evaluation metric.\n"
     ]
    },
    {
     "name": "stdout",
     "output_type": "stream",
     "text": [
      "0:\tlearn: 0.6348723\ttest: 0.6416510\tbest: 0.6416510 (0)\ttotal: 154ms\tremaining: 15.3s\n",
      "50:\tlearn: 0.6709632\ttest: 0.6722952\tbest: 0.6760475 (12)\ttotal: 7.15s\tremaining: 6.87s\n",
      "99:\tlearn: 0.6829154\ttest: 0.6710444\tbest: 0.6760475 (12)\ttotal: 13.6s\tremaining: 0us\n",
      "\n",
      "bestTest = 0.6760475297\n",
      "bestIteration = 12\n",
      "\n",
      "Shrink model to first 13 iterations.\n",
      "[CV] END depth=6, iterations=100, l2_leaf_reg=1, learning_rate=0.01; total time=  14.2s\n"
     ]
    },
    {
     "name": "stderr",
     "output_type": "stream",
     "text": [
      "Warning: Overfitting detector is active, thus evaluation metric is calculated on every iteration. 'metric_period' is ignored for evaluation metric.\n"
     ]
    },
    {
     "name": "stdout",
     "output_type": "stream",
     "text": [
      "0:\tlearn: 0.6187017\ttest: 0.6153846\tbest: 0.6153846 (0)\ttotal: 147ms\tremaining: 14.6s\n",
      "50:\tlearn: 0.6688540\ttest: 0.6616635\tbest: 0.6660413 (16)\ttotal: 7.12s\tremaining: 6.84s\n",
      "99:\tlearn: 0.6854933\ttest: 0.6704190\tbest: 0.6741714 (90)\ttotal: 13.9s\tremaining: 0us\n",
      "\n",
      "bestTest = 0.6741713571\n",
      "bestIteration = 90\n",
      "\n",
      "Shrink model to first 91 iterations.\n",
      "[CV] END depth=6, iterations=100, l2_leaf_reg=1, learning_rate=0.01; total time=  14.7s\n"
     ]
    },
    {
     "name": "stderr",
     "output_type": "stream",
     "text": [
      "Warning: Overfitting detector is active, thus evaluation metric is calculated on every iteration. 'metric_period' is ignored for evaluation metric.\n"
     ]
    },
    {
     "name": "stdout",
     "output_type": "stream",
     "text": [
      "0:\tlearn: 0.6509611\ttest: 0.6654159\tbest: 0.6654159 (0)\ttotal: 153ms\tremaining: 15.2s\n",
      "50:\tlearn: 0.7128458\ttest: 0.6979362\tbest: 0.6998124 (49)\ttotal: 7.01s\tremaining: 6.74s\n",
      "99:\tlearn: 0.7351149\ttest: 0.7016886\tbest: 0.7029393 (94)\ttotal: 13.8s\tremaining: 0us\n",
      "\n",
      "bestTest = 0.7029393371\n",
      "bestIteration = 94\n",
      "\n",
      "Shrink model to first 95 iterations.\n",
      "[CV] END depth=6, iterations=100, l2_leaf_reg=1, learning_rate=0.1; total time=  14.5s\n"
     ]
    },
    {
     "name": "stderr",
     "output_type": "stream",
     "text": [
      "Warning: Overfitting detector is active, thus evaluation metric is calculated on every iteration. 'metric_period' is ignored for evaluation metric.\n"
     ]
    },
    {
     "name": "stdout",
     "output_type": "stream",
     "text": [
      "0:\tlearn: 0.6348723\ttest: 0.6416510\tbest: 0.6416510 (0)\ttotal: 135ms\tremaining: 13.4s\n",
      "50:\tlearn: 0.7178345\ttest: 0.6879300\tbest: 0.6898061 (30)\ttotal: 6.78s\tremaining: 6.51s\n",
      "99:\tlearn: 0.7424420\ttest: 0.7010632\tbest: 0.7016886 (98)\ttotal: 13.5s\tremaining: 0us\n",
      "\n",
      "bestTest = 0.7016885553\n",
      "bestIteration = 98\n",
      "\n",
      "Shrink model to first 99 iterations.\n",
      "[CV] END depth=6, iterations=100, l2_leaf_reg=1, learning_rate=0.1; total time=  14.2s\n"
     ]
    },
    {
     "name": "stderr",
     "output_type": "stream",
     "text": [
      "Warning: Overfitting detector is active, thus evaluation metric is calculated on every iteration. 'metric_period' is ignored for evaluation metric.\n"
     ]
    },
    {
     "name": "stdout",
     "output_type": "stream",
     "text": [
      "0:\tlearn: 0.6187017\ttest: 0.6153846\tbest: 0.6153846 (0)\ttotal: 147ms\tremaining: 14.6s\n",
      "50:\tlearn: 0.7176002\ttest: 0.6948093\tbest: 0.6960600 (48)\ttotal: 7.12s\tremaining: 6.84s\n",
      "99:\tlearn: 0.7426764\ttest: 0.7029393\tbest: 0.7029393 (99)\ttotal: 13.7s\tremaining: 0us\n",
      "\n",
      "bestTest = 0.7029393371\n",
      "bestIteration = 99\n",
      "\n",
      "[CV] END depth=6, iterations=100, l2_leaf_reg=1, learning_rate=0.1; total time=  14.3s\n"
     ]
    },
    {
     "name": "stderr",
     "output_type": "stream",
     "text": [
      "Warning: Overfitting detector is active, thus evaluation metric is calculated on every iteration. 'metric_period' is ignored for evaluation metric.\n"
     ]
    },
    {
     "name": "stdout",
     "output_type": "stream",
     "text": [
      "0:\tlearn: 0.6509611\ttest: 0.6654159\tbest: 0.6654159 (0)\ttotal: 142ms\tremaining: 14.1s\n",
      "50:\tlearn: 0.6622128\ttest: 0.6616635\tbest: 0.6722952 (2)\ttotal: 6.98s\tremaining: 6.71s\n",
      "99:\tlearn: 0.6704173\ttest: 0.6672921\tbest: 0.6722952 (2)\ttotal: 13.5s\tremaining: 0us\n",
      "\n",
      "bestTest = 0.6722951845\n",
      "bestIteration = 2\n",
      "\n",
      "Shrink model to first 3 iterations.\n",
      "[CV] END depth=6, iterations=100, l2_leaf_reg=3, learning_rate=0.01; total time=  14.1s\n"
     ]
    },
    {
     "name": "stderr",
     "output_type": "stream",
     "text": [
      "Warning: Overfitting detector is active, thus evaluation metric is calculated on every iteration. 'metric_period' is ignored for evaluation metric.\n"
     ]
    },
    {
     "name": "stdout",
     "output_type": "stream",
     "text": [
      "0:\tlearn: 0.6348723\ttest: 0.6404003\tbest: 0.6404003 (0)\ttotal: 141ms\tremaining: 13.9s\n",
      "50:\tlearn: 0.6681509\ttest: 0.6654159\tbest: 0.6760475 (12)\ttotal: 6.84s\tremaining: 6.58s\n",
      "99:\tlearn: 0.6801031\ttest: 0.6722952\tbest: 0.6760475 (12)\ttotal: 13.3s\tremaining: 0us\n",
      "\n",
      "bestTest = 0.6760475297\n",
      "bestIteration = 12\n",
      "\n",
      "Shrink model to first 13 iterations.\n",
      "[CV] END depth=6, iterations=100, l2_leaf_reg=3, learning_rate=0.01; total time=  13.9s\n"
     ]
    },
    {
     "name": "stderr",
     "output_type": "stream",
     "text": [
      "Warning: Overfitting detector is active, thus evaluation metric is calculated on every iteration. 'metric_period' is ignored for evaluation metric.\n"
     ]
    },
    {
     "name": "stdout",
     "output_type": "stream",
     "text": [
      "0:\tlearn: 0.6187017\ttest: 0.6160100\tbest: 0.6160100 (0)\ttotal: 145ms\tremaining: 14.4s\n",
      "50:\tlearn: 0.6695571\ttest: 0.6610381\tbest: 0.6647905 (16)\ttotal: 6.8s\tremaining: 6.53s\n",
      "99:\tlearn: 0.6805718\ttest: 0.6710444\tbest: 0.6710444 (96)\ttotal: 13.2s\tremaining: 0us\n",
      "\n",
      "bestTest = 0.6710444028\n",
      "bestIteration = 96\n",
      "\n",
      "Shrink model to first 97 iterations.\n",
      "[CV] END depth=6, iterations=100, l2_leaf_reg=3, learning_rate=0.01; total time=  13.8s\n"
     ]
    },
    {
     "name": "stderr",
     "output_type": "stream",
     "text": [
      "Warning: Overfitting detector is active, thus evaluation metric is calculated on every iteration. 'metric_period' is ignored for evaluation metric.\n"
     ]
    },
    {
     "name": "stdout",
     "output_type": "stream",
     "text": [
      "0:\tlearn: 0.6509611\ttest: 0.6654159\tbest: 0.6654159 (0)\ttotal: 145ms\tremaining: 14.3s\n",
      "50:\tlearn: 0.7105016\ttest: 0.6991870\tbest: 0.6991870 (50)\ttotal: 6.77s\tremaining: 6.51s\n",
      "99:\tlearn: 0.7276137\ttest: 0.7004378\tbest: 0.7029393 (96)\ttotal: 13s\tremaining: 0us\n",
      "\n",
      "bestTest = 0.7029393371\n",
      "bestIteration = 96\n",
      "\n",
      "Shrink model to first 97 iterations.\n",
      "[CV] END depth=6, iterations=100, l2_leaf_reg=3, learning_rate=0.1; total time=  13.7s\n"
     ]
    },
    {
     "name": "stderr",
     "output_type": "stream",
     "text": [
      "Warning: Overfitting detector is active, thus evaluation metric is calculated on every iteration. 'metric_period' is ignored for evaluation metric.\n"
     ]
    },
    {
     "name": "stdout",
     "output_type": "stream",
     "text": [
      "0:\tlearn: 0.6348723\ttest: 0.6404003\tbest: 0.6404003 (0)\ttotal: 137ms\tremaining: 13.5s\n",
      "50:\tlearn: 0.7112726\ttest: 0.6841776\tbest: 0.6885553 (35)\ttotal: 7.09s\tremaining: 6.81s\n",
      "99:\tlearn: 0.7300211\ttest: 0.6923077\tbest: 0.6948093 (91)\ttotal: 13.6s\tremaining: 0us\n",
      "\n",
      "bestTest = 0.6948092558\n",
      "bestIteration = 91\n",
      "\n",
      "Shrink model to first 92 iterations.\n",
      "[CV] END depth=6, iterations=100, l2_leaf_reg=3, learning_rate=0.1; total time=  14.4s\n"
     ]
    },
    {
     "name": "stderr",
     "output_type": "stream",
     "text": [
      "Warning: Overfitting detector is active, thus evaluation metric is calculated on every iteration. 'metric_period' is ignored for evaluation metric.\n"
     ]
    },
    {
     "name": "stdout",
     "output_type": "stream",
     "text": [
      "0:\tlearn: 0.6187017\ttest: 0.6160100\tbest: 0.6160100 (0)\ttotal: 142ms\tremaining: 14.1s\n",
      "50:\tlearn: 0.7136161\ttest: 0.6904315\tbest: 0.6916823 (47)\ttotal: 6.92s\tremaining: 6.64s\n",
      "99:\tlearn: 0.7344739\ttest: 0.6960600\tbest: 0.7010632 (81)\ttotal: 13.4s\tremaining: 0us\n",
      "\n",
      "bestTest = 0.7010631645\n",
      "bestIteration = 81\n",
      "\n",
      "Shrink model to first 82 iterations.\n",
      "[CV] END depth=6, iterations=100, l2_leaf_reg=3, learning_rate=0.1; total time=  14.1s\n"
     ]
    },
    {
     "name": "stderr",
     "output_type": "stream",
     "text": [
      "Warning: Overfitting detector is active, thus evaluation metric is calculated on every iteration. 'metric_period' is ignored for evaluation metric.\n"
     ]
    },
    {
     "name": "stdout",
     "output_type": "stream",
     "text": [
      "0:\tlearn: 0.6509611\ttest: 0.6654159\tbest: 0.6654159 (0)\ttotal: 155ms\tremaining: 30.9s\n",
      "50:\tlearn: 0.6636193\ttest: 0.6635397\tbest: 0.6722952 (2)\ttotal: 7.18s\tremaining: 21s\n",
      "100:\tlearn: 0.6718237\ttest: 0.6679174\tbest: 0.6722952 (2)\ttotal: 13.9s\tremaining: 13.6s\n",
      "150:\tlearn: 0.6795593\ttest: 0.6760475\tbest: 0.6766729 (145)\ttotal: 20.7s\tremaining: 6.71s\n",
      "199:\tlearn: 0.6847164\ttest: 0.6772983\tbest: 0.6779237 (190)\ttotal: 27.1s\tremaining: 0us\n",
      "\n",
      "bestTest = 0.6779237023\n",
      "bestIteration = 190\n",
      "\n",
      "Shrink model to first 191 iterations.\n",
      "[CV] END depth=6, iterations=200, l2_leaf_reg=1, learning_rate=0.01; total time=  27.8s\n"
     ]
    },
    {
     "name": "stderr",
     "output_type": "stream",
     "text": [
      "Warning: Overfitting detector is active, thus evaluation metric is calculated on every iteration. 'metric_period' is ignored for evaluation metric.\n"
     ]
    },
    {
     "name": "stdout",
     "output_type": "stream",
     "text": [
      "0:\tlearn: 0.6348723\ttest: 0.6416510\tbest: 0.6416510 (0)\ttotal: 143ms\tremaining: 28.4s\n",
      "50:\tlearn: 0.6709632\ttest: 0.6722952\tbest: 0.6760475 (12)\ttotal: 6.92s\tremaining: 20.2s\n",
      "100:\tlearn: 0.6836185\ttest: 0.6710444\tbest: 0.6760475 (12)\ttotal: 13.7s\tremaining: 13.4s\n",
      "150:\tlearn: 0.6908835\ttest: 0.6791745\tbest: 0.6797999 (148)\ttotal: 20.3s\tremaining: 6.57s\n",
      "199:\tlearn: 0.6993204\ttest: 0.6854284\tbest: 0.6866792 (196)\ttotal: 26.8s\tremaining: 0us\n",
      "\n",
      "bestTest = 0.6866791745\n",
      "bestIteration = 196\n",
      "\n",
      "Shrink model to first 197 iterations.\n",
      "[CV] END depth=6, iterations=200, l2_leaf_reg=1, learning_rate=0.01; total time=  27.4s\n"
     ]
    },
    {
     "name": "stderr",
     "output_type": "stream",
     "text": [
      "Warning: Overfitting detector is active, thus evaluation metric is calculated on every iteration. 'metric_period' is ignored for evaluation metric.\n"
     ]
    },
    {
     "name": "stdout",
     "output_type": "stream",
     "text": [
      "0:\tlearn: 0.6187017\ttest: 0.6153846\tbest: 0.6153846 (0)\ttotal: 143ms\tremaining: 28.4s\n",
      "50:\tlearn: 0.6688540\ttest: 0.6616635\tbest: 0.6660413 (16)\ttotal: 6.99s\tremaining: 20.4s\n",
      "100:\tlearn: 0.6852590\ttest: 0.6710444\tbest: 0.6741714 (90)\ttotal: 13.5s\tremaining: 13.2s\n",
      "150:\tlearn: 0.6911179\ttest: 0.6747967\tbest: 0.6754221 (149)\ttotal: 20s\tremaining: 6.49s\n",
      "199:\tlearn: 0.6958050\ttest: 0.6772983\tbest: 0.6772983 (195)\ttotal: 26.4s\tremaining: 0us\n",
      "\n",
      "bestTest = 0.6772983114\n",
      "bestIteration = 195\n",
      "\n",
      "Shrink model to first 196 iterations.\n",
      "[CV] END depth=6, iterations=200, l2_leaf_reg=1, learning_rate=0.01; total time=  27.1s\n"
     ]
    },
    {
     "name": "stderr",
     "output_type": "stream",
     "text": [
      "Warning: Overfitting detector is active, thus evaluation metric is calculated on every iteration. 'metric_period' is ignored for evaluation metric.\n"
     ]
    },
    {
     "name": "stdout",
     "output_type": "stream",
     "text": [
      "0:\tlearn: 0.6509611\ttest: 0.6654159\tbest: 0.6654159 (0)\ttotal: 138ms\tremaining: 27.4s\n",
      "50:\tlearn: 0.7128458\ttest: 0.6979362\tbest: 0.6998124 (49)\ttotal: 7.72s\tremaining: 22.6s\n",
      "100:\tlearn: 0.7353493\ttest: 0.7010632\tbest: 0.7029393 (94)\ttotal: 15.7s\tremaining: 15.4s\n",
      "150:\tlearn: 0.7674637\ttest: 0.7104440\tbest: 0.7104440 (149)\ttotal: 25.6s\tremaining: 8.31s\n",
      "199:\tlearn: 0.7897328\ttest: 0.7073171\tbest: 0.7110694 (156)\ttotal: 33.6s\tremaining: 0us\n",
      "\n",
      "bestTest = 0.7110694184\n",
      "bestIteration = 156\n",
      "\n",
      "Shrink model to first 157 iterations.\n",
      "[CV] END depth=6, iterations=200, l2_leaf_reg=1, learning_rate=0.1; total time=  34.5s\n"
     ]
    },
    {
     "name": "stderr",
     "output_type": "stream",
     "text": [
      "Warning: Overfitting detector is active, thus evaluation metric is calculated on every iteration. 'metric_period' is ignored for evaluation metric.\n"
     ]
    },
    {
     "name": "stdout",
     "output_type": "stream",
     "text": [
      "0:\tlearn: 0.6348723\ttest: 0.6416510\tbest: 0.6416510 (0)\ttotal: 232ms\tremaining: 46.3s\n",
      "50:\tlearn: 0.7178345\ttest: 0.6879300\tbest: 0.6898061 (30)\ttotal: 9.94s\tremaining: 29.1s\n",
      "100:\tlearn: 0.7436138\ttest: 0.7010632\tbest: 0.7016886 (98)\ttotal: 19.4s\tremaining: 19.1s\n",
      "150:\tlearn: 0.7731427\ttest: 0.7110694\tbest: 0.7116948 (149)\ttotal: 29.5s\tremaining: 9.56s\n",
      "199:\tlearn: 0.7897820\ttest: 0.7060663\tbest: 0.7116948 (149)\ttotal: 38.5s\tremaining: 0us\n",
      "\n",
      "bestTest = 0.7116948093\n",
      "bestIteration = 149\n",
      "\n",
      "Shrink model to first 150 iterations.\n",
      "[CV] END depth=6, iterations=200, l2_leaf_reg=1, learning_rate=0.1; total time=  39.5s\n"
     ]
    },
    {
     "name": "stderr",
     "output_type": "stream",
     "text": [
      "Warning: Overfitting detector is active, thus evaluation metric is calculated on every iteration. 'metric_period' is ignored for evaluation metric.\n"
     ]
    },
    {
     "name": "stdout",
     "output_type": "stream",
     "text": [
      "0:\tlearn: 0.6187017\ttest: 0.6153846\tbest: 0.6153846 (0)\ttotal: 292ms\tremaining: 58.1s\n",
      "50:\tlearn: 0.7176002\ttest: 0.6948093\tbest: 0.6960600 (48)\ttotal: 10.6s\tremaining: 30.8s\n",
      "100:\tlearn: 0.7436138\ttest: 0.7023139\tbest: 0.7029393 (99)\ttotal: 19.4s\tremaining: 19s\n",
      "150:\tlearn: 0.7661120\ttest: 0.7016886\tbest: 0.7035647 (104)\ttotal: 28.3s\tremaining: 9.17s\n",
      "199:\tlearn: 0.7900164\ttest: 0.7035647\tbest: 0.7041901 (156)\ttotal: 36.9s\tremaining: 0us\n",
      "\n",
      "bestTest = 0.7041901188\n",
      "bestIteration = 156\n",
      "\n",
      "Shrink model to first 157 iterations.\n",
      "[CV] END depth=6, iterations=200, l2_leaf_reg=1, learning_rate=0.1; total time=  38.0s\n"
     ]
    },
    {
     "name": "stderr",
     "output_type": "stream",
     "text": [
      "Warning: Overfitting detector is active, thus evaluation metric is calculated on every iteration. 'metric_period' is ignored for evaluation metric.\n"
     ]
    },
    {
     "name": "stdout",
     "output_type": "stream",
     "text": [
      "0:\tlearn: 0.6509611\ttest: 0.6654159\tbest: 0.6654159 (0)\ttotal: 206ms\tremaining: 41.1s\n",
      "50:\tlearn: 0.6622128\ttest: 0.6616635\tbest: 0.6722952 (2)\ttotal: 9.31s\tremaining: 27.2s\n",
      "100:\tlearn: 0.6701828\ttest: 0.6679174\tbest: 0.6722952 (2)\ttotal: 18.2s\tremaining: 17.8s\n",
      "150:\tlearn: 0.6769808\ttest: 0.6747967\tbest: 0.6754221 (145)\ttotal: 26.8s\tremaining: 8.69s\n",
      "199:\tlearn: 0.6795593\ttest: 0.6760475\tbest: 0.6766729 (198)\ttotal: 35s\tremaining: 0us\n",
      "\n",
      "bestTest = 0.6766729206\n",
      "bestIteration = 198\n",
      "\n",
      "Shrink model to first 199 iterations.\n",
      "[CV] END depth=6, iterations=200, l2_leaf_reg=3, learning_rate=0.01; total time=  35.8s\n"
     ]
    },
    {
     "name": "stderr",
     "output_type": "stream",
     "text": [
      "Warning: Overfitting detector is active, thus evaluation metric is calculated on every iteration. 'metric_period' is ignored for evaluation metric.\n"
     ]
    },
    {
     "name": "stdout",
     "output_type": "stream",
     "text": [
      "0:\tlearn: 0.6348723\ttest: 0.6404003\tbest: 0.6404003 (0)\ttotal: 192ms\tremaining: 38.1s\n",
      "50:\tlearn: 0.6681509\ttest: 0.6654159\tbest: 0.6760475 (12)\ttotal: 8.41s\tremaining: 24.6s\n",
      "100:\tlearn: 0.6808062\ttest: 0.6710444\tbest: 0.6760475 (12)\ttotal: 18.1s\tremaining: 17.8s\n",
      "150:\tlearn: 0.6859620\ttest: 0.6754221\tbest: 0.6766729 (142)\ttotal: 27.8s\tremaining: 9.01s\n",
      "199:\tlearn: 0.6951019\ttest: 0.6823014\tbest: 0.6829268 (189)\ttotal: 36.7s\tremaining: 0us\n",
      "\n",
      "bestTest = 0.6829268293\n",
      "bestIteration = 189\n",
      "\n",
      "Shrink model to first 190 iterations.\n",
      "[CV] END depth=6, iterations=200, l2_leaf_reg=3, learning_rate=0.01; total time=  38.1s\n"
     ]
    },
    {
     "name": "stderr",
     "output_type": "stream",
     "text": [
      "Warning: Overfitting detector is active, thus evaluation metric is calculated on every iteration. 'metric_period' is ignored for evaluation metric.\n"
     ]
    },
    {
     "name": "stdout",
     "output_type": "stream",
     "text": [
      "0:\tlearn: 0.6187017\ttest: 0.6160100\tbest: 0.6160100 (0)\ttotal: 184ms\tremaining: 36.6s\n",
      "50:\tlearn: 0.6695571\ttest: 0.6610381\tbest: 0.6647905 (16)\ttotal: 8.48s\tremaining: 24.8s\n",
      "100:\tlearn: 0.6805718\ttest: 0.6716698\tbest: 0.6716698 (100)\ttotal: 16s\tremaining: 15.7s\n",
      "150:\tlearn: 0.6890087\ttest: 0.6729206\tbest: 0.6747967 (111)\ttotal: 23.1s\tremaining: 7.5s\n",
      "199:\tlearn: 0.6936958\ttest: 0.6760475\tbest: 0.6760475 (197)\ttotal: 30.3s\tremaining: 0us\n",
      "\n",
      "bestTest = 0.6760475297\n",
      "bestIteration = 197\n",
      "\n",
      "Shrink model to first 198 iterations.\n",
      "[CV] END depth=6, iterations=200, l2_leaf_reg=3, learning_rate=0.01; total time=  31.3s\n"
     ]
    },
    {
     "name": "stderr",
     "output_type": "stream",
     "text": [
      "Warning: Overfitting detector is active, thus evaluation metric is calculated on every iteration. 'metric_period' is ignored for evaluation metric.\n"
     ]
    },
    {
     "name": "stdout",
     "output_type": "stream",
     "text": [
      "0:\tlearn: 0.6509611\ttest: 0.6654159\tbest: 0.6654159 (0)\ttotal: 156ms\tremaining: 31.1s\n",
      "50:\tlearn: 0.7105016\ttest: 0.6991870\tbest: 0.6991870 (50)\ttotal: 8.09s\tremaining: 23.6s\n",
      "100:\tlearn: 0.7266760\ttest: 0.7004378\tbest: 0.7029393 (96)\ttotal: 15.9s\tremaining: 15.6s\n",
      "150:\tlearn: 0.7531646\ttest: 0.7054409\tbest: 0.7060663 (129)\ttotal: 24.8s\tremaining: 8.05s\n",
      "199:\tlearn: 0.7700422\ttest: 0.7110694\tbest: 0.7123202 (190)\ttotal: 34s\tremaining: 0us\n",
      "\n",
      "bestTest = 0.7123202001\n",
      "bestIteration = 190\n",
      "\n",
      "Shrink model to first 191 iterations.\n",
      "[CV] END depth=6, iterations=200, l2_leaf_reg=3, learning_rate=0.1; total time=  34.7s\n"
     ]
    },
    {
     "name": "stderr",
     "output_type": "stream",
     "text": [
      "Warning: Overfitting detector is active, thus evaluation metric is calculated on every iteration. 'metric_period' is ignored for evaluation metric.\n"
     ]
    },
    {
     "name": "stdout",
     "output_type": "stream",
     "text": [
      "0:\tlearn: 0.6348723\ttest: 0.6404003\tbest: 0.6404003 (0)\ttotal: 245ms\tremaining: 48.7s\n",
      "50:\tlearn: 0.7112726\ttest: 0.6841776\tbest: 0.6885553 (35)\ttotal: 8.32s\tremaining: 24.3s\n",
      "100:\tlearn: 0.7309585\ttest: 0.6929331\tbest: 0.6948093 (91)\ttotal: 15.4s\tremaining: 15.1s\n",
      "150:\tlearn: 0.7506445\ttest: 0.7016886\tbest: 0.7023139 (143)\ttotal: 22.6s\tremaining: 7.33s\n",
      "199:\tlearn: 0.7637685\ttest: 0.7041901\tbest: 0.7041901 (185)\ttotal: 29.6s\tremaining: 0us\n",
      "\n",
      "bestTest = 0.7041901188\n",
      "bestIteration = 185\n",
      "\n",
      "Shrink model to first 186 iterations.\n",
      "[CV] END depth=6, iterations=200, l2_leaf_reg=3, learning_rate=0.1; total time=  30.5s\n"
     ]
    },
    {
     "name": "stderr",
     "output_type": "stream",
     "text": [
      "Warning: Overfitting detector is active, thus evaluation metric is calculated on every iteration. 'metric_period' is ignored for evaluation metric.\n"
     ]
    },
    {
     "name": "stdout",
     "output_type": "stream",
     "text": [
      "0:\tlearn: 0.6187017\ttest: 0.6160100\tbest: 0.6160100 (0)\ttotal: 156ms\tremaining: 31s\n",
      "50:\tlearn: 0.7136161\ttest: 0.6904315\tbest: 0.6916823 (47)\ttotal: 8s\tremaining: 23.4s\n",
      "100:\tlearn: 0.7354113\ttest: 0.6960600\tbest: 0.7010632 (81)\ttotal: 15.6s\tremaining: 15.3s\n",
      "150:\tlearn: 0.7553316\ttest: 0.6979362\tbest: 0.7023139 (121)\ttotal: 23.4s\tremaining: 7.6s\n",
      "199:\tlearn: 0.7670494\ttest: 0.7010632\tbest: 0.7035647 (196)\ttotal: 31.3s\tremaining: 0us\n",
      "\n",
      "bestTest = 0.703564728\n",
      "bestIteration = 196\n",
      "\n",
      "Shrink model to first 197 iterations.\n",
      "[CV] END depth=6, iterations=200, l2_leaf_reg=3, learning_rate=0.1; total time=  32.0s\n"
     ]
    },
    {
     "name": "stderr",
     "output_type": "stream",
     "text": [
      "Warning: Overfitting detector is active, thus evaluation metric is calculated on every iteration. 'metric_period' is ignored for evaluation metric.\n"
     ]
    },
    {
     "name": "stdout",
     "output_type": "stream",
     "text": [
      "0:\tlearn: 0.6543750\ttest: 0.6604128\tbest: 0.6604128 (0)\ttotal: 220ms\tremaining: 21.8s\n",
      "50:\tlearn: 0.7150000\ttest: 0.7016886\tbest: 0.7016886 (50)\ttotal: 13.7s\tremaining: 13.2s\n",
      "99:\tlearn: 0.7356250\ttest: 0.7079425\tbest: 0.7085679 (82)\ttotal: 26.9s\tremaining: 0us\n",
      "\n",
      "bestTest = 0.7085678549\n",
      "bestIteration = 82\n",
      "\n",
      "Shrink model to first 83 iterations.\n"
     ]
    },
    {
     "data": {
      "text/html": [
       "<style>#sk-container-id-1 {color: black;}#sk-container-id-1 pre{padding: 0;}#sk-container-id-1 div.sk-toggleable {background-color: white;}#sk-container-id-1 label.sk-toggleable__label {cursor: pointer;display: block;width: 100%;margin-bottom: 0;padding: 0.3em;box-sizing: border-box;text-align: center;}#sk-container-id-1 label.sk-toggleable__label-arrow:before {content: \"▸\";float: left;margin-right: 0.25em;color: #696969;}#sk-container-id-1 label.sk-toggleable__label-arrow:hover:before {color: black;}#sk-container-id-1 div.sk-estimator:hover label.sk-toggleable__label-arrow:before {color: black;}#sk-container-id-1 div.sk-toggleable__content {max-height: 0;max-width: 0;overflow: hidden;text-align: left;background-color: #f0f8ff;}#sk-container-id-1 div.sk-toggleable__content pre {margin: 0.2em;color: black;border-radius: 0.25em;background-color: #f0f8ff;}#sk-container-id-1 input.sk-toggleable__control:checked~div.sk-toggleable__content {max-height: 200px;max-width: 100%;overflow: auto;}#sk-container-id-1 input.sk-toggleable__control:checked~label.sk-toggleable__label-arrow:before {content: \"▾\";}#sk-container-id-1 div.sk-estimator input.sk-toggleable__control:checked~label.sk-toggleable__label {background-color: #d4ebff;}#sk-container-id-1 div.sk-label input.sk-toggleable__control:checked~label.sk-toggleable__label {background-color: #d4ebff;}#sk-container-id-1 input.sk-hidden--visually {border: 0;clip: rect(1px 1px 1px 1px);clip: rect(1px, 1px, 1px, 1px);height: 1px;margin: -1px;overflow: hidden;padding: 0;position: absolute;width: 1px;}#sk-container-id-1 div.sk-estimator {font-family: monospace;background-color: #f0f8ff;border: 1px dotted black;border-radius: 0.25em;box-sizing: border-box;margin-bottom: 0.5em;}#sk-container-id-1 div.sk-estimator:hover {background-color: #d4ebff;}#sk-container-id-1 div.sk-parallel-item::after {content: \"\";width: 100%;border-bottom: 1px solid gray;flex-grow: 1;}#sk-container-id-1 div.sk-label:hover label.sk-toggleable__label {background-color: #d4ebff;}#sk-container-id-1 div.sk-serial::before {content: \"\";position: absolute;border-left: 1px solid gray;box-sizing: border-box;top: 0;bottom: 0;left: 50%;z-index: 0;}#sk-container-id-1 div.sk-serial {display: flex;flex-direction: column;align-items: center;background-color: white;padding-right: 0.2em;padding-left: 0.2em;position: relative;}#sk-container-id-1 div.sk-item {position: relative;z-index: 1;}#sk-container-id-1 div.sk-parallel {display: flex;align-items: stretch;justify-content: center;background-color: white;position: relative;}#sk-container-id-1 div.sk-item::before, #sk-container-id-1 div.sk-parallel-item::before {content: \"\";position: absolute;border-left: 1px solid gray;box-sizing: border-box;top: 0;bottom: 0;left: 50%;z-index: -1;}#sk-container-id-1 div.sk-parallel-item {display: flex;flex-direction: column;z-index: 1;position: relative;background-color: white;}#sk-container-id-1 div.sk-parallel-item:first-child::after {align-self: flex-end;width: 50%;}#sk-container-id-1 div.sk-parallel-item:last-child::after {align-self: flex-start;width: 50%;}#sk-container-id-1 div.sk-parallel-item:only-child::after {width: 0;}#sk-container-id-1 div.sk-dashed-wrapped {border: 1px dashed gray;margin: 0 0.4em 0.5em 0.4em;box-sizing: border-box;padding-bottom: 0.4em;background-color: white;}#sk-container-id-1 div.sk-label label {font-family: monospace;font-weight: bold;display: inline-block;line-height: 1.2em;}#sk-container-id-1 div.sk-label-container {text-align: center;}#sk-container-id-1 div.sk-container {/* jupyter's `normalize.less` sets `[hidden] { display: none; }` but bootstrap.min.css set `[hidden] { display: none !important; }` so we also need the `!important` here to be able to override the default hidden behavior on the sphinx rendered scikit-learn.org. See: https://github.com/scikit-learn/scikit-learn/issues/21755 */display: inline-block !important;position: relative;}#sk-container-id-1 div.sk-text-repr-fallback {display: none;}</style><div id=\"sk-container-id-1\" class=\"sk-top-container\"><div class=\"sk-text-repr-fallback\"><pre>GridSearchCV(cv=3,\n",
       "             estimator=&lt;catboost.core.CatBoostClassifier object at 0x000001A251AF6190&gt;,\n",
       "             param_grid={&#x27;depth&#x27;: [4, 6], &#x27;iterations&#x27;: [100, 200],\n",
       "                         &#x27;l2_leaf_reg&#x27;: [1, 3], &#x27;learning_rate&#x27;: [0.01, 0.1]},\n",
       "             scoring=&#x27;neg_mean_squared_error&#x27;, verbose=2)</pre><b>In a Jupyter environment, please rerun this cell to show the HTML representation or trust the notebook. <br />On GitHub, the HTML representation is unable to render, please try loading this page with nbviewer.org.</b></div><div class=\"sk-container\" hidden><div class=\"sk-item sk-dashed-wrapped\"><div class=\"sk-label-container\"><div class=\"sk-label sk-toggleable\"><input class=\"sk-toggleable__control sk-hidden--visually\" id=\"sk-estimator-id-1\" type=\"checkbox\" ><label for=\"sk-estimator-id-1\" class=\"sk-toggleable__label sk-toggleable__label-arrow\">GridSearchCV</label><div class=\"sk-toggleable__content\"><pre>GridSearchCV(cv=3,\n",
       "             estimator=&lt;catboost.core.CatBoostClassifier object at 0x000001A251AF6190&gt;,\n",
       "             param_grid={&#x27;depth&#x27;: [4, 6], &#x27;iterations&#x27;: [100, 200],\n",
       "                         &#x27;l2_leaf_reg&#x27;: [1, 3], &#x27;learning_rate&#x27;: [0.01, 0.1]},\n",
       "             scoring=&#x27;neg_mean_squared_error&#x27;, verbose=2)</pre></div></div></div><div class=\"sk-parallel\"><div class=\"sk-parallel-item\"><div class=\"sk-item\"><div class=\"sk-label-container\"><div class=\"sk-label sk-toggleable\"><input class=\"sk-toggleable__control sk-hidden--visually\" id=\"sk-estimator-id-2\" type=\"checkbox\" ><label for=\"sk-estimator-id-2\" class=\"sk-toggleable__label sk-toggleable__label-arrow\">estimator: CatBoostClassifier</label><div class=\"sk-toggleable__content\"><pre>&lt;catboost.core.CatBoostClassifier object at 0x000001A251AF6190&gt;</pre></div></div></div><div class=\"sk-serial\"><div class=\"sk-item\"><div class=\"sk-estimator sk-toggleable\"><input class=\"sk-toggleable__control sk-hidden--visually\" id=\"sk-estimator-id-3\" type=\"checkbox\" ><label for=\"sk-estimator-id-3\" class=\"sk-toggleable__label sk-toggleable__label-arrow\">CatBoostClassifier</label><div class=\"sk-toggleable__content\"><pre>&lt;catboost.core.CatBoostClassifier object at 0x000001A251AF6190&gt;</pre></div></div></div></div></div></div></div></div></div></div>"
      ],
      "text/plain": [
       "GridSearchCV(cv=3,\n",
       "             estimator=<catboost.core.CatBoostClassifier object at 0x000001A251AF6190>,\n",
       "             param_grid={'depth': [4, 6], 'iterations': [100, 200],\n",
       "                         'l2_leaf_reg': [1, 3], 'learning_rate': [0.01, 0.1]},\n",
       "             scoring='neg_mean_squared_error', verbose=2)"
      ]
     },
     "execution_count": 25,
     "metadata": {},
     "output_type": "execute_result"
    }
   ],
   "source": [
    "# Perform grid search\n",
    "\n",
    "# Define evaluation set\n",
    "eval_set = [(X_valid_fold, y_valid_fold)]\n",
    "\n",
    "# Define parameter grid for grid search\n",
    "param_grid = {\n",
    "    'iterations': [100, 200],\n",
    "    'learning_rate': [0.01, 0.1],\n",
    "    'depth': [4, 6],\n",
    "    'l2_leaf_reg': [1, 3]\n",
    "}\n",
    "\n",
    "# Initialize CatBoost classifier\n",
    "grid_search = GridSearchCV(estimator=catboost_classifier, param_grid=param_grid, cv=3,\n",
    "                        scoring='neg_mean_squared_error', verbose=2)\n",
    "grid_search.fit(X_train_fold, y_train_fold, eval_set=eval_set)\n"
   ]
  },
  {
   "cell_type": "code",
   "execution_count": 26,
   "metadata": {},
   "outputs": [
    {
     "name": "stdout",
     "output_type": "stream",
     "text": [
      "Fold 5 Best Parameters: {'depth': 6, 'iterations': 100, 'l2_leaf_reg': 1, 'learning_rate': 0.1}\n",
      "Fold 5 Best RMSE: 0.6843128346233013\n"
     ]
    }
   ],
   "source": [
    "#  Print best parameters and corresponding RMSE for each fold\n",
    "print(f\"Fold {fold_ + 1} Best Parameters:\", grid_search.best_params_)\n",
    "print(f\"Fold {fold_ + 1} Best RMSE:\", np.sqrt(-grid_search.best_score_))\n"
   ]
  },
  {
   "cell_type": "code",
   "execution_count": 27,
   "metadata": {},
   "outputs": [],
   "source": [
    "# Use best model for predictions\n",
    "best_model = grid_search.best_estimator_\n",
    "valid_preds_catboost = best_model.predict(X_valid_fold)"
   ]
  },
  {
   "cell_type": "code",
   "execution_count": 28,
   "metadata": {},
   "outputs": [
    {
     "ename": "NameError",
     "evalue": "name 'mean_squared_error' is not defined",
     "output_type": "error",
     "traceback": [
      "\u001b[1;31m---------------------------------------------------------------------------\u001b[0m",
      "\u001b[1;31mNameError\u001b[0m                                 Traceback (most recent call last)",
      "Cell \u001b[1;32mIn[28], line 2\u001b[0m\n\u001b[0;32m      1\u001b[0m \u001b[39m# Calculate RMSE on the validation set for each fold\u001b[39;00m\n\u001b[1;32m----> 2\u001b[0m rmse_catboost \u001b[39m=\u001b[39m np\u001b[39m.\u001b[39msqrt(mean_squared_error(y_valid_fold, valid_preds_catboost))\n\u001b[0;32m      3\u001b[0m \u001b[39mprint\u001b[39m(\u001b[39mf\u001b[39m\u001b[39m\"\u001b[39m\u001b[39mFold \u001b[39m\u001b[39m{\u001b[39;00mfold_\u001b[39m \u001b[39m\u001b[39m+\u001b[39m\u001b[39m \u001b[39m\u001b[39m1\u001b[39m\u001b[39m}\u001b[39;00m\u001b[39m Validation RMSE (CatBoost):\u001b[39m\u001b[39m\"\u001b[39m, rmse_catboost)\n",
      "\u001b[1;31mNameError\u001b[0m: name 'mean_squared_error' is not defined"
     ]
    }
   ],
   "source": [
    "# Calculate RMSE on the validation set for each fold\n",
    "rmse_catboost = np.sqrt(mean_squared_error(y_valid_fold, valid_preds_catboost))\n",
    "print(f\"Fold {fold_ + 1} Validation RMSE (CatBoost):\", rmse_catboost)\n"
   ]
  },
  {
   "cell_type": "code",
   "execution_count": null,
   "metadata": {},
   "outputs": [],
   "source": [
    "# Make predictions on the test set for each fold\n",
    "test_preds_catboost = best_model.predict(X_test)"
   ]
  },
  {
   "cell_type": "code",
   "execution_count": null,
   "metadata": {},
   "outputs": [],
   "source": [
    "# Make a submission dataframe for CatBoost for each fold (optional)\n",
    "sub_catboost = pd.DataFrame({\n",
    "        'tweet_id': test['tweet_id'],\n",
    "        'label': test_preds_catboost.reshape(-1)\n",
    "    })\n",
    "sub_catboost.to_csv(f'catboost_submission_gridsearch_fold_{fold_ + 1}.csv', index=False)\n",
    "sub_catboost.head()\n"
   ]
  }
 ],
 "metadata": {
  "kernelspec": {
   "display_name": "Python 3",
   "language": "python",
   "name": "python3"
  },
  "language_info": {
   "codemirror_mode": {
    "name": "ipython",
    "version": 3
   },
   "file_extension": ".py",
   "mimetype": "text/x-python",
   "name": "python",
   "nbconvert_exporter": "python",
   "pygments_lexer": "ipython3",
   "version": "3.8.2"
  },
  "orig_nbformat": 4
 },
 "nbformat": 4,
 "nbformat_minor": 2
}
