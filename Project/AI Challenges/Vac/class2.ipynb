{
 "cells": [
  {
   "cell_type": "code",
   "execution_count": 48,
   "metadata": {},
   "outputs": [],
   "source": [
    "import numpy as np\n",
    "import pandas as pd\n",
    "from sklearn.feature_extraction.text import TfidfVectorizer\n",
    "from sklearn.metrics import accuracy_score, mean_squared_error\n",
    "from sklearn.model_selection import train_test_split, GridSearchCV, KFold\n",
    "from catboost import CatBoostRegressor\n"
   ]
  },
  {
   "cell_type": "code",
   "execution_count": 49,
   "metadata": {},
   "outputs": [],
   "source": [
    "\n",
    "# Define the function to convert classification predictions to regression\n",
    "# def process_prediction(preds):\n",
    "    # final_preds = []\n",
    "    # for pred in preds:\n",
    "        # argmax = np.argmax(pred, axis=0)\n",
    "        # if argmax == 0:\n",
    "            # final_preds.append(-1 * pred[0])\n",
    "        # elif argmax == 1:\n",
    "            # final_preds.append(0)\n",
    "        # else:\n",
    "            # final_preds.append(pred[2])\n",
    "    # return final_preds"
   ]
  },
  {
   "cell_type": "code",
   "execution_count": 50,
   "metadata": {},
   "outputs": [],
   "source": [
    "\n",
    "def process_prediction(pred):\n",
    "    final_pred = np.zeros_like(pred)  # Initialize final predictions array with zeros\n",
    "\n",
    "    # Apply comparisons element-wise\n",
    "    final_pred[pred < -0.5] = -1.0\n",
    "    final_pred[(pred >= -0.5) & (pred <= 0.5)] = 0.0\n",
    "    final_pred[pred > 0.5] = 1.0\n",
    "\n",
    "    return final_pred"
   ]
  },
  {
   "cell_type": "code",
   "execution_count": 51,
   "metadata": {},
   "outputs": [],
   "source": [
    "\n",
    "# Load the data\n",
    "train = pd.read_csv('Train.csv').dropna(axis=0)  # Read in train, ignoring one row with missing data\n",
    "test = pd.read_csv('Test.csv').fillna('')  # Read in test"
   ]
  },
  {
   "cell_type": "code",
   "execution_count": 52,
   "metadata": {},
   "outputs": [
    {
     "data": {
      "text/html": [
       "<div>\n",
       "<style scoped>\n",
       "    .dataframe tbody tr th:only-of-type {\n",
       "        vertical-align: middle;\n",
       "    }\n",
       "\n",
       "    .dataframe tbody tr th {\n",
       "        vertical-align: top;\n",
       "    }\n",
       "\n",
       "    .dataframe thead th {\n",
       "        text-align: right;\n",
       "    }\n",
       "</style>\n",
       "<table border=\"1\" class=\"dataframe\">\n",
       "  <thead>\n",
       "    <tr style=\"text-align: right;\">\n",
       "      <th></th>\n",
       "      <th>tweet_id</th>\n",
       "      <th>safe_text</th>\n",
       "      <th>label</th>\n",
       "      <th>agreement</th>\n",
       "    </tr>\n",
       "  </thead>\n",
       "  <tbody>\n",
       "    <tr>\n",
       "      <th>0</th>\n",
       "      <td>CL1KWCMY</td>\n",
       "      <td>Me &amp;amp; The Big Homie meanboy3000 #MEANBOY #M...</td>\n",
       "      <td>0.0</td>\n",
       "      <td>1.0</td>\n",
       "    </tr>\n",
       "    <tr>\n",
       "      <th>1</th>\n",
       "      <td>E3303EME</td>\n",
       "      <td>I'm 100% thinking of devoting my career to pro...</td>\n",
       "      <td>1.0</td>\n",
       "      <td>1.0</td>\n",
       "    </tr>\n",
       "    <tr>\n",
       "      <th>2</th>\n",
       "      <td>M4IVFSMS</td>\n",
       "      <td>#whatcausesautism VACCINES, DO NOT VACCINATE Y...</td>\n",
       "      <td>-1.0</td>\n",
       "      <td>1.0</td>\n",
       "    </tr>\n",
       "    <tr>\n",
       "      <th>3</th>\n",
       "      <td>1DR6ROZ4</td>\n",
       "      <td>I mean if they immunize my kid with something ...</td>\n",
       "      <td>-1.0</td>\n",
       "      <td>1.0</td>\n",
       "    </tr>\n",
       "    <tr>\n",
       "      <th>4</th>\n",
       "      <td>J77ENIIE</td>\n",
       "      <td>Thanks to &lt;user&gt; Catch me performing at La Nui...</td>\n",
       "      <td>0.0</td>\n",
       "      <td>1.0</td>\n",
       "    </tr>\n",
       "  </tbody>\n",
       "</table>\n",
       "</div>"
      ],
      "text/plain": [
       "   tweet_id                                          safe_text  label  \\\n",
       "0  CL1KWCMY  Me &amp; The Big Homie meanboy3000 #MEANBOY #M...    0.0   \n",
       "1  E3303EME  I'm 100% thinking of devoting my career to pro...    1.0   \n",
       "2  M4IVFSMS  #whatcausesautism VACCINES, DO NOT VACCINATE Y...   -1.0   \n",
       "3  1DR6ROZ4  I mean if they immunize my kid with something ...   -1.0   \n",
       "4  J77ENIIE  Thanks to <user> Catch me performing at La Nui...    0.0   \n",
       "\n",
       "   agreement  \n",
       "0        1.0  \n",
       "1        1.0  \n",
       "2        1.0  \n",
       "3        1.0  \n",
       "4        1.0  "
      ]
     },
     "execution_count": 52,
     "metadata": {},
     "output_type": "execute_result"
    }
   ],
   "source": [
    "train.head()"
   ]
  },
  {
   "cell_type": "code",
   "execution_count": 53,
   "metadata": {},
   "outputs": [],
   "source": [
    "# Split data into training and validation sets\n",
    "df_train, df_valid = train_test_split(train, test_size=0.2, random_state=42)"
   ]
  },
  {
   "cell_type": "code",
   "execution_count": 54,
   "metadata": {},
   "outputs": [],
   "source": [
    "# Create a TF-IDF vectorizer\n",
    "vectorizer = TfidfVectorizer()"
   ]
  },
  {
   "cell_type": "code",
   "execution_count": 55,
   "metadata": {},
   "outputs": [],
   "source": [
    "# Transform text data into TF-IDF features\n",
    "X_train = vectorizer.fit_transform(df_train['safe_text'])\n",
    "X_valid = vectorizer.transform(df_valid['safe_text'])\n",
    "X_test = vectorizer.transform(test['safe_text'])"
   ]
  },
  {
   "cell_type": "code",
   "execution_count": 56,
   "metadata": {},
   "outputs": [],
   "source": [
    "# Define labels\n",
    "y_train = df_train['label']\n",
    "y_valid = df_valid['label']"
   ]
  },
  {
   "cell_type": "code",
   "execution_count": 57,
   "metadata": {},
   "outputs": [
    {
     "name": "stderr",
     "output_type": "stream",
     "text": [
      "Warning: Overfitting detector is active, thus evaluation metric is calculated on every iteration. 'metric_period' is ignored for evaluation metric.\n"
     ]
    },
    {
     "name": "stdout",
     "output_type": "stream",
     "text": [
      "0:\tlearn: 0.6403097\ttest: 0.6188039\tbest: 0.6188039 (0)\ttotal: 316ms\tremaining: 10m 31s\n",
      "50:\tlearn: 0.5851390\ttest: 0.5725347\tbest: 0.5725347 (50)\ttotal: 15.8s\tremaining: 10m 5s\n",
      "100:\tlearn: 0.5675480\ttest: 0.5630017\tbest: 0.5630017 (100)\ttotal: 31.5s\tremaining: 9m 52s\n",
      "150:\tlearn: 0.5555657\ttest: 0.5578833\tbest: 0.5578833 (150)\ttotal: 45.6s\tremaining: 9m 17s\n",
      "200:\tlearn: 0.5437872\ttest: 0.5530506\tbest: 0.5530417 (198)\ttotal: 59.2s\tremaining: 8m 49s\n",
      "250:\tlearn: 0.5320892\ttest: 0.5494654\tbest: 0.5493712 (247)\ttotal: 1m 13s\tremaining: 8m 29s\n",
      "300:\tlearn: 0.5219885\ttest: 0.5466888\tbest: 0.5466888 (300)\ttotal: 1m 27s\tremaining: 8m 12s\n",
      "350:\tlearn: 0.5110175\ttest: 0.5434026\tbest: 0.5434026 (350)\ttotal: 1m 42s\tremaining: 7m 59s\n",
      "400:\tlearn: 0.5003671\ttest: 0.5411538\tbest: 0.5411538 (400)\ttotal: 1m 55s\tremaining: 7m 38s\n",
      "450:\tlearn: 0.4902365\ttest: 0.5385159\tbest: 0.5385159 (450)\ttotal: 2m 7s\tremaining: 7m 17s\n",
      "500:\tlearn: 0.4811174\ttest: 0.5360682\tbest: 0.5360259 (498)\ttotal: 2m 19s\tremaining: 6m 57s\n",
      "550:\tlearn: 0.4734686\ttest: 0.5346156\tbest: 0.5344671 (545)\ttotal: 2m 31s\tremaining: 6m 39s\n",
      "600:\tlearn: 0.4670695\ttest: 0.5340384\tbest: 0.5340384 (600)\ttotal: 2m 44s\tremaining: 6m 22s\n",
      "650:\tlearn: 0.4592837\ttest: 0.5325260\tbest: 0.5325260 (650)\ttotal: 2m 56s\tremaining: 6m 5s\n",
      "700:\tlearn: 0.4527800\ttest: 0.5312601\tbest: 0.5311759 (696)\ttotal: 3m 8s\tremaining: 5m 48s\n",
      "750:\tlearn: 0.4472824\ttest: 0.5305819\tbest: 0.5305819 (750)\ttotal: 3m 19s\tremaining: 5m 32s\n",
      "800:\tlearn: 0.4417497\ttest: 0.5303125\tbest: 0.5303125 (800)\ttotal: 3m 31s\tremaining: 5m 16s\n",
      "850:\tlearn: 0.4363978\ttest: 0.5298611\tbest: 0.5298446 (823)\ttotal: 3m 46s\tremaining: 5m 6s\n",
      "900:\tlearn: 0.4318212\ttest: 0.5293414\tbest: 0.5290571 (881)\ttotal: 3m 59s\tremaining: 4m 51s\n",
      "950:\tlearn: 0.4273570\ttest: 0.5288818\tbest: 0.5288818 (950)\ttotal: 4m 10s\tremaining: 4m 36s\n",
      "1000:\tlearn: 0.4223177\ttest: 0.5285152\tbest: 0.5284457 (991)\ttotal: 4m 23s\tremaining: 4m 22s\n",
      "1050:\tlearn: 0.4165054\ttest: 0.5283187\tbest: 0.5282706 (1045)\ttotal: 4m 35s\tremaining: 4m 8s\n",
      "1100:\tlearn: 0.4118183\ttest: 0.5276467\tbest: 0.5276241 (1099)\ttotal: 4m 47s\tremaining: 3m 54s\n",
      "1150:\tlearn: 0.4076313\ttest: 0.5276015\tbest: 0.5273626 (1139)\ttotal: 4m 59s\tremaining: 3m 41s\n",
      "1200:\tlearn: 0.4035266\ttest: 0.5273844\tbest: 0.5272838 (1192)\ttotal: 5m 11s\tremaining: 3m 27s\n",
      "1250:\tlearn: 0.3990932\ttest: 0.5271926\tbest: 0.5271657 (1247)\ttotal: 5m 23s\tremaining: 3m 13s\n",
      "1300:\tlearn: 0.3951526\ttest: 0.5270150\tbest: 0.5268157 (1280)\ttotal: 5m 35s\tremaining: 3m\n",
      "1350:\tlearn: 0.3911146\ttest: 0.5265217\tbest: 0.5264920 (1348)\ttotal: 5m 47s\tremaining: 2m 47s\n",
      "1400:\tlearn: 0.3871751\ttest: 0.5265790\tbest: 0.5263999 (1357)\ttotal: 5m 59s\tremaining: 2m 33s\n",
      "1450:\tlearn: 0.3826372\ttest: 0.5262739\tbest: 0.5261274 (1435)\ttotal: 6m 11s\tremaining: 2m 20s\n",
      "1500:\tlearn: 0.3787413\ttest: 0.5264787\tbest: 0.5261274 (1435)\ttotal: 6m 23s\tremaining: 2m 7s\n",
      "1550:\tlearn: 0.3748465\ttest: 0.5265471\tbest: 0.5261274 (1435)\ttotal: 6m 35s\tremaining: 1m 54s\n",
      "1600:\tlearn: 0.3715859\ttest: 0.5264783\tbest: 0.5261274 (1435)\ttotal: 6m 47s\tremaining: 1m 41s\n",
      "1650:\tlearn: 0.3683645\ttest: 0.5264452\tbest: 0.5261274 (1435)\ttotal: 6m 59s\tremaining: 1m 28s\n",
      "1700:\tlearn: 0.3647910\ttest: 0.5264503\tbest: 0.5261274 (1435)\ttotal: 7m 10s\tremaining: 1m 15s\n",
      "Stopped by overfitting detector  (300 iterations wait)\n",
      "\n",
      "bestTest = 0.5261273675\n",
      "bestIteration = 1435\n",
      "\n",
      "Shrink model to first 1436 iterations.\n",
      "RMSE:  0.5777110004145671\n"
     ]
    },
    {
     "name": "stderr",
     "output_type": "stream",
     "text": [
      "Warning: Overfitting detector is active, thus evaluation metric is calculated on every iteration. 'metric_period' is ignored for evaluation metric.\n"
     ]
    },
    {
     "name": "stdout",
     "output_type": "stream",
     "text": [
      "0:\tlearn: 0.6395805\ttest: 0.6297257\tbest: 0.6297257 (0)\ttotal: 295ms\tremaining: 9m 48s\n",
      "50:\tlearn: 0.5846938\ttest: 0.5813431\tbest: 0.5813431 (50)\ttotal: 12.6s\tremaining: 7m 59s\n",
      "100:\tlearn: 0.5664040\ttest: 0.5705033\tbest: 0.5705033 (100)\ttotal: 24.4s\tremaining: 7m 39s\n",
      "150:\tlearn: 0.5539205\ttest: 0.5635839\tbest: 0.5635839 (150)\ttotal: 36.4s\tremaining: 7m 25s\n",
      "200:\tlearn: 0.5417411\ttest: 0.5598489\tbest: 0.5598489 (200)\ttotal: 48.2s\tremaining: 7m 11s\n",
      "250:\tlearn: 0.5299012\ttest: 0.5583626\tbest: 0.5582518 (244)\ttotal: 59.8s\tremaining: 6m 56s\n",
      "300:\tlearn: 0.5165589\ttest: 0.5559895\tbest: 0.5559895 (300)\ttotal: 1m 11s\tremaining: 6m 43s\n",
      "350:\tlearn: 0.5059094\ttest: 0.5543068\tbest: 0.5543068 (350)\ttotal: 1m 23s\tremaining: 6m 32s\n",
      "400:\tlearn: 0.4960540\ttest: 0.5530604\tbest: 0.5530604 (400)\ttotal: 1m 35s\tremaining: 6m 19s\n",
      "450:\tlearn: 0.4874346\ttest: 0.5520909\tbest: 0.5519303 (445)\ttotal: 1m 47s\tremaining: 6m 7s\n",
      "500:\tlearn: 0.4796007\ttest: 0.5513222\tbest: 0.5512453 (490)\ttotal: 1m 58s\tremaining: 5m 55s\n",
      "550:\tlearn: 0.4717060\ttest: 0.5498419\tbest: 0.5498031 (546)\ttotal: 2m 10s\tremaining: 5m 43s\n",
      "600:\tlearn: 0.4651074\ttest: 0.5493140\tbest: 0.5492760 (598)\ttotal: 2m 22s\tremaining: 5m 31s\n",
      "650:\tlearn: 0.4589001\ttest: 0.5483325\tbest: 0.5483267 (649)\ttotal: 2m 34s\tremaining: 5m 19s\n",
      "700:\tlearn: 0.4528637\ttest: 0.5481032\tbest: 0.5480126 (685)\ttotal: 2m 46s\tremaining: 5m 7s\n",
      "750:\tlearn: 0.4463164\ttest: 0.5484352\tbest: 0.5479840 (731)\ttotal: 2m 57s\tremaining: 4m 55s\n",
      "800:\tlearn: 0.4396218\ttest: 0.5477220\tbest: 0.5477044 (799)\ttotal: 3m 9s\tremaining: 4m 43s\n",
      "850:\tlearn: 0.4340333\ttest: 0.5475660\tbest: 0.5475660 (850)\ttotal: 3m 21s\tremaining: 4m 31s\n",
      "900:\tlearn: 0.4283601\ttest: 0.5470565\tbest: 0.5470565 (900)\ttotal: 3m 33s\tremaining: 4m 19s\n",
      "950:\tlearn: 0.4241757\ttest: 0.5469354\tbest: 0.5468415 (912)\ttotal: 3m 45s\tremaining: 4m 8s\n",
      "1000:\tlearn: 0.4193816\ttest: 0.5466739\tbest: 0.5466221 (998)\ttotal: 3m 57s\tremaining: 3m 56s\n",
      "1050:\tlearn: 0.4139251\ttest: 0.5462510\tbest: 0.5461572 (1042)\ttotal: 4m 8s\tremaining: 3m 44s\n",
      "1100:\tlearn: 0.4092834\ttest: 0.5457313\tbest: 0.5456012 (1089)\ttotal: 4m 20s\tremaining: 3m 32s\n",
      "1150:\tlearn: 0.4050569\ttest: 0.5464298\tbest: 0.5456012 (1089)\ttotal: 4m 32s\tremaining: 3m 20s\n",
      "1200:\tlearn: 0.4011949\ttest: 0.5462636\tbest: 0.5456012 (1089)\ttotal: 4m 44s\tremaining: 3m 9s\n",
      "1250:\tlearn: 0.3959666\ttest: 0.5458212\tbest: 0.5456012 (1089)\ttotal: 4m 55s\tremaining: 2m 57s\n",
      "1300:\tlearn: 0.3920494\ttest: 0.5455404\tbest: 0.5455310 (1289)\ttotal: 5m 7s\tremaining: 2m 45s\n",
      "1350:\tlearn: 0.3881159\ttest: 0.5454545\tbest: 0.5454545 (1350)\ttotal: 5m 19s\tremaining: 2m 33s\n",
      "1400:\tlearn: 0.3844653\ttest: 0.5452262\tbest: 0.5452131 (1395)\ttotal: 5m 30s\tremaining: 2m 21s\n",
      "1450:\tlearn: 0.3806084\ttest: 0.5451694\tbest: 0.5450539 (1409)\ttotal: 5m 42s\tremaining: 2m 9s\n",
      "1500:\tlearn: 0.3770792\ttest: 0.5449229\tbest: 0.5447929 (1490)\ttotal: 5m 54s\tremaining: 1m 57s\n",
      "1550:\tlearn: 0.3735456\ttest: 0.5447912\tbest: 0.5445316 (1536)\ttotal: 6m 6s\tremaining: 1m 46s\n",
      "1600:\tlearn: 0.3703140\ttest: 0.5446117\tbest: 0.5444193 (1582)\ttotal: 6m 18s\tremaining: 1m 34s\n",
      "1650:\tlearn: 0.3669172\ttest: 0.5449077\tbest: 0.5444193 (1582)\ttotal: 6m 29s\tremaining: 1m 22s\n",
      "1700:\tlearn: 0.3633064\ttest: 0.5449883\tbest: 0.5444193 (1582)\ttotal: 6m 41s\tremaining: 1m 10s\n",
      "1750:\tlearn: 0.3596344\ttest: 0.5447676\tbest: 0.5444193 (1582)\ttotal: 6m 53s\tremaining: 58.8s\n",
      "1800:\tlearn: 0.3564419\ttest: 0.5447223\tbest: 0.5444193 (1582)\ttotal: 7m 4s\tremaining: 47s\n",
      "1850:\tlearn: 0.3529767\ttest: 0.5448419\tbest: 0.5444193 (1582)\ttotal: 7m 16s\tremaining: 35.2s\n",
      "Stopped by overfitting detector  (300 iterations wait)\n",
      "\n",
      "bestTest = 0.544419284\n",
      "bestIteration = 1582\n",
      "\n",
      "Shrink model to first 1583 iterations.\n",
      "RMSE:  0.5989574275355469\n"
     ]
    },
    {
     "name": "stderr",
     "output_type": "stream",
     "text": [
      "Warning: Overfitting detector is active, thus evaluation metric is calculated on every iteration. 'metric_period' is ignored for evaluation metric.\n"
     ]
    },
    {
     "name": "stdout",
     "output_type": "stream",
     "text": [
      "0:\tlearn: 0.6372620\ttest: 0.6495056\tbest: 0.6495056 (0)\ttotal: 288ms\tremaining: 9m 36s\n",
      "50:\tlearn: 0.5822019\ttest: 0.6061825\tbest: 0.6061648 (48)\ttotal: 12.5s\tremaining: 7m 59s\n",
      "100:\tlearn: 0.5633166\ttest: 0.5956289\tbest: 0.5956289 (100)\ttotal: 24.5s\tremaining: 7m 40s\n",
      "150:\tlearn: 0.5507680\ttest: 0.5895709\tbest: 0.5895709 (150)\ttotal: 36.7s\tremaining: 7m 29s\n",
      "200:\tlearn: 0.5391944\ttest: 0.5858989\tbest: 0.5858989 (200)\ttotal: 48.4s\tremaining: 7m 13s\n",
      "250:\tlearn: 0.5263227\ttest: 0.5832049\tbest: 0.5831002 (249)\ttotal: 1m\tremaining: 6m 58s\n",
      "300:\tlearn: 0.5145023\ttest: 0.5814886\tbest: 0.5814886 (300)\ttotal: 1m 11s\tremaining: 6m 44s\n",
      "350:\tlearn: 0.5034816\ttest: 0.5802168\tbest: 0.5801318 (346)\ttotal: 1m 23s\tremaining: 6m 32s\n",
      "400:\tlearn: 0.4935087\ttest: 0.5781362\tbest: 0.5781362 (400)\ttotal: 1m 35s\tremaining: 6m 19s\n",
      "450:\tlearn: 0.4838421\ttest: 0.5764500\tbest: 0.5763466 (447)\ttotal: 1m 46s\tremaining: 6m 6s\n",
      "500:\tlearn: 0.4751438\ttest: 0.5760650\tbest: 0.5759118 (494)\ttotal: 1m 58s\tremaining: 5m 54s\n",
      "550:\tlearn: 0.4676965\ttest: 0.5759359\tbest: 0.5758029 (510)\ttotal: 2m 10s\tremaining: 5m 42s\n",
      "600:\tlearn: 0.4601551\ttest: 0.5748467\tbest: 0.5748467 (600)\ttotal: 2m 21s\tremaining: 5m 29s\n",
      "650:\tlearn: 0.4537369\ttest: 0.5747745\tbest: 0.5747745 (650)\ttotal: 2m 33s\tremaining: 5m 17s\n",
      "700:\tlearn: 0.4474062\ttest: 0.5747703\tbest: 0.5746492 (652)\ttotal: 2m 44s\tremaining: 5m 5s\n",
      "750:\tlearn: 0.4418870\ttest: 0.5744779\tbest: 0.5742137 (723)\ttotal: 2m 56s\tremaining: 4m 53s\n",
      "800:\tlearn: 0.4364424\ttest: 0.5743062\tbest: 0.5742137 (723)\ttotal: 3m 8s\tremaining: 4m 41s\n",
      "850:\tlearn: 0.4311586\ttest: 0.5744573\tbest: 0.5739738 (822)\ttotal: 3m 19s\tremaining: 4m 29s\n",
      "900:\tlearn: 0.4253806\ttest: 0.5741541\tbest: 0.5738595 (882)\ttotal: 3m 31s\tremaining: 4m 17s\n",
      "950:\tlearn: 0.4203431\ttest: 0.5738409\tbest: 0.5735763 (930)\ttotal: 3m 43s\tremaining: 4m 6s\n",
      "1000:\tlearn: 0.4159574\ttest: 0.5738123\tbest: 0.5735763 (930)\ttotal: 3m 54s\tremaining: 3m 54s\n",
      "1050:\tlearn: 0.4111503\ttest: 0.5739233\tbest: 0.5735763 (930)\ttotal: 4m 6s\tremaining: 3m 42s\n",
      "1100:\tlearn: 0.4066454\ttest: 0.5737658\tbest: 0.5735763 (930)\ttotal: 4m 18s\tremaining: 3m 30s\n",
      "1150:\tlearn: 0.4027882\ttest: 0.5734883\tbest: 0.5734651 (1149)\ttotal: 4m 29s\tremaining: 3m 18s\n",
      "1200:\tlearn: 0.3983432\ttest: 0.5734216\tbest: 0.5733807 (1154)\ttotal: 4m 41s\tremaining: 3m 7s\n",
      "1250:\tlearn: 0.3938457\ttest: 0.5732219\tbest: 0.5732219 (1250)\ttotal: 4m 53s\tremaining: 2m 55s\n",
      "1300:\tlearn: 0.3900269\ttest: 0.5726923\tbest: 0.5726919 (1299)\ttotal: 5m 5s\tremaining: 2m 43s\n",
      "1350:\tlearn: 0.3864388\ttest: 0.5728845\tbest: 0.5726899 (1305)\ttotal: 5m 16s\tremaining: 2m 32s\n",
      "1400:\tlearn: 0.3822886\ttest: 0.5730962\tbest: 0.5726899 (1305)\ttotal: 5m 28s\tremaining: 2m 20s\n",
      "1450:\tlearn: 0.3783960\ttest: 0.5727652\tbest: 0.5726675 (1445)\ttotal: 5m 40s\tremaining: 2m 8s\n",
      "1500:\tlearn: 0.3747210\ttest: 0.5728338\tbest: 0.5726675 (1445)\ttotal: 5m 51s\tremaining: 1m 56s\n",
      "1550:\tlearn: 0.3715581\ttest: 0.5727799\tbest: 0.5726675 (1445)\ttotal: 6m 3s\tremaining: 1m 45s\n",
      "1600:\tlearn: 0.3678598\ttest: 0.5729276\tbest: 0.5726675 (1445)\ttotal: 6m 15s\tremaining: 1m 33s\n",
      "1650:\tlearn: 0.3639028\ttest: 0.5732076\tbest: 0.5726675 (1445)\ttotal: 6m 27s\tremaining: 1m 21s\n",
      "1700:\tlearn: 0.3609012\ttest: 0.5731203\tbest: 0.5726675 (1445)\ttotal: 6m 38s\tremaining: 1m 10s\n",
      "Stopped by overfitting detector  (300 iterations wait)\n",
      "\n",
      "bestTest = 0.5726675354\n",
      "bestIteration = 1445\n",
      "\n",
      "Shrink model to first 1446 iterations.\n",
      "RMSE:  0.641287766919033\n"
     ]
    },
    {
     "name": "stderr",
     "output_type": "stream",
     "text": [
      "Warning: Overfitting detector is active, thus evaluation metric is calculated on every iteration. 'metric_period' is ignored for evaluation metric.\n"
     ]
    },
    {
     "name": "stdout",
     "output_type": "stream",
     "text": [
      "0:\tlearn: 0.6371374\ttest: 0.6487715\tbest: 0.6487715 (0)\ttotal: 275ms\tremaining: 9m 9s\n",
      "50:\tlearn: 0.5808957\ttest: 0.6146599\tbest: 0.6146599 (50)\ttotal: 12.2s\tremaining: 7m 46s\n",
      "100:\tlearn: 0.5625627\ttest: 0.6059650\tbest: 0.6059650 (100)\ttotal: 23.7s\tremaining: 7m 24s\n",
      "150:\tlearn: 0.5501611\ttest: 0.6002263\tbest: 0.6002263 (150)\ttotal: 35.2s\tremaining: 7m 10s\n",
      "200:\tlearn: 0.5383234\ttest: 0.5960307\tbest: 0.5960307 (200)\ttotal: 46.8s\tremaining: 6m 58s\n",
      "250:\tlearn: 0.5257411\ttest: 0.5927023\tbest: 0.5926512 (249)\ttotal: 58.4s\tremaining: 6m 46s\n",
      "300:\tlearn: 0.5139643\ttest: 0.5900395\tbest: 0.5900395 (300)\ttotal: 1m 10s\tremaining: 6m 36s\n",
      "350:\tlearn: 0.5024228\ttest: 0.5871783\tbest: 0.5871783 (350)\ttotal: 1m 21s\tremaining: 6m 24s\n",
      "400:\tlearn: 0.4924094\ttest: 0.5857276\tbest: 0.5855972 (397)\ttotal: 1m 33s\tremaining: 6m 11s\n",
      "450:\tlearn: 0.4842917\ttest: 0.5845556\tbest: 0.5845412 (449)\ttotal: 1m 45s\tremaining: 6m\n",
      "500:\tlearn: 0.4754094\ttest: 0.5831576\tbest: 0.5831553 (499)\ttotal: 1m 56s\tremaining: 5m 48s\n",
      "550:\tlearn: 0.4673920\ttest: 0.5820082\tbest: 0.5820082 (550)\ttotal: 2m 8s\tremaining: 5m 37s\n",
      "600:\tlearn: 0.4602854\ttest: 0.5817009\tbest: 0.5815318 (572)\ttotal: 2m 20s\tremaining: 5m 26s\n",
      "650:\tlearn: 0.4545336\ttest: 0.5815511\tbest: 0.5815318 (572)\ttotal: 2m 31s\tremaining: 5m 14s\n",
      "700:\tlearn: 0.4480455\ttest: 0.5814283\tbest: 0.5812406 (684)\ttotal: 2m 43s\tremaining: 5m 2s\n",
      "750:\tlearn: 0.4424945\ttest: 0.5809085\tbest: 0.5808101 (748)\ttotal: 2m 55s\tremaining: 4m 51s\n",
      "800:\tlearn: 0.4366702\ttest: 0.5795002\tbest: 0.5794967 (799)\ttotal: 3m 7s\tremaining: 4m 40s\n",
      "850:\tlearn: 0.4308925\ttest: 0.5785584\tbest: 0.5785247 (838)\ttotal: 3m 19s\tremaining: 4m 29s\n",
      "900:\tlearn: 0.4261018\ttest: 0.5789191\tbest: 0.5785247 (838)\ttotal: 3m 31s\tremaining: 4m 17s\n",
      "950:\tlearn: 0.4211567\ttest: 0.5786180\tbest: 0.5785247 (838)\ttotal: 3m 42s\tremaining: 4m 5s\n",
      "1000:\tlearn: 0.4164108\ttest: 0.5784393\tbest: 0.5784393 (1000)\ttotal: 3m 54s\tremaining: 3m 54s\n",
      "1050:\tlearn: 0.4111799\ttest: 0.5781494\tbest: 0.5779845 (1039)\ttotal: 4m 6s\tremaining: 3m 42s\n",
      "1100:\tlearn: 0.4063374\ttest: 0.5778241\tbest: 0.5776513 (1072)\ttotal: 4m 18s\tremaining: 3m 30s\n",
      "1150:\tlearn: 0.4025088\ttest: 0.5772776\tbest: 0.5772776 (1150)\ttotal: 4m 29s\tremaining: 3m 19s\n",
      "1200:\tlearn: 0.3988618\ttest: 0.5773733\tbest: 0.5772541 (1180)\ttotal: 4m 41s\tremaining: 3m 7s\n",
      "1250:\tlearn: 0.3952065\ttest: 0.5774727\tbest: 0.5772541 (1180)\ttotal: 4m 53s\tremaining: 2m 55s\n",
      "1300:\tlearn: 0.3908405\ttest: 0.5770707\tbest: 0.5770164 (1297)\ttotal: 5m 4s\tremaining: 2m 43s\n",
      "1350:\tlearn: 0.3866145\ttest: 0.5768991\tbest: 0.5768754 (1344)\ttotal: 5m 16s\tremaining: 2m 32s\n",
      "1400:\tlearn: 0.3829199\ttest: 0.5770439\tbest: 0.5768513 (1354)\ttotal: 5m 28s\tremaining: 2m 20s\n",
      "1450:\tlearn: 0.3793136\ttest: 0.5775903\tbest: 0.5768513 (1354)\ttotal: 5m 39s\tremaining: 2m 8s\n",
      "1500:\tlearn: 0.3755561\ttest: 0.5776083\tbest: 0.5768513 (1354)\ttotal: 5m 51s\tremaining: 1m 56s\n",
      "1550:\tlearn: 0.3722885\ttest: 0.5770489\tbest: 0.5768513 (1354)\ttotal: 6m 2s\tremaining: 1m 45s\n",
      "1600:\tlearn: 0.3686358\ttest: 0.5774684\tbest: 0.5768513 (1354)\ttotal: 6m 14s\tremaining: 1m 33s\n",
      "1650:\tlearn: 0.3652754\ttest: 0.5776572\tbest: 0.5768513 (1354)\ttotal: 6m 26s\tremaining: 1m 21s\n",
      "Stopped by overfitting detector  (300 iterations wait)\n",
      "\n",
      "bestTest = 0.576851287\n",
      "bestIteration = 1354\n",
      "\n",
      "Shrink model to first 1355 iterations.\n",
      "RMSE:  0.6344288770224761\n"
     ]
    },
    {
     "name": "stderr",
     "output_type": "stream",
     "text": [
      "Warning: Overfitting detector is active, thus evaluation metric is calculated on every iteration. 'metric_period' is ignored for evaluation metric.\n"
     ]
    },
    {
     "name": "stdout",
     "output_type": "stream",
     "text": [
      "0:\tlearn: 0.6377586\ttest: 0.6456676\tbest: 0.6456676 (0)\ttotal: 240ms\tremaining: 8m\n",
      "50:\tlearn: 0.5824184\ttest: 0.5976600\tbest: 0.5976600 (50)\ttotal: 12s\tremaining: 7m 37s\n",
      "100:\tlearn: 0.5645979\ttest: 0.5867554\tbest: 0.5867554 (100)\ttotal: 23.6s\tremaining: 7m 24s\n",
      "150:\tlearn: 0.5515191\ttest: 0.5808104\tbest: 0.5808104 (150)\ttotal: 35.3s\tremaining: 7m 12s\n",
      "200:\tlearn: 0.5401807\ttest: 0.5766582\tbest: 0.5766582 (200)\ttotal: 47.1s\tremaining: 7m 1s\n",
      "250:\tlearn: 0.5272509\ttest: 0.5720206\tbest: 0.5720206 (250)\ttotal: 58.8s\tremaining: 6m 49s\n",
      "300:\tlearn: 0.5140194\ttest: 0.5678734\tbest: 0.5678325 (299)\ttotal: 1m 10s\tremaining: 6m 37s\n",
      "350:\tlearn: 0.5031216\ttest: 0.5659470\tbest: 0.5659227 (349)\ttotal: 1m 21s\tremaining: 6m 24s\n",
      "400:\tlearn: 0.4930782\ttest: 0.5638055\tbest: 0.5637550 (397)\ttotal: 1m 33s\tremaining: 6m 12s\n",
      "450:\tlearn: 0.4835216\ttest: 0.5619708\tbest: 0.5619708 (450)\ttotal: 1m 45s\tremaining: 6m 2s\n",
      "500:\tlearn: 0.4741212\ttest: 0.5613527\tbest: 0.5612533 (495)\ttotal: 1m 56s\tremaining: 5m 50s\n",
      "550:\tlearn: 0.4660761\ttest: 0.5600072\tbest: 0.5600072 (550)\ttotal: 2m 8s\tremaining: 5m 38s\n",
      "600:\tlearn: 0.4588052\ttest: 0.5594863\tbest: 0.5594449 (599)\ttotal: 2m 20s\tremaining: 5m 26s\n",
      "650:\tlearn: 0.4520025\ttest: 0.5587229\tbest: 0.5587137 (645)\ttotal: 2m 31s\tremaining: 5m 14s\n",
      "700:\tlearn: 0.4462906\ttest: 0.5582189\tbest: 0.5581776 (696)\ttotal: 2m 43s\tremaining: 5m 3s\n",
      "750:\tlearn: 0.4400667\ttest: 0.5576199\tbest: 0.5575480 (748)\ttotal: 2m 55s\tremaining: 4m 51s\n",
      "800:\tlearn: 0.4336775\ttest: 0.5578077\tbest: 0.5575166 (760)\ttotal: 3m 7s\tremaining: 4m 40s\n",
      "850:\tlearn: 0.4289580\ttest: 0.5580065\tbest: 0.5575166 (760)\ttotal: 3m 18s\tremaining: 4m 28s\n",
      "900:\tlearn: 0.4233680\ttest: 0.5577456\tbest: 0.5575166 (760)\ttotal: 3m 30s\tremaining: 4m 16s\n",
      "950:\tlearn: 0.4181957\ttest: 0.5574531\tbest: 0.5573830 (946)\ttotal: 3m 42s\tremaining: 4m 5s\n",
      "1000:\tlearn: 0.4132790\ttest: 0.5570321\tbest: 0.5570321 (1000)\ttotal: 3m 53s\tremaining: 3m 53s\n",
      "1050:\tlearn: 0.4084809\ttest: 0.5574365\tbest: 0.5570321 (1000)\ttotal: 4m 5s\tremaining: 3m 41s\n",
      "1100:\tlearn: 0.4037930\ttest: 0.5569787\tbest: 0.5569018 (1098)\ttotal: 4m 17s\tremaining: 3m 29s\n",
      "1150:\tlearn: 0.3995593\ttest: 0.5572613\tbest: 0.5569018 (1098)\ttotal: 4m 28s\tremaining: 3m 18s\n",
      "1200:\tlearn: 0.3963232\ttest: 0.5572625\tbest: 0.5569018 (1098)\ttotal: 4m 40s\tremaining: 3m 6s\n",
      "1250:\tlearn: 0.3915108\ttest: 0.5572083\tbest: 0.5569018 (1098)\ttotal: 4m 52s\tremaining: 2m 54s\n",
      "1300:\tlearn: 0.3876844\ttest: 0.5572379\tbest: 0.5569018 (1098)\ttotal: 5m 3s\tremaining: 2m 43s\n",
      "1350:\tlearn: 0.3835656\ttest: 0.5571921\tbest: 0.5569018 (1098)\ttotal: 5m 15s\tremaining: 2m 31s\n",
      "Stopped by overfitting detector  (300 iterations wait)\n",
      "\n",
      "bestTest = 0.5569017584\n",
      "bestIteration = 1098\n",
      "\n",
      "Shrink model to first 1099 iterations.\n",
      "RMSE:  0.6093028803476971\n"
     ]
    },
    {
     "name": "stderr",
     "output_type": "stream",
     "text": [
      "Warning: Overfitting detector is active, thus evaluation metric is calculated on every iteration. 'metric_period' is ignored for evaluation metric.\n"
     ]
    },
    {
     "name": "stdout",
     "output_type": "stream",
     "text": [
      "0:\tlearn: 0.6376918\ttest: 0.6463628\tbest: 0.6463628 (0)\ttotal: 274ms\tremaining: 9m 7s\n",
      "50:\tlearn: 0.5816273\ttest: 0.6040207\tbest: 0.6040207 (50)\ttotal: 12.9s\tremaining: 8m 12s\n",
      "100:\tlearn: 0.5641915\ttest: 0.5941373\tbest: 0.5941373 (100)\ttotal: 24.4s\tremaining: 7m 39s\n",
      "150:\tlearn: 0.5521254\ttest: 0.5883247\tbest: 0.5883247 (150)\ttotal: 35.9s\tremaining: 7m 20s\n",
      "200:\tlearn: 0.5401075\ttest: 0.5835884\tbest: 0.5835860 (199)\ttotal: 47.5s\tremaining: 7m 4s\n",
      "250:\tlearn: 0.5281402\ttest: 0.5809909\tbest: 0.5809020 (249)\ttotal: 58.9s\tremaining: 6m 50s\n",
      "300:\tlearn: 0.5158953\ttest: 0.5785506\tbest: 0.5785506 (300)\ttotal: 1m 10s\tremaining: 6m 37s\n",
      "350:\tlearn: 0.5051611\ttest: 0.5757764\tbest: 0.5757764 (350)\ttotal: 1m 24s\tremaining: 6m 37s\n",
      "400:\tlearn: 0.4967038\ttest: 0.5752730\tbest: 0.5751132 (396)\ttotal: 1m 37s\tremaining: 6m 28s\n",
      "450:\tlearn: 0.4865021\ttest: 0.5735149\tbest: 0.5734239 (447)\ttotal: 1m 52s\tremaining: 6m 26s\n",
      "500:\tlearn: 0.4776866\ttest: 0.5722319\tbest: 0.5722319 (500)\ttotal: 2m 6s\tremaining: 6m 18s\n",
      "550:\tlearn: 0.4701776\ttest: 0.5711934\tbest: 0.5711934 (550)\ttotal: 2m 20s\tremaining: 6m 8s\n",
      "600:\tlearn: 0.4628969\ttest: 0.5700744\tbest: 0.5700744 (600)\ttotal: 2m 34s\tremaining: 5m 59s\n",
      "650:\tlearn: 0.4566928\ttest: 0.5694952\tbest: 0.5694952 (650)\ttotal: 2m 48s\tremaining: 5m 49s\n",
      "700:\tlearn: 0.4501296\ttest: 0.5689975\tbest: 0.5689975 (700)\ttotal: 3m 2s\tremaining: 5m 37s\n",
      "750:\tlearn: 0.4433961\ttest: 0.5680053\tbest: 0.5680053 (750)\ttotal: 3m 15s\tremaining: 5m 25s\n",
      "800:\tlearn: 0.4379640\ttest: 0.5678518\tbest: 0.5676803 (789)\ttotal: 3m 28s\tremaining: 5m 12s\n",
      "850:\tlearn: 0.4332322\ttest: 0.5677578\tbest: 0.5675615 (835)\ttotal: 3m 42s\tremaining: 5m\n",
      "900:\tlearn: 0.4274586\ttest: 0.5666355\tbest: 0.5665251 (890)\ttotal: 3m 56s\tremaining: 4m 48s\n",
      "950:\tlearn: 0.4230076\ttest: 0.5663380\tbest: 0.5663100 (948)\ttotal: 4m 11s\tremaining: 4m 37s\n",
      "1000:\tlearn: 0.4183705\ttest: 0.5664192\tbest: 0.5661321 (958)\ttotal: 4m 26s\tremaining: 4m 26s\n",
      "1050:\tlearn: 0.4133363\ttest: 0.5663167\tbest: 0.5661321 (958)\ttotal: 4m 40s\tremaining: 4m 13s\n",
      "1100:\tlearn: 0.4098904\ttest: 0.5660295\tbest: 0.5660278 (1099)\ttotal: 4m 53s\tremaining: 3m 59s\n",
      "1150:\tlearn: 0.4056133\ttest: 0.5658333\tbest: 0.5657939 (1118)\ttotal: 5m 6s\tremaining: 3m 46s\n",
      "1200:\tlearn: 0.4015080\ttest: 0.5655282\tbest: 0.5654959 (1195)\ttotal: 5m 19s\tremaining: 3m 32s\n",
      "1250:\tlearn: 0.3975018\ttest: 0.5652874\tbest: 0.5651769 (1242)\ttotal: 5m 31s\tremaining: 3m 18s\n",
      "1300:\tlearn: 0.3934818\ttest: 0.5649830\tbest: 0.5649830 (1300)\ttotal: 5m 44s\tremaining: 3m 4s\n",
      "1350:\tlearn: 0.3897988\ttest: 0.5652741\tbest: 0.5649599 (1306)\ttotal: 5m 56s\tremaining: 2m 51s\n",
      "1400:\tlearn: 0.3862415\ttest: 0.5648854\tbest: 0.5647949 (1393)\ttotal: 6m 9s\tremaining: 2m 37s\n",
      "1450:\tlearn: 0.3823471\ttest: 0.5644044\tbest: 0.5643556 (1440)\ttotal: 6m 21s\tremaining: 2m 24s\n",
      "1500:\tlearn: 0.3786880\ttest: 0.5643294\tbest: 0.5640864 (1490)\ttotal: 6m 34s\tremaining: 2m 11s\n",
      "1550:\tlearn: 0.3754268\ttest: 0.5641642\tbest: 0.5640864 (1490)\ttotal: 6m 46s\tremaining: 1m 57s\n",
      "1600:\tlearn: 0.3718332\ttest: 0.5638817\tbest: 0.5638266 (1590)\ttotal: 6m 59s\tremaining: 1m 44s\n",
      "1650:\tlearn: 0.3687317\ttest: 0.5640246\tbest: 0.5638266 (1590)\ttotal: 7m 11s\tremaining: 1m 31s\n",
      "1700:\tlearn: 0.3656028\ttest: 0.5637956\tbest: 0.5637577 (1695)\ttotal: 7m 23s\tremaining: 1m 18s\n",
      "1750:\tlearn: 0.3625450\ttest: 0.5632408\tbest: 0.5632408 (1750)\ttotal: 7m 36s\tremaining: 1m 4s\n",
      "1800:\tlearn: 0.3588666\ttest: 0.5636647\tbest: 0.5632408 (1750)\ttotal: 7m 48s\tremaining: 51.8s\n",
      "1850:\tlearn: 0.3559612\ttest: 0.5634546\tbest: 0.5632408 (1750)\ttotal: 8m 1s\tremaining: 38.7s\n",
      "1900:\tlearn: 0.3532555\ttest: 0.5635540\tbest: 0.5632408 (1750)\ttotal: 8m 13s\tremaining: 25.7s\n",
      "1950:\tlearn: 0.3500595\ttest: 0.5634174\tbest: 0.5632408 (1750)\ttotal: 8m 25s\tremaining: 12.7s\n",
      "1999:\tlearn: 0.3470337\ttest: 0.5634107\tbest: 0.5632408 (1750)\ttotal: 8m 37s\tremaining: 0us\n",
      "\n",
      "bestTest = 0.5632408223\n",
      "bestIteration = 1750\n",
      "\n",
      "Shrink model to first 1751 iterations.\n",
      "RMSE:  0.6264982043070834\n"
     ]
    },
    {
     "name": "stderr",
     "output_type": "stream",
     "text": [
      "Warning: Overfitting detector is active, thus evaluation metric is calculated on every iteration. 'metric_period' is ignored for evaluation metric.\n"
     ]
    },
    {
     "name": "stdout",
     "output_type": "stream",
     "text": [
      "0:\tlearn: 0.6396712\ttest: 0.6251641\tbest: 0.6251641 (0)\ttotal: 288ms\tremaining: 9m 35s\n",
      "50:\tlearn: 0.5849935\ttest: 0.5804514\tbest: 0.5804514 (50)\ttotal: 13.2s\tremaining: 8m 24s\n",
      "100:\tlearn: 0.5656254\ttest: 0.5725674\tbest: 0.5725446 (98)\ttotal: 27.1s\tremaining: 8m 30s\n",
      "150:\tlearn: 0.5531009\ttest: 0.5676948\tbest: 0.5676948 (150)\ttotal: 41.8s\tremaining: 8m 32s\n",
      "200:\tlearn: 0.5405164\ttest: 0.5640570\tbest: 0.5640570 (200)\ttotal: 54.5s\tremaining: 8m 7s\n",
      "250:\tlearn: 0.5291629\ttest: 0.5627263\tbest: 0.5625286 (248)\ttotal: 1m 7s\tremaining: 7m 48s\n",
      "300:\tlearn: 0.5172130\ttest: 0.5619971\tbest: 0.5617643 (291)\ttotal: 1m 19s\tremaining: 7m 31s\n",
      "350:\tlearn: 0.5059785\ttest: 0.5614498\tbest: 0.5614103 (349)\ttotal: 1m 32s\tremaining: 7m 16s\n",
      "400:\tlearn: 0.4954286\ttest: 0.5605705\tbest: 0.5603871 (393)\ttotal: 1m 45s\tremaining: 6m 59s\n",
      "450:\tlearn: 0.4862999\ttest: 0.5596259\tbest: 0.5595215 (446)\ttotal: 1m 57s\tremaining: 6m 43s\n",
      "500:\tlearn: 0.4787787\ttest: 0.5583225\tbest: 0.5582878 (494)\ttotal: 2m 9s\tremaining: 6m 28s\n",
      "550:\tlearn: 0.4700850\ttest: 0.5575163\tbest: 0.5575163 (550)\ttotal: 2m 22s\tremaining: 6m 14s\n",
      "600:\tlearn: 0.4635121\ttest: 0.5570201\tbest: 0.5569861 (587)\ttotal: 2m 35s\tremaining: 6m\n",
      "650:\tlearn: 0.4563244\ttest: 0.5566610\tbest: 0.5563683 (637)\ttotal: 2m 47s\tremaining: 5m 47s\n",
      "700:\tlearn: 0.4499621\ttest: 0.5559376\tbest: 0.5559376 (700)\ttotal: 2m 59s\tremaining: 5m 33s\n",
      "750:\tlearn: 0.4432892\ttest: 0.5555927\tbest: 0.5555927 (750)\ttotal: 3m 12s\tremaining: 5m 19s\n",
      "800:\tlearn: 0.4382630\ttest: 0.5551602\tbest: 0.5551602 (800)\ttotal: 3m 24s\tremaining: 5m 6s\n",
      "850:\tlearn: 0.4321903\ttest: 0.5549121\tbest: 0.5548686 (818)\ttotal: 3m 37s\tremaining: 4m 53s\n",
      "900:\tlearn: 0.4279305\ttest: 0.5548075\tbest: 0.5547954 (899)\ttotal: 3m 49s\tremaining: 4m 40s\n",
      "950:\tlearn: 0.4232836\ttest: 0.5542098\tbest: 0.5540862 (942)\ttotal: 4m 2s\tremaining: 4m 27s\n",
      "1000:\tlearn: 0.4186367\ttest: 0.5535588\tbest: 0.5535588 (1000)\ttotal: 4m 14s\tremaining: 4m 14s\n",
      "1050:\tlearn: 0.4148498\ttest: 0.5539108\tbest: 0.5534547 (1007)\ttotal: 4m 27s\tremaining: 4m 1s\n",
      "1100:\tlearn: 0.4094528\ttest: 0.5535132\tbest: 0.5534547 (1007)\ttotal: 4m 39s\tremaining: 3m 48s\n",
      "1150:\tlearn: 0.4046276\ttest: 0.5525686\tbest: 0.5525118 (1149)\ttotal: 4m 53s\tremaining: 3m 36s\n",
      "1200:\tlearn: 0.4007896\ttest: 0.5523878\tbest: 0.5523412 (1195)\ttotal: 5m 5s\tremaining: 3m 23s\n",
      "1250:\tlearn: 0.3966749\ttest: 0.5524153\tbest: 0.5523237 (1202)\ttotal: 5m 17s\tremaining: 3m 10s\n",
      "1300:\tlearn: 0.3924488\ttest: 0.5525818\tbest: 0.5522980 (1258)\ttotal: 5m 30s\tremaining: 2m 57s\n",
      "1350:\tlearn: 0.3886398\ttest: 0.5522597\tbest: 0.5522597 (1350)\ttotal: 5m 42s\tremaining: 2m 44s\n",
      "1400:\tlearn: 0.3847456\ttest: 0.5520213\tbest: 0.5520213 (1400)\ttotal: 5m 56s\tremaining: 2m 32s\n",
      "1450:\tlearn: 0.3820199\ttest: 0.5517319\tbest: 0.5517194 (1449)\ttotal: 6m 10s\tremaining: 2m 20s\n",
      "1500:\tlearn: 0.3781935\ttest: 0.5515288\tbest: 0.5514515 (1495)\ttotal: 6m 23s\tremaining: 2m 7s\n",
      "1550:\tlearn: 0.3744782\ttest: 0.5512579\tbest: 0.5511626 (1534)\ttotal: 6m 35s\tremaining: 1m 54s\n",
      "1600:\tlearn: 0.3712341\ttest: 0.5514026\tbest: 0.5511626 (1534)\ttotal: 6m 47s\tremaining: 1m 41s\n",
      "1650:\tlearn: 0.3676184\ttest: 0.5515074\tbest: 0.5511626 (1534)\ttotal: 6m 59s\tremaining: 1m 28s\n",
      "1700:\tlearn: 0.3639818\ttest: 0.5515542\tbest: 0.5511626 (1534)\ttotal: 7m 12s\tremaining: 1m 15s\n",
      "1750:\tlearn: 0.3604276\ttest: 0.5514302\tbest: 0.5511626 (1534)\ttotal: 7m 24s\tremaining: 1m 3s\n",
      "1800:\tlearn: 0.3574107\ttest: 0.5514834\tbest: 0.5511626 (1534)\ttotal: 7m 36s\tremaining: 50.5s\n",
      "Stopped by overfitting detector  (300 iterations wait)\n",
      "\n",
      "bestTest = 0.5511626349\n",
      "bestIteration = 1534\n",
      "\n",
      "Shrink model to first 1535 iterations.\n",
      "RMSE:  0.6133922073192648\n"
     ]
    },
    {
     "name": "stderr",
     "output_type": "stream",
     "text": [
      "Warning: Overfitting detector is active, thus evaluation metric is calculated on every iteration. 'metric_period' is ignored for evaluation metric.\n"
     ]
    },
    {
     "name": "stdout",
     "output_type": "stream",
     "text": [
      "0:\tlearn: 0.6365753\ttest: 0.6588494\tbest: 0.6588494 (0)\ttotal: 312ms\tremaining: 10m 24s\n",
      "50:\tlearn: 0.5821284\ttest: 0.6093656\tbest: 0.6093656 (50)\ttotal: 12.6s\tremaining: 8m\n",
      "100:\tlearn: 0.5640561\ttest: 0.5992150\tbest: 0.5992150 (100)\ttotal: 25s\tremaining: 7m 49s\n",
      "150:\tlearn: 0.5509973\ttest: 0.5929619\tbest: 0.5929619 (150)\ttotal: 37.4s\tremaining: 7m 38s\n",
      "200:\tlearn: 0.5402193\ttest: 0.5902728\tbest: 0.5901912 (199)\ttotal: 49.9s\tremaining: 7m 26s\n",
      "250:\tlearn: 0.5279907\ttest: 0.5874644\tbest: 0.5873994 (247)\ttotal: 1m 2s\tremaining: 7m 13s\n",
      "300:\tlearn: 0.5157700\ttest: 0.5840882\tbest: 0.5839728 (297)\ttotal: 1m 14s\tremaining: 7m\n",
      "350:\tlearn: 0.5036606\ttest: 0.5821472\tbest: 0.5821472 (350)\ttotal: 1m 27s\tremaining: 6m 48s\n",
      "400:\tlearn: 0.4943129\ttest: 0.5808942\tbest: 0.5807951 (397)\ttotal: 1m 39s\tremaining: 6m 35s\n",
      "450:\tlearn: 0.4843745\ttest: 0.5800301\tbest: 0.5800301 (450)\ttotal: 1m 51s\tremaining: 6m 23s\n",
      "500:\tlearn: 0.4768905\ttest: 0.5788754\tbest: 0.5788754 (500)\ttotal: 2m 3s\tremaining: 6m 10s\n",
      "550:\tlearn: 0.4695401\ttest: 0.5779389\tbest: 0.5777551 (535)\ttotal: 2m 16s\tremaining: 5m 58s\n",
      "600:\tlearn: 0.4622089\ttest: 0.5771787\tbest: 0.5771787 (600)\ttotal: 2m 28s\tremaining: 5m 46s\n",
      "650:\tlearn: 0.4555953\ttest: 0.5761902\tbest: 0.5761902 (650)\ttotal: 2m 41s\tremaining: 5m 33s\n",
      "700:\tlearn: 0.4500482\ttest: 0.5752729\tbest: 0.5752333 (698)\ttotal: 2m 53s\tremaining: 5m 21s\n",
      "750:\tlearn: 0.4439182\ttest: 0.5750527\tbest: 0.5750232 (732)\ttotal: 3m 5s\tremaining: 5m 8s\n",
      "800:\tlearn: 0.4393505\ttest: 0.5745343\tbest: 0.5744310 (795)\ttotal: 3m 18s\tremaining: 4m 56s\n",
      "850:\tlearn: 0.4336170\ttest: 0.5739752\tbest: 0.5738702 (833)\ttotal: 3m 30s\tremaining: 4m 44s\n",
      "900:\tlearn: 0.4281606\ttest: 0.5736939\tbest: 0.5736565 (897)\ttotal: 3m 43s\tremaining: 4m 32s\n",
      "950:\tlearn: 0.4230716\ttest: 0.5735750\tbest: 0.5734819 (932)\ttotal: 3m 56s\tremaining: 4m 20s\n",
      "1000:\tlearn: 0.4177187\ttest: 0.5731320\tbest: 0.5731165 (996)\ttotal: 4m 8s\tremaining: 4m 7s\n",
      "1050:\tlearn: 0.4128993\ttest: 0.5730777\tbest: 0.5730770 (1042)\ttotal: 4m 20s\tremaining: 3m 55s\n",
      "1100:\tlearn: 0.4082835\ttest: 0.5734181\tbest: 0.5730095 (1071)\ttotal: 4m 33s\tremaining: 3m 42s\n",
      "1150:\tlearn: 0.4040053\ttest: 0.5729839\tbest: 0.5729839 (1150)\ttotal: 4m 45s\tremaining: 3m 30s\n",
      "1200:\tlearn: 0.3992465\ttest: 0.5734829\tbest: 0.5728655 (1155)\ttotal: 4m 57s\tremaining: 3m 18s\n",
      "1250:\tlearn: 0.3952333\ttest: 0.5739284\tbest: 0.5728655 (1155)\ttotal: 5m 10s\tremaining: 3m 5s\n",
      "1300:\tlearn: 0.3912059\ttest: 0.5737932\tbest: 0.5728655 (1155)\ttotal: 5m 22s\tremaining: 2m 53s\n",
      "1350:\tlearn: 0.3870838\ttest: 0.5743185\tbest: 0.5728655 (1155)\ttotal: 5m 35s\tremaining: 2m 41s\n",
      "1400:\tlearn: 0.3828122\ttest: 0.5736134\tbest: 0.5728655 (1155)\ttotal: 5m 47s\tremaining: 2m 28s\n",
      "1450:\tlearn: 0.3784766\ttest: 0.5739211\tbest: 0.5728655 (1155)\ttotal: 6m\tremaining: 2m 16s\n",
      "Stopped by overfitting detector  (300 iterations wait)\n",
      "\n",
      "bestTest = 0.5728654675\n",
      "bestIteration = 1155\n",
      "\n",
      "Shrink model to first 1156 iterations.\n",
      "RMSE:  0.6082762530298219\n"
     ]
    },
    {
     "name": "stderr",
     "output_type": "stream",
     "text": [
      "Warning: Overfitting detector is active, thus evaluation metric is calculated on every iteration. 'metric_period' is ignored for evaluation metric.\n"
     ]
    },
    {
     "name": "stdout",
     "output_type": "stream",
     "text": [
      "0:\tlearn: 0.6399411\ttest: 0.6250675\tbest: 0.6250675 (0)\ttotal: 304ms\tremaining: 10m 7s\n",
      "50:\tlearn: 0.5850127\ttest: 0.5782845\tbest: 0.5782845 (50)\ttotal: 12.8s\tremaining: 8m 9s\n",
      "100:\tlearn: 0.5670878\ttest: 0.5659404\tbest: 0.5659404 (100)\ttotal: 25.1s\tremaining: 7m 52s\n",
      "150:\tlearn: 0.5543060\ttest: 0.5592483\tbest: 0.5592483 (150)\ttotal: 37.4s\tremaining: 7m 37s\n",
      "200:\tlearn: 0.5422542\ttest: 0.5542749\tbest: 0.5542749 (200)\ttotal: 49.7s\tremaining: 7m 24s\n",
      "250:\tlearn: 0.5309054\ttest: 0.5517532\tbest: 0.5517532 (250)\ttotal: 1m 2s\tremaining: 7m 15s\n",
      "300:\tlearn: 0.5170263\ttest: 0.5481153\tbest: 0.5481153 (300)\ttotal: 1m 14s\tremaining: 7m 2s\n",
      "350:\tlearn: 0.5055100\ttest: 0.5456385\tbest: 0.5456385 (350)\ttotal: 1m 27s\tremaining: 6m 49s\n",
      "400:\tlearn: 0.4953448\ttest: 0.5450525\tbest: 0.5448808 (396)\ttotal: 1m 39s\tremaining: 6m 36s\n",
      "450:\tlearn: 0.4866553\ttest: 0.5445323\tbest: 0.5441455 (431)\ttotal: 1m 51s\tremaining: 6m 24s\n",
      "500:\tlearn: 0.4776835\ttest: 0.5432819\tbest: 0.5432819 (500)\ttotal: 2m 5s\tremaining: 6m 16s\n",
      "550:\tlearn: 0.4697723\ttest: 0.5419926\tbest: 0.5419926 (550)\ttotal: 2m 19s\tremaining: 6m 8s\n",
      "600:\tlearn: 0.4626857\ttest: 0.5416550\tbest: 0.5416510 (554)\ttotal: 2m 34s\tremaining: 6m\n",
      "650:\tlearn: 0.4554706\ttest: 0.5405931\tbest: 0.5405594 (648)\ttotal: 2m 47s\tremaining: 5m 46s\n",
      "700:\tlearn: 0.4498963\ttest: 0.5405613\tbest: 0.5404749 (653)\ttotal: 2m 59s\tremaining: 5m 33s\n",
      "750:\tlearn: 0.4440711\ttest: 0.5405993\tbest: 0.5404063 (746)\ttotal: 3m 12s\tremaining: 5m 20s\n",
      "800:\tlearn: 0.4393584\ttest: 0.5400649\tbest: 0.5400057 (796)\ttotal: 3m 25s\tremaining: 5m 7s\n",
      "850:\tlearn: 0.4341668\ttest: 0.5398007\tbest: 0.5397743 (832)\ttotal: 3m 37s\tremaining: 4m 53s\n",
      "900:\tlearn: 0.4288236\ttest: 0.5395333\tbest: 0.5393904 (862)\ttotal: 3m 49s\tremaining: 4m 40s\n",
      "950:\tlearn: 0.4243990\ttest: 0.5391005\tbest: 0.5391005 (950)\ttotal: 4m 2s\tremaining: 4m 27s\n",
      "1000:\tlearn: 0.4198555\ttest: 0.5390737\tbest: 0.5390684 (983)\ttotal: 4m 14s\tremaining: 4m 14s\n",
      "1050:\tlearn: 0.4148208\ttest: 0.5384991\tbest: 0.5384757 (1047)\ttotal: 4m 27s\tremaining: 4m 1s\n",
      "1100:\tlearn: 0.4105685\ttest: 0.5380914\tbest: 0.5380283 (1087)\ttotal: 4m 40s\tremaining: 3m 48s\n",
      "1150:\tlearn: 0.4071250\ttest: 0.5380812\tbest: 0.5380160 (1128)\ttotal: 4m 52s\tremaining: 3m 36s\n",
      "1200:\tlearn: 0.4032299\ttest: 0.5376948\tbest: 0.5376294 (1191)\ttotal: 5m 5s\tremaining: 3m 23s\n",
      "1250:\tlearn: 0.3992766\ttest: 0.5372076\tbest: 0.5371482 (1249)\ttotal: 5m 17s\tremaining: 3m 10s\n",
      "1300:\tlearn: 0.3943718\ttest: 0.5370927\tbest: 0.5370927 (1300)\ttotal: 5m 30s\tremaining: 2m 57s\n",
      "1350:\tlearn: 0.3906261\ttest: 0.5367022\tbest: 0.5366369 (1348)\ttotal: 5m 42s\tremaining: 2m 44s\n",
      "1400:\tlearn: 0.3873158\ttest: 0.5364180\tbest: 0.5363783 (1380)\ttotal: 5m 55s\tremaining: 2m 31s\n",
      "1450:\tlearn: 0.3838852\ttest: 0.5363353\tbest: 0.5363353 (1450)\ttotal: 6m 7s\tremaining: 2m 19s\n",
      "1500:\tlearn: 0.3799961\ttest: 0.5364716\tbest: 0.5362072 (1478)\ttotal: 6m 20s\tremaining: 2m 6s\n",
      "1550:\tlearn: 0.3769199\ttest: 0.5361635\tbest: 0.5361635 (1550)\ttotal: 6m 32s\tremaining: 1m 53s\n",
      "1600:\tlearn: 0.3732110\ttest: 0.5360421\tbest: 0.5360212 (1597)\ttotal: 6m 45s\tremaining: 1m 41s\n",
      "1650:\tlearn: 0.3693084\ttest: 0.5359759\tbest: 0.5358338 (1641)\ttotal: 6m 57s\tremaining: 1m 28s\n",
      "1700:\tlearn: 0.3659931\ttest: 0.5364209\tbest: 0.5358338 (1641)\ttotal: 7m 10s\tremaining: 1m 15s\n",
      "1750:\tlearn: 0.3621176\ttest: 0.5364290\tbest: 0.5358338 (1641)\ttotal: 7m 22s\tremaining: 1m 2s\n",
      "1800:\tlearn: 0.3588880\ttest: 0.5363817\tbest: 0.5358338 (1641)\ttotal: 7m 35s\tremaining: 50.3s\n",
      "1850:\tlearn: 0.3555204\ttest: 0.5366074\tbest: 0.5358338 (1641)\ttotal: 7m 48s\tremaining: 37.7s\n",
      "1900:\tlearn: 0.3518044\ttest: 0.5366973\tbest: 0.5358338 (1641)\ttotal: 8m\tremaining: 25s\n",
      "Stopped by overfitting detector  (300 iterations wait)\n",
      "\n",
      "bestTest = 0.5358337743\n",
      "bestIteration = 1641\n",
      "\n",
      "Shrink model to first 1642 iterations.\n",
      "RMSE:  0.5968668193156661\n"
     ]
    },
    {
     "name": "stderr",
     "output_type": "stream",
     "text": [
      "Warning: Overfitting detector is active, thus evaluation metric is calculated on every iteration. 'metric_period' is ignored for evaluation metric.\n"
     ]
    },
    {
     "name": "stdout",
     "output_type": "stream",
     "text": [
      "0:\tlearn: 0.6385205\ttest: 0.6390563\tbest: 0.6390563 (0)\ttotal: 342ms\tremaining: 11m 23s\n",
      "50:\tlearn: 0.5813701\ttest: 0.5988206\tbest: 0.5988206 (50)\ttotal: 13s\tremaining: 8m 17s\n",
      "100:\tlearn: 0.5620292\ttest: 0.5890615\tbest: 0.5890615 (100)\ttotal: 25.8s\tremaining: 8m 4s\n",
      "150:\tlearn: 0.5481174\ttest: 0.5850531\tbest: 0.5850531 (150)\ttotal: 38.4s\tremaining: 7m 50s\n",
      "200:\tlearn: 0.5365399\ttest: 0.5823641\tbest: 0.5823330 (199)\ttotal: 50.9s\tremaining: 7m 35s\n",
      "250:\tlearn: 0.5243856\ttest: 0.5816641\tbest: 0.5816641 (250)\ttotal: 1m 3s\tremaining: 7m 22s\n",
      "300:\tlearn: 0.5123268\ttest: 0.5806566\tbest: 0.5803945 (287)\ttotal: 1m 15s\tremaining: 7m 8s\n",
      "350:\tlearn: 0.5017566\ttest: 0.5797491\tbest: 0.5795675 (344)\ttotal: 1m 28s\tremaining: 6m 55s\n",
      "400:\tlearn: 0.4912837\ttest: 0.5795321\tbest: 0.5794556 (399)\ttotal: 1m 40s\tremaining: 6m 42s\n",
      "450:\tlearn: 0.4820827\ttest: 0.5797743\tbest: 0.5792852 (414)\ttotal: 1m 53s\tremaining: 6m 29s\n",
      "500:\tlearn: 0.4736362\ttest: 0.5792863\tbest: 0.5790915 (493)\ttotal: 2m 6s\tremaining: 6m 17s\n",
      "550:\tlearn: 0.4654565\ttest: 0.5790319\tbest: 0.5787539 (530)\ttotal: 2m 18s\tremaining: 6m 4s\n",
      "600:\tlearn: 0.4583387\ttest: 0.5784416\tbest: 0.5782976 (583)\ttotal: 2m 31s\tremaining: 5m 53s\n"
     ]
    }
   ],
   "source": [
    "kf = KFold(n_splits=10, shuffle=True, random_state=2)\n",
    "\n",
    "errlgb = []  # Initialize list to store RMSE values\n",
    "y_pred_totlgb = []  # Initialize list to store total predictions\n",
    "\n",
    "for fold_, (train_idx, valid_idx) in enumerate(kf.split(X_train)):\n",
    "    X_train_fold, X_valid_fold = X_train[train_idx], X_train[valid_idx]\n",
    "    y_train_fold, y_valid_fold = y_train.iloc[train_idx], y_train.iloc[valid_idx]\n",
    "    \n",
    "    # Model\n",
    "    model = CatBoostRegressor(\n",
    "                            iterations=2000,\n",
    "                            learning_rate=0.05,\n",
    "                            depth=8,\n",
    "                            eval_metric='RMSE',  # Changed to accuracy metric\n",
    "                            random_seed=42,\n",
    "                            bagging_temperature=0.2,\n",
    "                            od_type='Iter',\n",
    "                            metric_period=50,\n",
    "                            od_wait=300\n",
    "                            )\n",
    "                \n",
    "    model.fit(X_train_fold, y_train_fold,\n",
    "                            use_best_model=True,\n",
    "                            eval_set=(X_valid_fold, y_valid_fold),  # Provide validation set for early stopping\n",
    "                            verbose=50)\n",
    "    \n",
    "    y_pred_prob = model.predict(X_test)\n",
    "    y_pred = process_prediction(y_pred_prob)  # Convert probabilities to regression\n",
    "    \n",
    "    rmse = np.sqrt(mean_squared_error(y_valid_fold, process_prediction(model.predict(X_valid_fold))))\n",
    "    print(\"RMSE: \", rmse)\n",
    "    errlgb.append(rmse)\n",
    "    y_pred_totlgb.append(y_pred)"
   ]
  },
  {
   "cell_type": "code",
   "execution_count": null,
   "metadata": {},
   "outputs": [
    {
     "name": "stdout",
     "output_type": "stream",
     "text": [
      "Fitting 3 folds for each of 16 candidates, totalling 48 fits\n"
     ]
    },
    {
     "name": "stderr",
     "output_type": "stream",
     "text": [
      "Warning: Overfitting detector is active, thus evaluation metric is calculated on every iteration. 'metric_period' is ignored for evaluation metric.\n"
     ]
    },
    {
     "name": "stdout",
     "output_type": "stream",
     "text": [
      "0:\tlearn: 0.6394934\ttest: 0.6342374\tbest: 0.6342374 (0)\ttotal: 52.7ms\tremaining: 5.21s\n",
      "50:\tlearn: 0.6224671\ttest: 0.6183970\tbest: 0.6183970 (50)\ttotal: 2.39s\tremaining: 2.29s\n",
      "99:\tlearn: 0.6129347\ttest: 0.6101908\tbest: 0.6101908 (99)\ttotal: 4.35s\tremaining: 0us\n",
      "\n",
      "bestTest = 0.6101907655\n",
      "bestIteration = 99\n",
      "\n",
      "[CV] END depth=4, iterations=100, l2_leaf_reg=1, learning_rate=0.01; total time=   5.1s\n"
     ]
    },
    {
     "name": "stderr",
     "output_type": "stream",
     "text": [
      "Warning: Overfitting detector is active, thus evaluation metric is calculated on every iteration. 'metric_period' is ignored for evaluation metric.\n"
     ]
    },
    {
     "name": "stdout",
     "output_type": "stream",
     "text": [
      "0:\tlearn: 0.6449197\ttest: 0.6340773\tbest: 0.6340773 (0)\ttotal: 40.9ms\tremaining: 4.04s\n",
      "50:\tlearn: 0.6255606\ttest: 0.6186695\tbest: 0.6186695 (50)\ttotal: 2.17s\tremaining: 2.08s\n",
      "99:\tlearn: 0.6153944\ttest: 0.6110613\tbest: 0.6110613 (99)\ttotal: 4.42s\tremaining: 0us\n",
      "\n",
      "bestTest = 0.6110613091\n",
      "bestIteration = 99\n",
      "\n",
      "[CV] END depth=4, iterations=100, l2_leaf_reg=1, learning_rate=0.01; total time=   5.1s\n"
     ]
    },
    {
     "name": "stderr",
     "output_type": "stream",
     "text": [
      "Warning: Overfitting detector is active, thus evaluation metric is calculated on every iteration. 'metric_period' is ignored for evaluation metric.\n"
     ]
    },
    {
     "name": "stdout",
     "output_type": "stream",
     "text": [
      "0:\tlearn: 0.6432136\ttest: 0.6340088\tbest: 0.6340088 (0)\ttotal: 42ms\tremaining: 4.16s\n",
      "50:\tlearn: 0.6239421\ttest: 0.6174370\tbest: 0.6174370 (50)\ttotal: 2.7s\tremaining: 2.59s\n",
      "99:\tlearn: 0.6132115\ttest: 0.6085693\tbest: 0.6085693 (99)\ttotal: 5.29s\tremaining: 0us\n",
      "\n",
      "bestTest = 0.6085693071\n",
      "bestIteration = 99\n",
      "\n",
      "[CV] END depth=4, iterations=100, l2_leaf_reg=1, learning_rate=0.01; total time=   6.0s\n"
     ]
    },
    {
     "name": "stderr",
     "output_type": "stream",
     "text": [
      "Warning: Overfitting detector is active, thus evaluation metric is calculated on every iteration. 'metric_period' is ignored for evaluation metric.\n"
     ]
    },
    {
     "name": "stdout",
     "output_type": "stream",
     "text": [
      "0:\tlearn: 0.6356579\ttest: 0.6306666\tbest: 0.6306666 (0)\ttotal: 38.3ms\tremaining: 3.8s\n",
      "50:\tlearn: 0.5805366\ttest: 0.5896111\tbest: 0.5896111 (50)\ttotal: 2.29s\tremaining: 2.2s\n",
      "99:\tlearn: 0.5553899\ttest: 0.5794989\tbest: 0.5794989 (99)\ttotal: 4.1s\tremaining: 0us\n",
      "\n",
      "bestTest = 0.5794988816\n",
      "bestIteration = 99\n",
      "\n",
      "[CV] END depth=4, iterations=100, l2_leaf_reg=1, learning_rate=0.1; total time=   4.8s\n"
     ]
    },
    {
     "name": "stderr",
     "output_type": "stream",
     "text": [
      "Warning: Overfitting detector is active, thus evaluation metric is calculated on every iteration. 'metric_period' is ignored for evaluation metric.\n"
     ]
    },
    {
     "name": "stdout",
     "output_type": "stream",
     "text": [
      "0:\tlearn: 0.6397665\ttest: 0.6299886\tbest: 0.6299886 (0)\ttotal: 33.6ms\tremaining: 3.33s\n",
      "50:\tlearn: 0.5804834\ttest: 0.5885955\tbest: 0.5885955 (50)\ttotal: 1.99s\tremaining: 1.91s\n",
      "99:\tlearn: 0.5579911\ttest: 0.5799449\tbest: 0.5798872 (98)\ttotal: 3.87s\tremaining: 0us\n",
      "\n",
      "bestTest = 0.5798871787\n",
      "bestIteration = 98\n",
      "\n",
      "Shrink model to first 99 iterations.\n",
      "[CV] END depth=4, iterations=100, l2_leaf_reg=1, learning_rate=0.1; total time=   4.5s\n"
     ]
    },
    {
     "name": "stderr",
     "output_type": "stream",
     "text": [
      "Warning: Overfitting detector is active, thus evaluation metric is calculated on every iteration. 'metric_period' is ignored for evaluation metric.\n"
     ]
    },
    {
     "name": "stdout",
     "output_type": "stream",
     "text": [
      "0:\tlearn: 0.6382818\ttest: 0.6293264\tbest: 0.6293264 (0)\ttotal: 40.1ms\tremaining: 3.97s\n",
      "50:\tlearn: 0.5786588\ttest: 0.5851868\tbest: 0.5851868 (50)\ttotal: 2.46s\tremaining: 2.36s\n",
      "99:\tlearn: 0.5535837\ttest: 0.5779082\tbest: 0.5779082 (99)\ttotal: 4.39s\tremaining: 0us\n",
      "\n",
      "bestTest = 0.57790817\n",
      "bestIteration = 99\n",
      "\n",
      "[CV] END depth=4, iterations=100, l2_leaf_reg=1, learning_rate=0.1; total time=   5.0s\n"
     ]
    },
    {
     "name": "stderr",
     "output_type": "stream",
     "text": [
      "Warning: Overfitting detector is active, thus evaluation metric is calculated on every iteration. 'metric_period' is ignored for evaluation metric.\n"
     ]
    },
    {
     "name": "stdout",
     "output_type": "stream",
     "text": [
      "0:\tlearn: 0.6394987\ttest: 0.6342408\tbest: 0.6342408 (0)\ttotal: 36.3ms\tremaining: 3.6s\n",
      "50:\tlearn: 0.6229251\ttest: 0.6187596\tbest: 0.6187596 (50)\ttotal: 2.02s\tremaining: 1.94s\n",
      "99:\tlearn: 0.6135785\ttest: 0.6105625\tbest: 0.6105625 (99)\ttotal: 3.86s\tremaining: 0us\n",
      "\n",
      "bestTest = 0.6105625127\n",
      "bestIteration = 99\n",
      "\n",
      "[CV] END depth=4, iterations=100, l2_leaf_reg=3, learning_rate=0.01; total time=   4.6s\n"
     ]
    },
    {
     "name": "stderr",
     "output_type": "stream",
     "text": [
      "Warning: Overfitting detector is active, thus evaluation metric is calculated on every iteration. 'metric_period' is ignored for evaluation metric.\n"
     ]
    },
    {
     "name": "stdout",
     "output_type": "stream",
     "text": [
      "0:\tlearn: 0.6449390\ttest: 0.6340871\tbest: 0.6340871 (0)\ttotal: 57.7ms\tremaining: 5.71s\n",
      "50:\tlearn: 0.6259472\ttest: 0.6188831\tbest: 0.6188831 (50)\ttotal: 2.16s\tremaining: 2.08s\n",
      "99:\tlearn: 0.6158376\ttest: 0.6113479\tbest: 0.6113479 (99)\ttotal: 4.01s\tremaining: 0us\n",
      "\n",
      "bestTest = 0.6113478538\n",
      "bestIteration = 99\n",
      "\n",
      "[CV] END depth=4, iterations=100, l2_leaf_reg=3, learning_rate=0.01; total time=   4.7s\n"
     ]
    },
    {
     "name": "stderr",
     "output_type": "stream",
     "text": [
      "Warning: Overfitting detector is active, thus evaluation metric is calculated on every iteration. 'metric_period' is ignored for evaluation metric.\n"
     ]
    },
    {
     "name": "stdout",
     "output_type": "stream",
     "text": [
      "0:\tlearn: 0.6431561\ttest: 0.6340185\tbest: 0.6340185 (0)\ttotal: 41ms\tremaining: 4.06s\n",
      "50:\tlearn: 0.6243305\ttest: 0.6176526\tbest: 0.6176526 (50)\ttotal: 1.99s\tremaining: 1.91s\n",
      "99:\tlearn: 0.6138315\ttest: 0.6089236\tbest: 0.6089236 (99)\ttotal: 3.85s\tremaining: 0us\n",
      "\n",
      "bestTest = 0.6089235857\n",
      "bestIteration = 99\n",
      "\n",
      "[CV] END depth=4, iterations=100, l2_leaf_reg=3, learning_rate=0.01; total time=   4.5s\n"
     ]
    },
    {
     "name": "stderr",
     "output_type": "stream",
     "text": [
      "Warning: Overfitting detector is active, thus evaluation metric is calculated on every iteration. 'metric_period' is ignored for evaluation metric.\n"
     ]
    },
    {
     "name": "stdout",
     "output_type": "stream",
     "text": [
      "0:\tlearn: 0.6357068\ttest: 0.6306972\tbest: 0.6306972 (0)\ttotal: 31.4ms\tremaining: 3.1s\n",
      "50:\tlearn: 0.5833188\ttest: 0.5909654\tbest: 0.5909602 (49)\ttotal: 2.02s\tremaining: 1.94s\n",
      "99:\tlearn: 0.5614870\ttest: 0.5835575\tbest: 0.5832280 (96)\ttotal: 3.87s\tremaining: 0us\n",
      "\n",
      "bestTest = 0.5832280218\n",
      "bestIteration = 96\n",
      "\n",
      "Shrink model to first 97 iterations.\n",
      "[CV] END depth=4, iterations=100, l2_leaf_reg=3, learning_rate=0.1; total time=   4.5s\n"
     ]
    },
    {
     "name": "stderr",
     "output_type": "stream",
     "text": [
      "Warning: Overfitting detector is active, thus evaluation metric is calculated on every iteration. 'metric_period' is ignored for evaluation metric.\n"
     ]
    },
    {
     "name": "stdout",
     "output_type": "stream",
     "text": [
      "0:\tlearn: 0.6399461\ttest: 0.6300765\tbest: 0.6300765 (0)\ttotal: 57.3ms\tremaining: 5.67s\n",
      "50:\tlearn: 0.5841009\ttest: 0.5900631\tbest: 0.5900631 (50)\ttotal: 3.58s\tremaining: 3.44s\n",
      "99:\tlearn: 0.5637079\ttest: 0.5817104\tbest: 0.5815032 (97)\ttotal: 6.35s\tremaining: 0us\n",
      "\n",
      "bestTest = 0.5815032271\n",
      "bestIteration = 97\n",
      "\n",
      "Shrink model to first 98 iterations.\n",
      "[CV] END depth=4, iterations=100, l2_leaf_reg=3, learning_rate=0.1; total time=   7.1s\n"
     ]
    },
    {
     "name": "stderr",
     "output_type": "stream",
     "text": [
      "Warning: Overfitting detector is active, thus evaluation metric is calculated on every iteration. 'metric_period' is ignored for evaluation metric.\n"
     ]
    },
    {
     "name": "stdout",
     "output_type": "stream",
     "text": [
      "0:\tlearn: 0.6377215\ttest: 0.6294268\tbest: 0.6294268 (0)\ttotal: 47.1ms\tremaining: 4.66s\n",
      "50:\tlearn: 0.5818495\ttest: 0.5865675\tbest: 0.5865675 (50)\ttotal: 2.09s\tremaining: 2.01s\n",
      "99:\tlearn: 0.5597824\ttest: 0.5795106\tbest: 0.5795106 (99)\ttotal: 3.98s\tremaining: 0us\n",
      "\n",
      "bestTest = 0.5795106093\n",
      "bestIteration = 99\n",
      "\n",
      "[CV] END depth=4, iterations=100, l2_leaf_reg=3, learning_rate=0.1; total time=   4.8s\n"
     ]
    },
    {
     "name": "stderr",
     "output_type": "stream",
     "text": [
      "Warning: Overfitting detector is active, thus evaluation metric is calculated on every iteration. 'metric_period' is ignored for evaluation metric.\n"
     ]
    },
    {
     "name": "stdout",
     "output_type": "stream",
     "text": [
      "0:\tlearn: 0.6394934\ttest: 0.6342374\tbest: 0.6342374 (0)\ttotal: 35.9ms\tremaining: 7.15s\n",
      "50:\tlearn: 0.6224671\ttest: 0.6183970\tbest: 0.6183970 (50)\ttotal: 2.15s\tremaining: 6.29s\n",
      "100:\tlearn: 0.6128304\ttest: 0.6101265\tbest: 0.6101265 (100)\ttotal: 4.01s\tremaining: 3.93s\n",
      "150:\tlearn: 0.6061071\ttest: 0.6045440\tbest: 0.6045440 (150)\ttotal: 5.84s\tremaining: 1.9s\n",
      "199:\tlearn: 0.6011398\ttest: 0.6010448\tbest: 0.6010448 (199)\ttotal: 7.79s\tremaining: 0us\n",
      "\n",
      "bestTest = 0.6010447558\n",
      "bestIteration = 199\n",
      "\n",
      "[CV] END depth=4, iterations=200, l2_leaf_reg=1, learning_rate=0.01; total time=   8.4s\n"
     ]
    },
    {
     "name": "stderr",
     "output_type": "stream",
     "text": [
      "Warning: Overfitting detector is active, thus evaluation metric is calculated on every iteration. 'metric_period' is ignored for evaluation metric.\n"
     ]
    },
    {
     "name": "stdout",
     "output_type": "stream",
     "text": [
      "0:\tlearn: 0.6449197\ttest: 0.6340773\tbest: 0.6340773 (0)\ttotal: 40.5ms\tremaining: 8.07s\n",
      "50:\tlearn: 0.6255606\ttest: 0.6186695\tbest: 0.6186695 (50)\ttotal: 2.82s\tremaining: 8.24s\n",
      "100:\tlearn: 0.6152398\ttest: 0.6109583\tbest: 0.6109583 (100)\ttotal: 5.5s\tremaining: 5.39s\n",
      "150:\tlearn: 0.6084776\ttest: 0.6061221\tbest: 0.6061221 (150)\ttotal: 8s\tremaining: 2.6s\n",
      "199:\tlearn: 0.6033369\ttest: 0.6023865\tbest: 0.6023865 (199)\ttotal: 10.1s\tremaining: 0us\n",
      "\n",
      "bestTest = 0.6023865452\n",
      "bestIteration = 199\n",
      "\n",
      "[CV] END depth=4, iterations=200, l2_leaf_reg=1, learning_rate=0.01; total time=  10.8s\n"
     ]
    },
    {
     "name": "stderr",
     "output_type": "stream",
     "text": [
      "Warning: Overfitting detector is active, thus evaluation metric is calculated on every iteration. 'metric_period' is ignored for evaluation metric.\n"
     ]
    },
    {
     "name": "stdout",
     "output_type": "stream",
     "text": [
      "0:\tlearn: 0.6432136\ttest: 0.6340088\tbest: 0.6340088 (0)\ttotal: 40.5ms\tremaining: 8.06s\n",
      "50:\tlearn: 0.6239421\ttest: 0.6174370\tbest: 0.6174370 (50)\ttotal: 2.52s\tremaining: 7.35s\n",
      "100:\tlearn: 0.6130524\ttest: 0.6084236\tbest: 0.6084236 (100)\ttotal: 4.61s\tremaining: 4.52s\n",
      "150:\tlearn: 0.6056921\ttest: 0.6027765\tbest: 0.6027765 (150)\ttotal: 6.71s\tremaining: 2.18s\n",
      "199:\tlearn: 0.6004364\ttest: 0.5991489\tbest: 0.5991489 (199)\ttotal: 8.73s\tremaining: 0us\n",
      "\n",
      "bestTest = 0.599148904\n",
      "bestIteration = 199\n",
      "\n",
      "[CV] END depth=4, iterations=200, l2_leaf_reg=1, learning_rate=0.01; total time=   9.4s\n"
     ]
    },
    {
     "name": "stderr",
     "output_type": "stream",
     "text": [
      "Warning: Overfitting detector is active, thus evaluation metric is calculated on every iteration. 'metric_period' is ignored for evaluation metric.\n"
     ]
    },
    {
     "name": "stdout",
     "output_type": "stream",
     "text": [
      "0:\tlearn: 0.6356579\ttest: 0.6306666\tbest: 0.6306666 (0)\ttotal: 45.1ms\tremaining: 8.98s\n",
      "50:\tlearn: 0.5805366\ttest: 0.5896111\tbest: 0.5896111 (50)\ttotal: 2.3s\tremaining: 6.73s\n",
      "100:\tlearn: 0.5548857\ttest: 0.5791979\tbest: 0.5791979 (100)\ttotal: 4.6s\tremaining: 4.51s\n",
      "150:\tlearn: 0.5319445\ttest: 0.5769081\tbest: 0.5769081 (150)\ttotal: 6.71s\tremaining: 2.18s\n",
      "199:\tlearn: 0.5122591\ttest: 0.5746459\tbest: 0.5746459 (199)\ttotal: 8.85s\tremaining: 0us\n",
      "\n",
      "bestTest = 0.5746458917\n",
      "bestIteration = 199\n",
      "\n",
      "[CV] END depth=4, iterations=200, l2_leaf_reg=1, learning_rate=0.1; total time=   9.8s\n"
     ]
    },
    {
     "name": "stderr",
     "output_type": "stream",
     "text": [
      "Warning: Overfitting detector is active, thus evaluation metric is calculated on every iteration. 'metric_period' is ignored for evaluation metric.\n"
     ]
    },
    {
     "name": "stdout",
     "output_type": "stream",
     "text": [
      "0:\tlearn: 0.6397665\ttest: 0.6299886\tbest: 0.6299886 (0)\ttotal: 99.5ms\tremaining: 19.8s\n",
      "50:\tlearn: 0.5804834\ttest: 0.5885955\tbest: 0.5885955 (50)\ttotal: 2.59s\tremaining: 7.57s\n",
      "100:\tlearn: 0.5574937\ttest: 0.5798206\tbest: 0.5798206 (100)\ttotal: 4.79s\tremaining: 4.7s\n",
      "150:\tlearn: 0.5350279\ttest: 0.5757023\tbest: 0.5757023 (150)\ttotal: 7.29s\tremaining: 2.36s\n",
      "199:\tlearn: 0.5161819\ttest: 0.5748234\tbest: 0.5743045 (172)\ttotal: 9.89s\tremaining: 0us\n",
      "\n",
      "bestTest = 0.5743044965\n",
      "bestIteration = 172\n",
      "\n",
      "Shrink model to first 173 iterations.\n",
      "[CV] END depth=4, iterations=200, l2_leaf_reg=1, learning_rate=0.1; total time=  10.7s\n"
     ]
    },
    {
     "name": "stderr",
     "output_type": "stream",
     "text": [
      "Warning: Overfitting detector is active, thus evaluation metric is calculated on every iteration. 'metric_period' is ignored for evaluation metric.\n"
     ]
    },
    {
     "name": "stdout",
     "output_type": "stream",
     "text": [
      "0:\tlearn: 0.6382818\ttest: 0.6293264\tbest: 0.6293264 (0)\ttotal: 36.9ms\tremaining: 7.35s\n",
      "50:\tlearn: 0.5786588\ttest: 0.5851868\tbest: 0.5851868 (50)\ttotal: 2.82s\tremaining: 8.24s\n",
      "100:\tlearn: 0.5530694\ttest: 0.5776897\tbest: 0.5776897 (100)\ttotal: 5.32s\tremaining: 5.21s\n",
      "150:\tlearn: 0.5279282\ttest: 0.5732071\tbest: 0.5732071 (150)\ttotal: 7.7s\tremaining: 2.5s\n",
      "199:\tlearn: 0.5096809\ttest: 0.5715427\tbest: 0.5715427 (199)\ttotal: 10.1s\tremaining: 0us\n",
      "\n",
      "bestTest = 0.5715426655\n",
      "bestIteration = 199\n",
      "\n",
      "[CV] END depth=4, iterations=200, l2_leaf_reg=1, learning_rate=0.1; total time=  10.8s\n"
     ]
    },
    {
     "name": "stderr",
     "output_type": "stream",
     "text": [
      "Warning: Overfitting detector is active, thus evaluation metric is calculated on every iteration. 'metric_period' is ignored for evaluation metric.\n"
     ]
    },
    {
     "name": "stdout",
     "output_type": "stream",
     "text": [
      "0:\tlearn: 0.6394987\ttest: 0.6342408\tbest: 0.6342408 (0)\ttotal: 50.4ms\tremaining: 10s\n",
      "50:\tlearn: 0.6229251\ttest: 0.6187596\tbest: 0.6187596 (50)\ttotal: 2.85s\tremaining: 8.33s\n",
      "100:\tlearn: 0.6134777\ttest: 0.6105002\tbest: 0.6105002 (100)\ttotal: 5.04s\tremaining: 4.94s\n",
      "150:\tlearn: 0.6070513\ttest: 0.6049798\tbest: 0.6049798 (150)\ttotal: 7.03s\tremaining: 2.28s\n",
      "199:\tlearn: 0.6023605\ttest: 0.6014898\tbest: 0.6014898 (199)\ttotal: 8.85s\tremaining: 0us\n",
      "\n",
      "bestTest = 0.6014897975\n",
      "bestIteration = 199\n",
      "\n",
      "[CV] END depth=4, iterations=200, l2_leaf_reg=3, learning_rate=0.01; total time=  10.0s\n"
     ]
    },
    {
     "name": "stderr",
     "output_type": "stream",
     "text": [
      "Warning: Overfitting detector is active, thus evaluation metric is calculated on every iteration. 'metric_period' is ignored for evaluation metric.\n"
     ]
    },
    {
     "name": "stdout",
     "output_type": "stream",
     "text": [
      "0:\tlearn: 0.6449390\ttest: 0.6340871\tbest: 0.6340871 (0)\ttotal: 133ms\tremaining: 26.5s\n",
      "50:\tlearn: 0.6259472\ttest: 0.6188831\tbest: 0.6188831 (50)\ttotal: 3.28s\tremaining: 9.58s\n",
      "100:\tlearn: 0.6156870\ttest: 0.6112472\tbest: 0.6112472 (100)\ttotal: 6.3s\tremaining: 6.17s\n",
      "150:\tlearn: 0.6089585\ttest: 0.6061532\tbest: 0.6061532 (150)\ttotal: 8.85s\tremaining: 2.87s\n",
      "199:\tlearn: 0.6040636\ttest: 0.6024586\tbest: 0.6024586 (199)\ttotal: 10.8s\tremaining: 0us\n",
      "\n",
      "bestTest = 0.602458574\n",
      "bestIteration = 199\n",
      "\n",
      "[CV] END depth=4, iterations=200, l2_leaf_reg=3, learning_rate=0.01; total time=  11.8s\n"
     ]
    },
    {
     "name": "stderr",
     "output_type": "stream",
     "text": [
      "Warning: Overfitting detector is active, thus evaluation metric is calculated on every iteration. 'metric_period' is ignored for evaluation metric.\n"
     ]
    },
    {
     "name": "stdout",
     "output_type": "stream",
     "text": [
      "0:\tlearn: 0.6431561\ttest: 0.6340185\tbest: 0.6340185 (0)\ttotal: 37.1ms\tremaining: 7.38s\n",
      "50:\tlearn: 0.6243305\ttest: 0.6176526\tbest: 0.6176526 (50)\ttotal: 1.98s\tremaining: 5.77s\n",
      "100:\tlearn: 0.6136764\ttest: 0.6087795\tbest: 0.6087795 (100)\ttotal: 3.8s\tremaining: 3.72s\n",
      "150:\tlearn: 0.6064181\ttest: 0.6032089\tbest: 0.6032089 (150)\ttotal: 5.66s\tremaining: 1.84s\n",
      "199:\tlearn: 0.6013715\ttest: 0.5995238\tbest: 0.5995238 (199)\ttotal: 7.44s\tremaining: 0us\n",
      "\n",
      "bestTest = 0.5995238276\n",
      "bestIteration = 199\n",
      "\n",
      "[CV] END depth=4, iterations=200, l2_leaf_reg=3, learning_rate=0.01; total time=   8.1s\n"
     ]
    },
    {
     "name": "stderr",
     "output_type": "stream",
     "text": [
      "Warning: Overfitting detector is active, thus evaluation metric is calculated on every iteration. 'metric_period' is ignored for evaluation metric.\n"
     ]
    },
    {
     "name": "stdout",
     "output_type": "stream",
     "text": [
      "0:\tlearn: 0.6357068\ttest: 0.6306972\tbest: 0.6306972 (0)\ttotal: 42.3ms\tremaining: 8.41s\n",
      "50:\tlearn: 0.5833188\ttest: 0.5909654\tbest: 0.5909602 (49)\ttotal: 1.98s\tremaining: 5.79s\n",
      "100:\tlearn: 0.5611500\ttest: 0.5833079\tbest: 0.5832280 (96)\ttotal: 3.92s\tremaining: 3.84s\n",
      "150:\tlearn: 0.5408970\ttest: 0.5789324\tbest: 0.5789216 (149)\ttotal: 5.73s\tremaining: 1.86s\n",
      "199:\tlearn: 0.5242329\ttest: 0.5757855\tbest: 0.5757165 (195)\ttotal: 7.48s\tremaining: 0us\n",
      "\n",
      "bestTest = 0.5757165321\n",
      "bestIteration = 195\n",
      "\n",
      "Shrink model to first 196 iterations.\n",
      "[CV] END depth=4, iterations=200, l2_leaf_reg=3, learning_rate=0.1; total time=   8.3s\n"
     ]
    },
    {
     "name": "stderr",
     "output_type": "stream",
     "text": [
      "Warning: Overfitting detector is active, thus evaluation metric is calculated on every iteration. 'metric_period' is ignored for evaluation metric.\n"
     ]
    },
    {
     "name": "stdout",
     "output_type": "stream",
     "text": [
      "0:\tlearn: 0.6399461\ttest: 0.6300765\tbest: 0.6300765 (0)\ttotal: 33ms\tremaining: 6.57s\n",
      "50:\tlearn: 0.5841009\ttest: 0.5900631\tbest: 0.5900631 (50)\ttotal: 1.95s\tremaining: 5.71s\n",
      "100:\tlearn: 0.5633698\ttest: 0.5817344\tbest: 0.5815032 (97)\ttotal: 3.72s\tremaining: 3.65s\n",
      "150:\tlearn: 0.5442956\ttest: 0.5776577\tbest: 0.5775838 (149)\ttotal: 5.56s\tremaining: 1.8s\n",
      "199:\tlearn: 0.5278921\ttest: 0.5746095\tbest: 0.5745512 (195)\ttotal: 7.3s\tremaining: 0us\n",
      "\n",
      "bestTest = 0.574551194\n",
      "bestIteration = 195\n",
      "\n",
      "Shrink model to first 196 iterations.\n",
      "[CV] END depth=4, iterations=200, l2_leaf_reg=3, learning_rate=0.1; total time=   8.0s\n"
     ]
    },
    {
     "name": "stderr",
     "output_type": "stream",
     "text": [
      "Warning: Overfitting detector is active, thus evaluation metric is calculated on every iteration. 'metric_period' is ignored for evaluation metric.\n"
     ]
    },
    {
     "name": "stdout",
     "output_type": "stream",
     "text": [
      "0:\tlearn: 0.6377215\ttest: 0.6294268\tbest: 0.6294268 (0)\ttotal: 39.1ms\tremaining: 7.79s\n",
      "50:\tlearn: 0.5818495\ttest: 0.5865675\tbest: 0.5865675 (50)\ttotal: 2s\tremaining: 5.84s\n",
      "100:\tlearn: 0.5590728\ttest: 0.5795150\tbest: 0.5795106 (99)\ttotal: 3.8s\tremaining: 3.73s\n",
      "150:\tlearn: 0.5371274\ttest: 0.5745431\tbest: 0.5745431 (150)\ttotal: 6.12s\tremaining: 1.99s\n",
      "199:\tlearn: 0.5228594\ttest: 0.5737069\tbest: 0.5732999 (176)\ttotal: 8.19s\tremaining: 0us\n",
      "\n",
      "bestTest = 0.5732998865\n",
      "bestIteration = 176\n",
      "\n",
      "Shrink model to first 177 iterations.\n",
      "[CV] END depth=4, iterations=200, l2_leaf_reg=3, learning_rate=0.1; total time=   8.8s\n"
     ]
    },
    {
     "name": "stderr",
     "output_type": "stream",
     "text": [
      "Warning: Overfitting detector is active, thus evaluation metric is calculated on every iteration. 'metric_period' is ignored for evaluation metric.\n"
     ]
    },
    {
     "name": "stdout",
     "output_type": "stream",
     "text": [
      "0:\tlearn: 0.6393771\ttest: 0.6341263\tbest: 0.6341263 (0)\ttotal: 116ms\tremaining: 11.5s\n",
      "50:\tlearn: 0.6198399\ttest: 0.6168614\tbest: 0.6168614 (50)\ttotal: 4.6s\tremaining: 4.42s\n",
      "99:\tlearn: 0.6083193\ttest: 0.6076696\tbest: 0.6076696 (99)\ttotal: 9.2s\tremaining: 0us\n",
      "\n",
      "bestTest = 0.6076696442\n",
      "bestIteration = 99\n",
      "\n",
      "[CV] END depth=6, iterations=100, l2_leaf_reg=1, learning_rate=0.01; total time=  10.1s\n"
     ]
    },
    {
     "name": "stderr",
     "output_type": "stream",
     "text": [
      "Warning: Overfitting detector is active, thus evaluation metric is calculated on every iteration. 'metric_period' is ignored for evaluation metric.\n"
     ]
    },
    {
     "name": "stdout",
     "output_type": "stream",
     "text": [
      "0:\tlearn: 0.6448137\ttest: 0.6340071\tbest: 0.6340071 (0)\ttotal: 80.1ms\tremaining: 7.92s\n",
      "50:\tlearn: 0.6233697\ttest: 0.6175628\tbest: 0.6175628 (50)\ttotal: 4.38s\tremaining: 4.21s\n",
      "99:\tlearn: 0.6107161\ttest: 0.6084647\tbest: 0.6084647 (99)\ttotal: 8.31s\tremaining: 0us\n",
      "\n",
      "bestTest = 0.6084646971\n",
      "bestIteration = 99\n",
      "\n",
      "[CV] END depth=6, iterations=100, l2_leaf_reg=1, learning_rate=0.01; total time=   9.0s\n"
     ]
    },
    {
     "name": "stderr",
     "output_type": "stream",
     "text": [
      "Warning: Overfitting detector is active, thus evaluation metric is calculated on every iteration. 'metric_period' is ignored for evaluation metric.\n"
     ]
    },
    {
     "name": "stdout",
     "output_type": "stream",
     "text": [
      "0:\tlearn: 0.6431965\ttest: 0.6339942\tbest: 0.6339942 (0)\ttotal: 97ms\tremaining: 9.6s\n",
      "50:\tlearn: 0.6218085\ttest: 0.6167432\tbest: 0.6167432 (50)\ttotal: 4.03s\tremaining: 3.87s\n",
      "99:\tlearn: 0.6086472\ttest: 0.6062872\tbest: 0.6062872 (99)\ttotal: 7.67s\tremaining: 0us\n",
      "\n",
      "bestTest = 0.6062872287\n",
      "bestIteration = 99\n",
      "\n",
      "[CV] END depth=6, iterations=100, l2_leaf_reg=1, learning_rate=0.01; total time=   8.4s\n"
     ]
    },
    {
     "name": "stderr",
     "output_type": "stream",
     "text": [
      "Warning: Overfitting detector is active, thus evaluation metric is calculated on every iteration. 'metric_period' is ignored for evaluation metric.\n"
     ]
    },
    {
     "name": "stdout",
     "output_type": "stream",
     "text": [
      "0:\tlearn: 0.6345363\ttest: 0.6296109\tbest: 0.6296109 (0)\ttotal: 80ms\tremaining: 7.92s\n",
      "50:\tlearn: 0.5668091\ttest: 0.5849686\tbest: 0.5849686 (50)\ttotal: 4.01s\tremaining: 3.86s\n",
      "99:\tlearn: 0.5351804\ttest: 0.5782424\tbest: 0.5780018 (98)\ttotal: 7.83s\tremaining: 0us\n",
      "\n",
      "bestTest = 0.5780017911\n",
      "bestIteration = 98\n",
      "\n",
      "Shrink model to first 99 iterations.\n",
      "[CV] END depth=6, iterations=100, l2_leaf_reg=1, learning_rate=0.1; total time=   8.5s\n"
     ]
    },
    {
     "name": "stderr",
     "output_type": "stream",
     "text": [
      "Warning: Overfitting detector is active, thus evaluation metric is calculated on every iteration. 'metric_period' is ignored for evaluation metric.\n"
     ]
    },
    {
     "name": "stdout",
     "output_type": "stream",
     "text": [
      "0:\tlearn: 0.6387409\ttest: 0.6293142\tbest: 0.6293142 (0)\ttotal: 83ms\tremaining: 8.21s\n",
      "50:\tlearn: 0.5704956\ttest: 0.5878627\tbest: 0.5878627 (50)\ttotal: 4.06s\tremaining: 3.9s\n",
      "99:\tlearn: 0.5391683\ttest: 0.5767368\tbest: 0.5767368 (99)\ttotal: 7.71s\tremaining: 0us\n",
      "\n",
      "bestTest = 0.5767367859\n",
      "bestIteration = 99\n",
      "\n",
      "[CV] END depth=6, iterations=100, l2_leaf_reg=1, learning_rate=0.1; total time=   8.3s\n"
     ]
    },
    {
     "name": "stderr",
     "output_type": "stream",
     "text": [
      "Warning: Overfitting detector is active, thus evaluation metric is calculated on every iteration. 'metric_period' is ignored for evaluation metric.\n"
     ]
    },
    {
     "name": "stdout",
     "output_type": "stream",
     "text": [
      "0:\tlearn: 0.6381139\ttest: 0.6291807\tbest: 0.6291807 (0)\ttotal: 79.2ms\tremaining: 7.84s\n",
      "50:\tlearn: 0.5640169\ttest: 0.5823706\tbest: 0.5823706 (50)\ttotal: 4.49s\tremaining: 4.32s\n",
      "99:\tlearn: 0.5318526\ttest: 0.5739901\tbest: 0.5739901 (99)\ttotal: 8.18s\tremaining: 0us\n",
      "\n",
      "bestTest = 0.5739900594\n",
      "bestIteration = 99\n",
      "\n",
      "[CV] END depth=6, iterations=100, l2_leaf_reg=1, learning_rate=0.1; total time=   8.8s\n"
     ]
    },
    {
     "name": "stderr",
     "output_type": "stream",
     "text": [
      "Warning: Overfitting detector is active, thus evaluation metric is calculated on every iteration. 'metric_period' is ignored for evaluation metric.\n"
     ]
    },
    {
     "name": "stdout",
     "output_type": "stream",
     "text": [
      "0:\tlearn: 0.6393943\ttest: 0.6341466\tbest: 0.6341466 (0)\ttotal: 73ms\tremaining: 7.23s\n",
      "50:\tlearn: 0.6205189\ttest: 0.6170384\tbest: 0.6170384 (50)\ttotal: 4.08s\tremaining: 3.92s\n",
      "99:\tlearn: 0.6095625\ttest: 0.6079223\tbest: 0.6079223 (99)\ttotal: 7.71s\tremaining: 0us\n",
      "\n",
      "bestTest = 0.6079222821\n",
      "bestIteration = 99\n",
      "\n",
      "[CV] END depth=6, iterations=100, l2_leaf_reg=3, learning_rate=0.01; total time=   8.3s\n"
     ]
    },
    {
     "name": "stderr",
     "output_type": "stream",
     "text": [
      "Warning: Overfitting detector is active, thus evaluation metric is calculated on every iteration. 'metric_period' is ignored for evaluation metric.\n"
     ]
    },
    {
     "name": "stdout",
     "output_type": "stream",
     "text": [
      "0:\tlearn: 0.6448517\ttest: 0.6340298\tbest: 0.6340298 (0)\ttotal: 75.8ms\tremaining: 7.5s\n",
      "50:\tlearn: 0.6242682\ttest: 0.6179612\tbest: 0.6179612 (50)\ttotal: 4.02s\tremaining: 3.86s\n",
      "99:\tlearn: 0.6121120\ttest: 0.6089800\tbest: 0.6089800 (99)\ttotal: 7.72s\tremaining: 0us\n",
      "\n",
      "bestTest = 0.608980044\n",
      "bestIteration = 99\n",
      "\n",
      "[CV] END depth=6, iterations=100, l2_leaf_reg=3, learning_rate=0.01; total time=   8.3s\n"
     ]
    },
    {
     "name": "stderr",
     "output_type": "stream",
     "text": [
      "Warning: Overfitting detector is active, thus evaluation metric is calculated on every iteration. 'metric_period' is ignored for evaluation metric.\n"
     ]
    },
    {
     "name": "stdout",
     "output_type": "stream",
     "text": [
      "0:\tlearn: 0.6431507\ttest: 0.6339979\tbest: 0.6339979 (0)\ttotal: 73.9ms\tremaining: 7.32s\n",
      "50:\tlearn: 0.6225901\ttest: 0.6170896\tbest: 0.6170896 (50)\ttotal: 4.01s\tremaining: 3.85s\n",
      "99:\tlearn: 0.6098231\ttest: 0.6067080\tbest: 0.6067080 (99)\ttotal: 7.82s\tremaining: 0us\n",
      "\n",
      "bestTest = 0.6067080391\n",
      "bestIteration = 99\n",
      "\n",
      "[CV] END depth=6, iterations=100, l2_leaf_reg=3, learning_rate=0.01; total time=   8.4s\n"
     ]
    },
    {
     "name": "stderr",
     "output_type": "stream",
     "text": [
      "Warning: Overfitting detector is active, thus evaluation metric is calculated on every iteration. 'metric_period' is ignored for evaluation metric.\n"
     ]
    },
    {
     "name": "stdout",
     "output_type": "stream",
     "text": [
      "0:\tlearn: 0.6346969\ttest: 0.6298012\tbest: 0.6298012 (0)\ttotal: 75.2ms\tremaining: 7.45s\n",
      "50:\tlearn: 0.5728010\ttest: 0.5856578\tbest: 0.5856578 (50)\ttotal: 4.05s\tremaining: 3.89s\n",
      "99:\tlearn: 0.5457881\ttest: 0.5790977\tbest: 0.5789405 (98)\ttotal: 7.59s\tremaining: 0us\n",
      "\n",
      "bestTest = 0.5789405493\n",
      "bestIteration = 98\n",
      "\n",
      "Shrink model to first 99 iterations.\n",
      "[CV] END depth=6, iterations=100, l2_leaf_reg=3, learning_rate=0.1; total time=   8.3s\n"
     ]
    },
    {
     "name": "stderr",
     "output_type": "stream",
     "text": [
      "Warning: Overfitting detector is active, thus evaluation metric is calculated on every iteration. 'metric_period' is ignored for evaluation metric.\n"
     ]
    },
    {
     "name": "stdout",
     "output_type": "stream",
     "text": [
      "0:\tlearn: 0.6390942\ttest: 0.6295200\tbest: 0.6295200 (0)\ttotal: 69.2ms\tremaining: 6.85s\n",
      "50:\tlearn: 0.5754240\ttest: 0.5879809\tbest: 0.5879809 (50)\ttotal: 3.77s\tremaining: 3.63s\n",
      "99:\tlearn: 0.5487118\ttest: 0.5784163\tbest: 0.5784163 (99)\ttotal: 7.35s\tremaining: 0us\n",
      "\n",
      "bestTest = 0.5784162995\n",
      "bestIteration = 99\n",
      "\n",
      "[CV] END depth=6, iterations=100, l2_leaf_reg=3, learning_rate=0.1; total time=   8.0s\n"
     ]
    },
    {
     "name": "stderr",
     "output_type": "stream",
     "text": [
      "Warning: Overfitting detector is active, thus evaluation metric is calculated on every iteration. 'metric_period' is ignored for evaluation metric.\n"
     ]
    },
    {
     "name": "stdout",
     "output_type": "stream",
     "text": [
      "0:\tlearn: 0.6376646\ttest: 0.6292131\tbest: 0.6292131 (0)\ttotal: 83.4ms\tremaining: 8.25s\n",
      "50:\tlearn: 0.5704992\ttest: 0.5840000\tbest: 0.5840000 (50)\ttotal: 4.05s\tremaining: 3.89s\n",
      "99:\tlearn: 0.5437015\ttest: 0.5769447\tbest: 0.5768468 (95)\ttotal: 7.69s\tremaining: 0us\n",
      "\n",
      "bestTest = 0.5768468069\n",
      "bestIteration = 95\n",
      "\n",
      "Shrink model to first 96 iterations.\n",
      "[CV] END depth=6, iterations=100, l2_leaf_reg=3, learning_rate=0.1; total time=   8.4s\n"
     ]
    },
    {
     "name": "stderr",
     "output_type": "stream",
     "text": [
      "Warning: Overfitting detector is active, thus evaluation metric is calculated on every iteration. 'metric_period' is ignored for evaluation metric.\n"
     ]
    },
    {
     "name": "stdout",
     "output_type": "stream",
     "text": [
      "0:\tlearn: 0.6393771\ttest: 0.6341263\tbest: 0.6341263 (0)\ttotal: 78.7ms\tremaining: 15.7s\n",
      "50:\tlearn: 0.6198399\ttest: 0.6168614\tbest: 0.6168614 (50)\ttotal: 3.79s\tremaining: 11.1s\n",
      "100:\tlearn: 0.6081654\ttest: 0.6075581\tbest: 0.6075581 (100)\ttotal: 7.3s\tremaining: 7.15s\n",
      "150:\tlearn: 0.5996699\ttest: 0.6015992\tbest: 0.6015992 (150)\ttotal: 10.9s\tremaining: 3.52s\n",
      "199:\tlearn: 0.5934555\ttest: 0.5973949\tbest: 0.5973949 (199)\ttotal: 14.3s\tremaining: 0us\n",
      "\n",
      "bestTest = 0.5973949017\n",
      "bestIteration = 199\n",
      "\n",
      "[CV] END depth=6, iterations=200, l2_leaf_reg=1, learning_rate=0.01; total time=  14.9s\n"
     ]
    },
    {
     "name": "stderr",
     "output_type": "stream",
     "text": [
      "Warning: Overfitting detector is active, thus evaluation metric is calculated on every iteration. 'metric_period' is ignored for evaluation metric.\n"
     ]
    },
    {
     "name": "stdout",
     "output_type": "stream",
     "text": [
      "0:\tlearn: 0.6448137\ttest: 0.6340071\tbest: 0.6340071 (0)\ttotal: 75ms\tremaining: 14.9s\n",
      "50:\tlearn: 0.6233697\ttest: 0.6175628\tbest: 0.6175628 (50)\ttotal: 3.84s\tremaining: 11.2s\n",
      "100:\tlearn: 0.6105055\ttest: 0.6083264\tbest: 0.6083264 (100)\ttotal: 8.14s\tremaining: 7.98s\n",
      "150:\tlearn: 0.6018186\ttest: 0.6026804\tbest: 0.6026804 (150)\ttotal: 12.8s\tremaining: 4.15s\n",
      "199:\tlearn: 0.5952952\ttest: 0.5986364\tbest: 0.5986364 (199)\ttotal: 18s\tremaining: 0us\n",
      "\n",
      "bestTest = 0.5986363505\n",
      "bestIteration = 199\n",
      "\n",
      "[CV] END depth=6, iterations=200, l2_leaf_reg=1, learning_rate=0.01; total time=  18.7s\n"
     ]
    },
    {
     "name": "stderr",
     "output_type": "stream",
     "text": [
      "Warning: Overfitting detector is active, thus evaluation metric is calculated on every iteration. 'metric_period' is ignored for evaluation metric.\n"
     ]
    },
    {
     "name": "stdout",
     "output_type": "stream",
     "text": [
      "0:\tlearn: 0.6431965\ttest: 0.6339942\tbest: 0.6339942 (0)\ttotal: 133ms\tremaining: 26.4s\n",
      "50:\tlearn: 0.6218085\ttest: 0.6167432\tbest: 0.6167432 (50)\ttotal: 5.55s\tremaining: 16.2s\n",
      "100:\tlearn: 0.6084176\ttest: 0.6060922\tbest: 0.6060922 (100)\ttotal: 10.6s\tremaining: 10.4s\n",
      "150:\tlearn: 0.5993556\ttest: 0.5995915\tbest: 0.5995915 (150)\ttotal: 15.1s\tremaining: 4.91s\n",
      "199:\tlearn: 0.5923206\ttest: 0.5952757\tbest: 0.5952757 (199)\ttotal: 20.3s\tremaining: 0us\n",
      "\n",
      "bestTest = 0.5952756699\n",
      "bestIteration = 199\n",
      "\n",
      "[CV] END depth=6, iterations=200, l2_leaf_reg=1, learning_rate=0.01; total time=  21.2s\n"
     ]
    },
    {
     "name": "stderr",
     "output_type": "stream",
     "text": [
      "Warning: Overfitting detector is active, thus evaluation metric is calculated on every iteration. 'metric_period' is ignored for evaluation metric.\n"
     ]
    },
    {
     "name": "stdout",
     "output_type": "stream",
     "text": [
      "0:\tlearn: 0.6345363\ttest: 0.6296109\tbest: 0.6296109 (0)\ttotal: 81.7ms\tremaining: 16.3s\n",
      "50:\tlearn: 0.5668091\ttest: 0.5849686\tbest: 0.5849686 (50)\ttotal: 4.85s\tremaining: 14.2s\n",
      "100:\tlearn: 0.5346543\ttest: 0.5782905\tbest: 0.5780018 (98)\ttotal: 9.7s\tremaining: 9.51s\n",
      "150:\tlearn: 0.5031372\ttest: 0.5751880\tbest: 0.5751880 (150)\ttotal: 13.6s\tremaining: 4.4s\n",
      "199:\tlearn: 0.4746339\ttest: 0.5733117\tbest: 0.5727495 (191)\ttotal: 17.4s\tremaining: 0us\n",
      "\n",
      "bestTest = 0.5727494527\n",
      "bestIteration = 191\n",
      "\n",
      "Shrink model to first 192 iterations.\n",
      "[CV] END depth=6, iterations=200, l2_leaf_reg=1, learning_rate=0.1; total time=  18.1s\n"
     ]
    },
    {
     "name": "stderr",
     "output_type": "stream",
     "text": [
      "Warning: Overfitting detector is active, thus evaluation metric is calculated on every iteration. 'metric_period' is ignored for evaluation metric.\n"
     ]
    },
    {
     "name": "stdout",
     "output_type": "stream",
     "text": [
      "0:\tlearn: 0.6387409\ttest: 0.6293142\tbest: 0.6293142 (0)\ttotal: 78.5ms\tremaining: 15.6s\n",
      "50:\tlearn: 0.5704956\ttest: 0.5878627\tbest: 0.5878627 (50)\ttotal: 3.99s\tremaining: 11.7s\n",
      "100:\tlearn: 0.5386010\ttest: 0.5766736\tbest: 0.5766736 (100)\ttotal: 7.89s\tremaining: 7.74s\n",
      "150:\tlearn: 0.5060015\ttest: 0.5723095\tbest: 0.5723095 (150)\ttotal: 12.7s\tremaining: 4.13s\n",
      "199:\tlearn: 0.4808736\ttest: 0.5702148\tbest: 0.5698261 (197)\ttotal: 16.7s\tremaining: 0us\n",
      "\n",
      "bestTest = 0.569826085\n",
      "bestIteration = 197\n",
      "\n",
      "Shrink model to first 198 iterations.\n",
      "[CV] END depth=6, iterations=200, l2_leaf_reg=1, learning_rate=0.1; total time=  17.3s\n"
     ]
    },
    {
     "name": "stderr",
     "output_type": "stream",
     "text": [
      "Warning: Overfitting detector is active, thus evaluation metric is calculated on every iteration. 'metric_period' is ignored for evaluation metric.\n"
     ]
    },
    {
     "name": "stdout",
     "output_type": "stream",
     "text": [
      "0:\tlearn: 0.6381139\ttest: 0.6291807\tbest: 0.6291807 (0)\ttotal: 90.1ms\tremaining: 17.9s\n",
      "50:\tlearn: 0.5640169\ttest: 0.5823706\tbest: 0.5823706 (50)\ttotal: 4.42s\tremaining: 12.9s\n",
      "100:\tlearn: 0.5312789\ttest: 0.5737819\tbest: 0.5737819 (100)\ttotal: 8.51s\tremaining: 8.34s\n",
      "150:\tlearn: 0.4998975\ttest: 0.5701881\tbest: 0.5701881 (150)\ttotal: 12.8s\tremaining: 4.16s\n",
      "199:\tlearn: 0.4750425\ttest: 0.5698256\tbest: 0.5691754 (172)\ttotal: 17.5s\tremaining: 0us\n",
      "\n",
      "bestTest = 0.5691754069\n",
      "bestIteration = 172\n",
      "\n",
      "Shrink model to first 173 iterations.\n",
      "[CV] END depth=6, iterations=200, l2_leaf_reg=1, learning_rate=0.1; total time=  18.2s\n"
     ]
    },
    {
     "name": "stderr",
     "output_type": "stream",
     "text": [
      "Warning: Overfitting detector is active, thus evaluation metric is calculated on every iteration. 'metric_period' is ignored for evaluation metric.\n"
     ]
    },
    {
     "name": "stdout",
     "output_type": "stream",
     "text": [
      "0:\tlearn: 0.6393943\ttest: 0.6341466\tbest: 0.6341466 (0)\ttotal: 111ms\tremaining: 22.2s\n",
      "50:\tlearn: 0.6205189\ttest: 0.6170384\tbest: 0.6170384 (50)\ttotal: 4.23s\tremaining: 12.3s\n",
      "100:\tlearn: 0.6093752\ttest: 0.6077503\tbest: 0.6077503 (100)\ttotal: 7.92s\tremaining: 7.76s\n",
      "150:\tlearn: 0.6015008\ttest: 0.6020248\tbest: 0.6020248 (150)\ttotal: 12.7s\tremaining: 4.13s\n",
      "199:\tlearn: 0.5956629\ttest: 0.5977618\tbest: 0.5977618 (199)\ttotal: 16.8s\tremaining: 0us\n",
      "\n",
      "bestTest = 0.5977618326\n",
      "bestIteration = 199\n",
      "\n",
      "[CV] END depth=6, iterations=200, l2_leaf_reg=3, learning_rate=0.01; total time=  17.5s\n"
     ]
    },
    {
     "name": "stderr",
     "output_type": "stream",
     "text": [
      "Warning: Overfitting detector is active, thus evaluation metric is calculated on every iteration. 'metric_period' is ignored for evaluation metric.\n"
     ]
    },
    {
     "name": "stdout",
     "output_type": "stream",
     "text": [
      "0:\tlearn: 0.6448517\ttest: 0.6340298\tbest: 0.6340298 (0)\ttotal: 81.1ms\tremaining: 16.1s\n",
      "50:\tlearn: 0.6242682\ttest: 0.6179612\tbest: 0.6179612 (50)\ttotal: 5.33s\tremaining: 15.6s\n",
      "100:\tlearn: 0.6119104\ttest: 0.6088420\tbest: 0.6088420 (100)\ttotal: 9.99s\tremaining: 9.79s\n",
      "150:\tlearn: 0.6035524\ttest: 0.6031524\tbest: 0.6031524 (150)\ttotal: 14.8s\tremaining: 4.79s\n",
      "199:\tlearn: 0.5973595\ttest: 0.5992020\tbest: 0.5992020 (199)\ttotal: 20.1s\tremaining: 0us\n",
      "\n",
      "bestTest = 0.5992020397\n",
      "bestIteration = 199\n",
      "\n",
      "[CV] END depth=6, iterations=200, l2_leaf_reg=3, learning_rate=0.01; total time=  20.8s\n"
     ]
    },
    {
     "name": "stderr",
     "output_type": "stream",
     "text": [
      "Warning: Overfitting detector is active, thus evaluation metric is calculated on every iteration. 'metric_period' is ignored for evaluation metric.\n"
     ]
    },
    {
     "name": "stdout",
     "output_type": "stream",
     "text": [
      "0:\tlearn: 0.6431507\ttest: 0.6339979\tbest: 0.6339979 (0)\ttotal: 108ms\tremaining: 21.6s\n",
      "50:\tlearn: 0.6225901\ttest: 0.6170896\tbest: 0.6170896 (50)\ttotal: 4.62s\tremaining: 13.5s\n",
      "100:\tlearn: 0.6096014\ttest: 0.6065174\tbest: 0.6065174 (100)\ttotal: 8.59s\tremaining: 8.41s\n",
      "150:\tlearn: 0.6010680\ttest: 0.6000448\tbest: 0.6000448 (150)\ttotal: 12.6s\tremaining: 4.07s\n",
      "199:\tlearn: 0.5945660\ttest: 0.5957805\tbest: 0.5957805 (199)\ttotal: 16.8s\tremaining: 0us\n",
      "\n",
      "bestTest = 0.5957804797\n",
      "bestIteration = 199\n",
      "\n",
      "[CV] END depth=6, iterations=200, l2_leaf_reg=3, learning_rate=0.01; total time=  17.7s\n"
     ]
    },
    {
     "name": "stderr",
     "output_type": "stream",
     "text": [
      "Warning: Overfitting detector is active, thus evaluation metric is calculated on every iteration. 'metric_period' is ignored for evaluation metric.\n"
     ]
    },
    {
     "name": "stdout",
     "output_type": "stream",
     "text": [
      "0:\tlearn: 0.6346969\ttest: 0.6298012\tbest: 0.6298012 (0)\ttotal: 147ms\tremaining: 29.2s\n",
      "50:\tlearn: 0.5728010\ttest: 0.5856578\tbest: 0.5856578 (50)\ttotal: 4.96s\tremaining: 14.5s\n",
      "100:\tlearn: 0.5450417\ttest: 0.5789994\tbest: 0.5789405 (98)\ttotal: 9.86s\tremaining: 9.66s\n",
      "150:\tlearn: 0.5172635\ttest: 0.5744695\tbest: 0.5744075 (148)\ttotal: 15.8s\tremaining: 5.13s\n",
      "199:\tlearn: 0.4961607\ttest: 0.5728870\tbest: 0.5728669 (198)\ttotal: 21.1s\tremaining: 0us\n",
      "\n",
      "bestTest = 0.5728668666\n",
      "bestIteration = 198\n",
      "\n",
      "Shrink model to first 199 iterations.\n",
      "[CV] END depth=6, iterations=200, l2_leaf_reg=3, learning_rate=0.1; total time=  22.2s\n"
     ]
    },
    {
     "name": "stderr",
     "output_type": "stream",
     "text": [
      "Warning: Overfitting detector is active, thus evaluation metric is calculated on every iteration. 'metric_period' is ignored for evaluation metric.\n"
     ]
    },
    {
     "name": "stdout",
     "output_type": "stream",
     "text": [
      "0:\tlearn: 0.6390942\ttest: 0.6295200\tbest: 0.6295200 (0)\ttotal: 223ms\tremaining: 44.5s\n",
      "50:\tlearn: 0.5754240\ttest: 0.5879809\tbest: 0.5879809 (50)\ttotal: 7.13s\tremaining: 20.8s\n",
      "100:\tlearn: 0.5483202\ttest: 0.5783452\tbest: 0.5783452 (100)\ttotal: 13.8s\tremaining: 13.6s\n",
      "150:\tlearn: 0.5224054\ttest: 0.5731711\tbest: 0.5731711 (150)\ttotal: 19.6s\tremaining: 6.35s\n",
      "199:\tlearn: 0.5019054\ttest: 0.5699438\tbest: 0.5697749 (198)\ttotal: 24.5s\tremaining: 0us\n",
      "\n",
      "bestTest = 0.5697748746\n",
      "bestIteration = 198\n",
      "\n",
      "Shrink model to first 199 iterations.\n",
      "[CV] END depth=6, iterations=200, l2_leaf_reg=3, learning_rate=0.1; total time=  25.5s\n"
     ]
    },
    {
     "name": "stderr",
     "output_type": "stream",
     "text": [
      "Warning: Overfitting detector is active, thus evaluation metric is calculated on every iteration. 'metric_period' is ignored for evaluation metric.\n"
     ]
    },
    {
     "name": "stdout",
     "output_type": "stream",
     "text": [
      "0:\tlearn: 0.6376646\ttest: 0.6292131\tbest: 0.6292131 (0)\ttotal: 117ms\tremaining: 23.3s\n",
      "50:\tlearn: 0.5704992\ttest: 0.5840000\tbest: 0.5840000 (50)\ttotal: 6.35s\tremaining: 18.5s\n",
      "100:\tlearn: 0.5432552\ttest: 0.5769515\tbest: 0.5768468 (95)\ttotal: 14.5s\tremaining: 14.2s\n",
      "150:\tlearn: 0.5179498\ttest: 0.5740229\tbest: 0.5740229 (150)\ttotal: 20.6s\tremaining: 6.7s\n",
      "199:\tlearn: 0.4957669\ttest: 0.5713416\tbest: 0.5710796 (192)\ttotal: 26.2s\tremaining: 0us\n",
      "\n",
      "bestTest = 0.5710796011\n",
      "bestIteration = 192\n",
      "\n",
      "Shrink model to first 193 iterations.\n",
      "[CV] END depth=6, iterations=200, l2_leaf_reg=3, learning_rate=0.1; total time=  27.2s\n"
     ]
    },
    {
     "name": "stderr",
     "output_type": "stream",
     "text": [
      "Warning: Overfitting detector is active, thus evaluation metric is calculated on every iteration. 'metric_period' is ignored for evaluation metric.\n"
     ]
    },
    {
     "name": "stdout",
     "output_type": "stream",
     "text": [
      "0:\tlearn: 0.6371154\ttest: 0.6290151\tbest: 0.6290151 (0)\ttotal: 382ms\tremaining: 1m 15s\n",
      "50:\tlearn: 0.5714496\ttest: 0.5817854\tbest: 0.5817854 (50)\ttotal: 7.74s\tremaining: 22.6s\n",
      "100:\tlearn: 0.5451419\ttest: 0.5732161\tbest: 0.5732161 (100)\ttotal: 15s\tremaining: 14.7s\n",
      "150:\tlearn: 0.5174120\ttest: 0.5681822\tbest: 0.5681281 (147)\ttotal: 22.4s\tremaining: 7.27s\n",
      "199:\tlearn: 0.4983738\ttest: 0.5658776\tbest: 0.5656955 (191)\ttotal: 29.2s\tremaining: 0us\n",
      "\n",
      "bestTest = 0.5656955336\n",
      "bestIteration = 191\n",
      "\n",
      "Shrink model to first 192 iterations.\n"
     ]
    },
    {
     "data": {
      "text/html": [
       "<style>#sk-container-id-1 {color: black;}#sk-container-id-1 pre{padding: 0;}#sk-container-id-1 div.sk-toggleable {background-color: white;}#sk-container-id-1 label.sk-toggleable__label {cursor: pointer;display: block;width: 100%;margin-bottom: 0;padding: 0.3em;box-sizing: border-box;text-align: center;}#sk-container-id-1 label.sk-toggleable__label-arrow:before {content: \"▸\";float: left;margin-right: 0.25em;color: #696969;}#sk-container-id-1 label.sk-toggleable__label-arrow:hover:before {color: black;}#sk-container-id-1 div.sk-estimator:hover label.sk-toggleable__label-arrow:before {color: black;}#sk-container-id-1 div.sk-toggleable__content {max-height: 0;max-width: 0;overflow: hidden;text-align: left;background-color: #f0f8ff;}#sk-container-id-1 div.sk-toggleable__content pre {margin: 0.2em;color: black;border-radius: 0.25em;background-color: #f0f8ff;}#sk-container-id-1 input.sk-toggleable__control:checked~div.sk-toggleable__content {max-height: 200px;max-width: 100%;overflow: auto;}#sk-container-id-1 input.sk-toggleable__control:checked~label.sk-toggleable__label-arrow:before {content: \"▾\";}#sk-container-id-1 div.sk-estimator input.sk-toggleable__control:checked~label.sk-toggleable__label {background-color: #d4ebff;}#sk-container-id-1 div.sk-label input.sk-toggleable__control:checked~label.sk-toggleable__label {background-color: #d4ebff;}#sk-container-id-1 input.sk-hidden--visually {border: 0;clip: rect(1px 1px 1px 1px);clip: rect(1px, 1px, 1px, 1px);height: 1px;margin: -1px;overflow: hidden;padding: 0;position: absolute;width: 1px;}#sk-container-id-1 div.sk-estimator {font-family: monospace;background-color: #f0f8ff;border: 1px dotted black;border-radius: 0.25em;box-sizing: border-box;margin-bottom: 0.5em;}#sk-container-id-1 div.sk-estimator:hover {background-color: #d4ebff;}#sk-container-id-1 div.sk-parallel-item::after {content: \"\";width: 100%;border-bottom: 1px solid gray;flex-grow: 1;}#sk-container-id-1 div.sk-label:hover label.sk-toggleable__label {background-color: #d4ebff;}#sk-container-id-1 div.sk-serial::before {content: \"\";position: absolute;border-left: 1px solid gray;box-sizing: border-box;top: 0;bottom: 0;left: 50%;z-index: 0;}#sk-container-id-1 div.sk-serial {display: flex;flex-direction: column;align-items: center;background-color: white;padding-right: 0.2em;padding-left: 0.2em;position: relative;}#sk-container-id-1 div.sk-item {position: relative;z-index: 1;}#sk-container-id-1 div.sk-parallel {display: flex;align-items: stretch;justify-content: center;background-color: white;position: relative;}#sk-container-id-1 div.sk-item::before, #sk-container-id-1 div.sk-parallel-item::before {content: \"\";position: absolute;border-left: 1px solid gray;box-sizing: border-box;top: 0;bottom: 0;left: 50%;z-index: -1;}#sk-container-id-1 div.sk-parallel-item {display: flex;flex-direction: column;z-index: 1;position: relative;background-color: white;}#sk-container-id-1 div.sk-parallel-item:first-child::after {align-self: flex-end;width: 50%;}#sk-container-id-1 div.sk-parallel-item:last-child::after {align-self: flex-start;width: 50%;}#sk-container-id-1 div.sk-parallel-item:only-child::after {width: 0;}#sk-container-id-1 div.sk-dashed-wrapped {border: 1px dashed gray;margin: 0 0.4em 0.5em 0.4em;box-sizing: border-box;padding-bottom: 0.4em;background-color: white;}#sk-container-id-1 div.sk-label label {font-family: monospace;font-weight: bold;display: inline-block;line-height: 1.2em;}#sk-container-id-1 div.sk-label-container {text-align: center;}#sk-container-id-1 div.sk-container {/* jupyter's `normalize.less` sets `[hidden] { display: none; }` but bootstrap.min.css set `[hidden] { display: none !important; }` so we also need the `!important` here to be able to override the default hidden behavior on the sphinx rendered scikit-learn.org. See: https://github.com/scikit-learn/scikit-learn/issues/21755 */display: inline-block !important;position: relative;}#sk-container-id-1 div.sk-text-repr-fallback {display: none;}</style><div id=\"sk-container-id-1\" class=\"sk-top-container\"><div class=\"sk-text-repr-fallback\"><pre>GridSearchCV(cv=3,\n",
       "             estimator=&lt;catboost.core.CatBoostRegressor object at 0x0000018046F23430&gt;,\n",
       "             param_grid={&#x27;depth&#x27;: [4, 6], &#x27;iterations&#x27;: [100, 200],\n",
       "                         &#x27;l2_leaf_reg&#x27;: [1, 3], &#x27;learning_rate&#x27;: [0.01, 0.1]},\n",
       "             scoring=&#x27;neg_mean_squared_error&#x27;, verbose=2)</pre><b>In a Jupyter environment, please rerun this cell to show the HTML representation or trust the notebook. <br />On GitHub, the HTML representation is unable to render, please try loading this page with nbviewer.org.</b></div><div class=\"sk-container\" hidden><div class=\"sk-item sk-dashed-wrapped\"><div class=\"sk-label-container\"><div class=\"sk-label sk-toggleable\"><input class=\"sk-toggleable__control sk-hidden--visually\" id=\"sk-estimator-id-1\" type=\"checkbox\" ><label for=\"sk-estimator-id-1\" class=\"sk-toggleable__label sk-toggleable__label-arrow\">GridSearchCV</label><div class=\"sk-toggleable__content\"><pre>GridSearchCV(cv=3,\n",
       "             estimator=&lt;catboost.core.CatBoostRegressor object at 0x0000018046F23430&gt;,\n",
       "             param_grid={&#x27;depth&#x27;: [4, 6], &#x27;iterations&#x27;: [100, 200],\n",
       "                         &#x27;l2_leaf_reg&#x27;: [1, 3], &#x27;learning_rate&#x27;: [0.01, 0.1]},\n",
       "             scoring=&#x27;neg_mean_squared_error&#x27;, verbose=2)</pre></div></div></div><div class=\"sk-parallel\"><div class=\"sk-parallel-item\"><div class=\"sk-item\"><div class=\"sk-label-container\"><div class=\"sk-label sk-toggleable\"><input class=\"sk-toggleable__control sk-hidden--visually\" id=\"sk-estimator-id-2\" type=\"checkbox\" ><label for=\"sk-estimator-id-2\" class=\"sk-toggleable__label sk-toggleable__label-arrow\">estimator: CatBoostRegressor</label><div class=\"sk-toggleable__content\"><pre>&lt;catboost.core.CatBoostRegressor object at 0x0000018046F23430&gt;</pre></div></div></div><div class=\"sk-serial\"><div class=\"sk-item\"><div class=\"sk-estimator sk-toggleable\"><input class=\"sk-toggleable__control sk-hidden--visually\" id=\"sk-estimator-id-3\" type=\"checkbox\" ><label for=\"sk-estimator-id-3\" class=\"sk-toggleable__label sk-toggleable__label-arrow\">CatBoostRegressor</label><div class=\"sk-toggleable__content\"><pre>&lt;catboost.core.CatBoostRegressor object at 0x0000018046F23430&gt;</pre></div></div></div></div></div></div></div></div></div></div>"
      ],
      "text/plain": [
       "GridSearchCV(cv=3,\n",
       "             estimator=<catboost.core.CatBoostRegressor object at 0x0000018046F23430>,\n",
       "             param_grid={'depth': [4, 6], 'iterations': [100, 200],\n",
       "                         'l2_leaf_reg': [1, 3], 'learning_rate': [0.01, 0.1]},\n",
       "             scoring='neg_mean_squared_error', verbose=2)"
      ]
     },
     "execution_count": 42,
     "metadata": {},
     "output_type": "execute_result"
    }
   ],
   "source": [
    "# Perform grid search\n",
    "\n",
    "# Define evaluation set\n",
    "eval_set = [(X_valid_fold, y_valid_fold)]\n",
    "\n",
    "# Define parameter grid for grid search\n",
    "param_grid = {\n",
    "    'iterations': [100, 200],\n",
    "    'learning_rate': [0.01, 0.1],\n",
    "    'depth': [4, 6],\n",
    "    'l2_leaf_reg': [1, 3]\n",
    "}\n",
    "\n",
    "# Initialize CatBoost classifier\n",
    "grid_search = GridSearchCV(estimator=model, param_grid=param_grid, cv=3,\n",
    "                        scoring='neg_mean_squared_error', verbose=2)\n",
    "grid_search.fit(X_train_fold, y_train_fold, eval_set=eval_set)\n"
   ]
  },
  {
   "cell_type": "code",
   "execution_count": null,
   "metadata": {},
   "outputs": [
    {
     "name": "stdout",
     "output_type": "stream",
     "text": [
      "Fold 5 Best Parameters: {'depth': 6, 'iterations': 200, 'l2_leaf_reg': 1, 'learning_rate': 0.1}\n",
      "Fold 5 Best RMSE: 0.5750940928968116\n"
     ]
    }
   ],
   "source": [
    "#  Print best parameters and corresponding RMSE for each fold\n",
    "print(f\"Fold {fold_ + 1} Best Parameters:\", grid_search.best_params_)\n",
    "print(f\"Fold {fold_ + 1} Best RMSE:\", np.sqrt(-grid_search.best_score_))\n"
   ]
  },
  {
   "cell_type": "code",
   "execution_count": null,
   "metadata": {},
   "outputs": [],
   "source": [
    "# Use best model for predictions\n",
    "best_model = grid_search.best_estimator_\n",
    "valid_preds_catboost = best_model.predict(X_valid_fold)"
   ]
  },
  {
   "cell_type": "code",
   "execution_count": null,
   "metadata": {},
   "outputs": [
    {
     "name": "stdout",
     "output_type": "stream",
     "text": [
      "Fold 5 Validation RMSE (CatBoost): 0.5656955336155786\n"
     ]
    }
   ],
   "source": [
    "# Calculate RMSE on the validation set for each fold\n",
    "rmse_catboost = np.sqrt(mean_squared_error(y_valid_fold, valid_preds_catboost))\n",
    "print(f\"Fold {fold_ + 1} Validation RMSE (CatBoost):\", rmse_catboost)\n"
   ]
  },
  {
   "cell_type": "code",
   "execution_count": null,
   "metadata": {},
   "outputs": [],
   "source": [
    "# Make predictions on the test set for each fold\n",
    "test_preds_catboost = best_model.predict(X_test)"
   ]
  },
  {
   "cell_type": "code",
   "execution_count": null,
   "metadata": {},
   "outputs": [
    {
     "data": {
      "text/html": [
       "<div>\n",
       "<style scoped>\n",
       "    .dataframe tbody tr th:only-of-type {\n",
       "        vertical-align: middle;\n",
       "    }\n",
       "\n",
       "    .dataframe tbody tr th {\n",
       "        vertical-align: top;\n",
       "    }\n",
       "\n",
       "    .dataframe thead th {\n",
       "        text-align: right;\n",
       "    }\n",
       "</style>\n",
       "<table border=\"1\" class=\"dataframe\">\n",
       "  <thead>\n",
       "    <tr style=\"text-align: right;\">\n",
       "      <th></th>\n",
       "      <th>tweet_id</th>\n",
       "      <th>label</th>\n",
       "    </tr>\n",
       "  </thead>\n",
       "  <tbody>\n",
       "    <tr>\n",
       "      <th>0</th>\n",
       "      <td>00BHHHP1</td>\n",
       "      <td>-0.010336</td>\n",
       "    </tr>\n",
       "    <tr>\n",
       "      <th>1</th>\n",
       "      <td>00UNMD0E</td>\n",
       "      <td>0.438846</td>\n",
       "    </tr>\n",
       "    <tr>\n",
       "      <th>2</th>\n",
       "      <td>01AXPTJF</td>\n",
       "      <td>0.342040</td>\n",
       "    </tr>\n",
       "    <tr>\n",
       "      <th>3</th>\n",
       "      <td>01HOEQJW</td>\n",
       "      <td>0.483208</td>\n",
       "    </tr>\n",
       "    <tr>\n",
       "      <th>4</th>\n",
       "      <td>01JUKMAO</td>\n",
       "      <td>0.213619</td>\n",
       "    </tr>\n",
       "  </tbody>\n",
       "</table>\n",
       "</div>"
      ],
      "text/plain": [
       "   tweet_id     label\n",
       "0  00BHHHP1 -0.010336\n",
       "1  00UNMD0E  0.438846\n",
       "2  01AXPTJF  0.342040\n",
       "3  01HOEQJW  0.483208\n",
       "4  01JUKMAO  0.213619"
      ]
     },
     "execution_count": 47,
     "metadata": {},
     "output_type": "execute_result"
    }
   ],
   "source": [
    "# Make a submission dataframe for CatBoost for each fold (optional)\n",
    "sub_catboost = pd.DataFrame({\n",
    "        'tweet_id': test['tweet_id'],\n",
    "        'label': test_preds_catboost.reshape(-1)\n",
    "    })\n",
    "sub_catboost.to_csv(f'catboost_submission_gridsearch_fold_.csv', index=False)\n",
    "sub_catboost.head()\n"
   ]
  }
 ],
 "metadata": {
  "kernelspec": {
   "display_name": "Python 3",
   "language": "python",
   "name": "python3"
  },
  "language_info": {
   "codemirror_mode": {
    "name": "ipython",
    "version": 3
   },
   "file_extension": ".py",
   "mimetype": "text/x-python",
   "name": "python",
   "nbconvert_exporter": "python",
   "pygments_lexer": "ipython3",
   "version": "3.8.2"
  },
  "orig_nbformat": 4
 },
 "nbformat": 4,
 "nbformat_minor": 2
}
