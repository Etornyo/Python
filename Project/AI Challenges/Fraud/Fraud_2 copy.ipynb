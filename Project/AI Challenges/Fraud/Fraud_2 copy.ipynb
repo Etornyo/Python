{
 "cells": [
  {
   "cell_type": "code",
   "execution_count": 1,
   "id": "44f6ee45-84ae-4a3c-8df8-2a96033efe72",
   "metadata": {},
   "outputs": [
    {
     "name": "stdout",
     "output_type": "stream",
     "text": [
      "Finished imports...\n"
     ]
    }
   ],
   "source": [
    "import numpy as np\n",
    "import pandas as pd\n",
    "import datetime\n",
    "import gc\n",
    "import matplotlib.pyplot as plt\n",
    "import seaborn as sns\n",
    "import lightgbm as lgb\n",
    "from sklearn.model_selection import StratifiedKFold\n",
    "from sklearn.metrics import mean_squared_error\n",
    "\n",
    "import xgboost as xgb\n",
    "from datetime import datetime\n",
    "from sklearn.model_selection import RandomizedSearchCV, GridSearchCV\n",
    "from sklearn.metrics import roc_auc_score\n",
    "from sklearn.model_selection import StratifiedKFold\n",
    "\n",
    "import lightgbm\n",
    "from lightgbm import LGBMClassifier\n",
    "\n",
    "import warnings\n",
    "warnings.filterwarnings('ignore')\n",
    "np.random.seed(4590)\n",
    "\n",
    "print('Finished imports...')"
   ]
  },
  {
   "cell_type": "code",
   "execution_count": 2,
   "id": "6ac0f030-c295-40ff-96af-cce6404c3c89",
   "metadata": {},
   "outputs": [
    {
     "name": "stdout",
     "output_type": "stream",
     "text": [
      "Finished data read...\n"
     ]
    }
   ],
   "source": [
    "train_client=pd.read_csv('client_train.csv')\n",
    "test_client=pd.read_csv('client_test.csv')\n",
    "train_invoice=pd.read_csv('invoice_train.csv')\n",
    "test_invoice=pd.read_csv('invoice_test.csv')\n",
    "print('Finished data read...')"
   ]
  },
  {
   "cell_type": "code",
   "execution_count": 3,
   "id": "96bea253-0f66-4db5-a142-ace5741cce2f",
   "metadata": {},
   "outputs": [
    {
     "data": {
      "text/html": [
       "<div>\n",
       "<style scoped>\n",
       "    .dataframe tbody tr th:only-of-type {\n",
       "        vertical-align: middle;\n",
       "    }\n",
       "\n",
       "    .dataframe tbody tr th {\n",
       "        vertical-align: top;\n",
       "    }\n",
       "\n",
       "    .dataframe thead th {\n",
       "        text-align: right;\n",
       "    }\n",
       "</style>\n",
       "<table border=\"1\" class=\"dataframe\">\n",
       "  <thead>\n",
       "    <tr style=\"text-align: right;\">\n",
       "      <th></th>\n",
       "      <th>disrict</th>\n",
       "      <th>client_id</th>\n",
       "      <th>client_catg</th>\n",
       "      <th>region</th>\n",
       "      <th>creation_date</th>\n",
       "      <th>target</th>\n",
       "    </tr>\n",
       "  </thead>\n",
       "  <tbody>\n",
       "    <tr>\n",
       "      <th>0</th>\n",
       "      <td>60</td>\n",
       "      <td>train_Client_0</td>\n",
       "      <td>11</td>\n",
       "      <td>101</td>\n",
       "      <td>31/12/1994</td>\n",
       "      <td>0.0</td>\n",
       "    </tr>\n",
       "    <tr>\n",
       "      <th>1</th>\n",
       "      <td>69</td>\n",
       "      <td>train_Client_1</td>\n",
       "      <td>11</td>\n",
       "      <td>107</td>\n",
       "      <td>29/05/2002</td>\n",
       "      <td>0.0</td>\n",
       "    </tr>\n",
       "    <tr>\n",
       "      <th>2</th>\n",
       "      <td>62</td>\n",
       "      <td>train_Client_10</td>\n",
       "      <td>11</td>\n",
       "      <td>301</td>\n",
       "      <td>13/03/1986</td>\n",
       "      <td>0.0</td>\n",
       "    </tr>\n",
       "    <tr>\n",
       "      <th>3</th>\n",
       "      <td>69</td>\n",
       "      <td>train_Client_100</td>\n",
       "      <td>11</td>\n",
       "      <td>105</td>\n",
       "      <td>11/07/1996</td>\n",
       "      <td>0.0</td>\n",
       "    </tr>\n",
       "    <tr>\n",
       "      <th>4</th>\n",
       "      <td>62</td>\n",
       "      <td>train_Client_1000</td>\n",
       "      <td>11</td>\n",
       "      <td>303</td>\n",
       "      <td>14/10/2014</td>\n",
       "      <td>0.0</td>\n",
       "    </tr>\n",
       "    <tr>\n",
       "      <th>5</th>\n",
       "      <td>69</td>\n",
       "      <td>train_Client_10000</td>\n",
       "      <td>11</td>\n",
       "      <td>103</td>\n",
       "      <td>29/09/1993</td>\n",
       "      <td>0.0</td>\n",
       "    </tr>\n",
       "    <tr>\n",
       "      <th>6</th>\n",
       "      <td>62</td>\n",
       "      <td>train_Client_100000</td>\n",
       "      <td>11</td>\n",
       "      <td>309</td>\n",
       "      <td>07/06/2012</td>\n",
       "      <td>0.0</td>\n",
       "    </tr>\n",
       "    <tr>\n",
       "      <th>7</th>\n",
       "      <td>60</td>\n",
       "      <td>train_Client_100001</td>\n",
       "      <td>11</td>\n",
       "      <td>101</td>\n",
       "      <td>12/04/2006</td>\n",
       "      <td>0.0</td>\n",
       "    </tr>\n",
       "    <tr>\n",
       "      <th>8</th>\n",
       "      <td>62</td>\n",
       "      <td>train_Client_100002</td>\n",
       "      <td>11</td>\n",
       "      <td>301</td>\n",
       "      <td>31/12/2006</td>\n",
       "      <td>0.0</td>\n",
       "    </tr>\n",
       "    <tr>\n",
       "      <th>9</th>\n",
       "      <td>60</td>\n",
       "      <td>train_Client_100003</td>\n",
       "      <td>11</td>\n",
       "      <td>101</td>\n",
       "      <td>25/10/2011</td>\n",
       "      <td>0.0</td>\n",
       "    </tr>\n",
       "  </tbody>\n",
       "</table>\n",
       "</div>"
      ],
      "text/plain": [
       "   disrict            client_id  client_catg  region creation_date  target\n",
       "0       60       train_Client_0           11     101    31/12/1994     0.0\n",
       "1       69       train_Client_1           11     107    29/05/2002     0.0\n",
       "2       62      train_Client_10           11     301    13/03/1986     0.0\n",
       "3       69     train_Client_100           11     105    11/07/1996     0.0\n",
       "4       62    train_Client_1000           11     303    14/10/2014     0.0\n",
       "5       69   train_Client_10000           11     103    29/09/1993     0.0\n",
       "6       62  train_Client_100000           11     309    07/06/2012     0.0\n",
       "7       60  train_Client_100001           11     101    12/04/2006     0.0\n",
       "8       62  train_Client_100002           11     301    31/12/2006     0.0\n",
       "9       60  train_Client_100003           11     101    25/10/2011     0.0"
      ]
     },
     "execution_count": 3,
     "metadata": {},
     "output_type": "execute_result"
    }
   ],
   "source": [
    "train_client.head(10)"
   ]
  },
  {
   "cell_type": "code",
   "execution_count": 4,
   "id": "94d3e8a1-2bf7-4c05-b16a-ba4b810ed8c4",
   "metadata": {},
   "outputs": [
    {
     "data": {
      "text/html": [
       "<div>\n",
       "<style scoped>\n",
       "    .dataframe tbody tr th:only-of-type {\n",
       "        vertical-align: middle;\n",
       "    }\n",
       "\n",
       "    .dataframe tbody tr th {\n",
       "        vertical-align: top;\n",
       "    }\n",
       "\n",
       "    .dataframe thead th {\n",
       "        text-align: right;\n",
       "    }\n",
       "</style>\n",
       "<table border=\"1\" class=\"dataframe\">\n",
       "  <thead>\n",
       "    <tr style=\"text-align: right;\">\n",
       "      <th></th>\n",
       "      <th>client_id</th>\n",
       "      <th>invoice_date</th>\n",
       "      <th>tarif_type</th>\n",
       "      <th>counter_number</th>\n",
       "      <th>counter_statue</th>\n",
       "      <th>counter_code</th>\n",
       "      <th>reading_remarque</th>\n",
       "      <th>counter_coefficient</th>\n",
       "      <th>consommation_level_1</th>\n",
       "      <th>consommation_level_2</th>\n",
       "      <th>consommation_level_3</th>\n",
       "      <th>consommation_level_4</th>\n",
       "      <th>old_index</th>\n",
       "      <th>new_index</th>\n",
       "      <th>months_number</th>\n",
       "      <th>counter_type</th>\n",
       "    </tr>\n",
       "  </thead>\n",
       "  <tbody>\n",
       "    <tr>\n",
       "      <th>0</th>\n",
       "      <td>train_Client_0</td>\n",
       "      <td>2014-03-24</td>\n",
       "      <td>11</td>\n",
       "      <td>1335667</td>\n",
       "      <td>0</td>\n",
       "      <td>203</td>\n",
       "      <td>8</td>\n",
       "      <td>1</td>\n",
       "      <td>82</td>\n",
       "      <td>0</td>\n",
       "      <td>0</td>\n",
       "      <td>0</td>\n",
       "      <td>14302</td>\n",
       "      <td>14384</td>\n",
       "      <td>4</td>\n",
       "      <td>ELEC</td>\n",
       "    </tr>\n",
       "    <tr>\n",
       "      <th>1</th>\n",
       "      <td>train_Client_0</td>\n",
       "      <td>2013-03-29</td>\n",
       "      <td>11</td>\n",
       "      <td>1335667</td>\n",
       "      <td>0</td>\n",
       "      <td>203</td>\n",
       "      <td>6</td>\n",
       "      <td>1</td>\n",
       "      <td>1200</td>\n",
       "      <td>184</td>\n",
       "      <td>0</td>\n",
       "      <td>0</td>\n",
       "      <td>12294</td>\n",
       "      <td>13678</td>\n",
       "      <td>4</td>\n",
       "      <td>ELEC</td>\n",
       "    </tr>\n",
       "    <tr>\n",
       "      <th>2</th>\n",
       "      <td>train_Client_0</td>\n",
       "      <td>2015-03-23</td>\n",
       "      <td>11</td>\n",
       "      <td>1335667</td>\n",
       "      <td>0</td>\n",
       "      <td>203</td>\n",
       "      <td>8</td>\n",
       "      <td>1</td>\n",
       "      <td>123</td>\n",
       "      <td>0</td>\n",
       "      <td>0</td>\n",
       "      <td>0</td>\n",
       "      <td>14624</td>\n",
       "      <td>14747</td>\n",
       "      <td>4</td>\n",
       "      <td>ELEC</td>\n",
       "    </tr>\n",
       "    <tr>\n",
       "      <th>3</th>\n",
       "      <td>train_Client_0</td>\n",
       "      <td>2015-07-13</td>\n",
       "      <td>11</td>\n",
       "      <td>1335667</td>\n",
       "      <td>0</td>\n",
       "      <td>207</td>\n",
       "      <td>8</td>\n",
       "      <td>1</td>\n",
       "      <td>102</td>\n",
       "      <td>0</td>\n",
       "      <td>0</td>\n",
       "      <td>0</td>\n",
       "      <td>14747</td>\n",
       "      <td>14849</td>\n",
       "      <td>4</td>\n",
       "      <td>ELEC</td>\n",
       "    </tr>\n",
       "    <tr>\n",
       "      <th>4</th>\n",
       "      <td>train_Client_0</td>\n",
       "      <td>2016-11-17</td>\n",
       "      <td>11</td>\n",
       "      <td>1335667</td>\n",
       "      <td>0</td>\n",
       "      <td>207</td>\n",
       "      <td>9</td>\n",
       "      <td>1</td>\n",
       "      <td>572</td>\n",
       "      <td>0</td>\n",
       "      <td>0</td>\n",
       "      <td>0</td>\n",
       "      <td>15066</td>\n",
       "      <td>15638</td>\n",
       "      <td>12</td>\n",
       "      <td>ELEC</td>\n",
       "    </tr>\n",
       "    <tr>\n",
       "      <th>5</th>\n",
       "      <td>train_Client_0</td>\n",
       "      <td>2017-07-17</td>\n",
       "      <td>11</td>\n",
       "      <td>1335667</td>\n",
       "      <td>0</td>\n",
       "      <td>207</td>\n",
       "      <td>9</td>\n",
       "      <td>1</td>\n",
       "      <td>314</td>\n",
       "      <td>0</td>\n",
       "      <td>0</td>\n",
       "      <td>0</td>\n",
       "      <td>15638</td>\n",
       "      <td>15952</td>\n",
       "      <td>8</td>\n",
       "      <td>ELEC</td>\n",
       "    </tr>\n",
       "    <tr>\n",
       "      <th>6</th>\n",
       "      <td>train_Client_0</td>\n",
       "      <td>2018-12-07</td>\n",
       "      <td>11</td>\n",
       "      <td>1335667</td>\n",
       "      <td>0</td>\n",
       "      <td>207</td>\n",
       "      <td>9</td>\n",
       "      <td>1</td>\n",
       "      <td>541</td>\n",
       "      <td>0</td>\n",
       "      <td>0</td>\n",
       "      <td>0</td>\n",
       "      <td>15952</td>\n",
       "      <td>16493</td>\n",
       "      <td>12</td>\n",
       "      <td>ELEC</td>\n",
       "    </tr>\n",
       "    <tr>\n",
       "      <th>7</th>\n",
       "      <td>train_Client_0</td>\n",
       "      <td>2019-03-19</td>\n",
       "      <td>11</td>\n",
       "      <td>1335667</td>\n",
       "      <td>0</td>\n",
       "      <td>207</td>\n",
       "      <td>9</td>\n",
       "      <td>1</td>\n",
       "      <td>585</td>\n",
       "      <td>0</td>\n",
       "      <td>0</td>\n",
       "      <td>0</td>\n",
       "      <td>16493</td>\n",
       "      <td>17078</td>\n",
       "      <td>8</td>\n",
       "      <td>ELEC</td>\n",
       "    </tr>\n",
       "    <tr>\n",
       "      <th>8</th>\n",
       "      <td>train_Client_0</td>\n",
       "      <td>2011-07-22</td>\n",
       "      <td>11</td>\n",
       "      <td>1335667</td>\n",
       "      <td>0</td>\n",
       "      <td>203</td>\n",
       "      <td>9</td>\n",
       "      <td>1</td>\n",
       "      <td>1200</td>\n",
       "      <td>186</td>\n",
       "      <td>0</td>\n",
       "      <td>0</td>\n",
       "      <td>7770</td>\n",
       "      <td>9156</td>\n",
       "      <td>4</td>\n",
       "      <td>ELEC</td>\n",
       "    </tr>\n",
       "    <tr>\n",
       "      <th>9</th>\n",
       "      <td>train_Client_0</td>\n",
       "      <td>2011-11-22</td>\n",
       "      <td>11</td>\n",
       "      <td>1335667</td>\n",
       "      <td>0</td>\n",
       "      <td>203</td>\n",
       "      <td>6</td>\n",
       "      <td>1</td>\n",
       "      <td>1082</td>\n",
       "      <td>0</td>\n",
       "      <td>0</td>\n",
       "      <td>0</td>\n",
       "      <td>9156</td>\n",
       "      <td>10238</td>\n",
       "      <td>4</td>\n",
       "      <td>ELEC</td>\n",
       "    </tr>\n",
       "  </tbody>\n",
       "</table>\n",
       "</div>"
      ],
      "text/plain": [
       "        client_id invoice_date  tarif_type  counter_number counter_statue  \\\n",
       "0  train_Client_0   2014-03-24          11         1335667              0   \n",
       "1  train_Client_0   2013-03-29          11         1335667              0   \n",
       "2  train_Client_0   2015-03-23          11         1335667              0   \n",
       "3  train_Client_0   2015-07-13          11         1335667              0   \n",
       "4  train_Client_0   2016-11-17          11         1335667              0   \n",
       "5  train_Client_0   2017-07-17          11         1335667              0   \n",
       "6  train_Client_0   2018-12-07          11         1335667              0   \n",
       "7  train_Client_0   2019-03-19          11         1335667              0   \n",
       "8  train_Client_0   2011-07-22          11         1335667              0   \n",
       "9  train_Client_0   2011-11-22          11         1335667              0   \n",
       "\n",
       "   counter_code  reading_remarque  counter_coefficient  consommation_level_1  \\\n",
       "0           203                 8                    1                    82   \n",
       "1           203                 6                    1                  1200   \n",
       "2           203                 8                    1                   123   \n",
       "3           207                 8                    1                   102   \n",
       "4           207                 9                    1                   572   \n",
       "5           207                 9                    1                   314   \n",
       "6           207                 9                    1                   541   \n",
       "7           207                 9                    1                   585   \n",
       "8           203                 9                    1                  1200   \n",
       "9           203                 6                    1                  1082   \n",
       "\n",
       "   consommation_level_2  consommation_level_3  consommation_level_4  \\\n",
       "0                     0                     0                     0   \n",
       "1                   184                     0                     0   \n",
       "2                     0                     0                     0   \n",
       "3                     0                     0                     0   \n",
       "4                     0                     0                     0   \n",
       "5                     0                     0                     0   \n",
       "6                     0                     0                     0   \n",
       "7                     0                     0                     0   \n",
       "8                   186                     0                     0   \n",
       "9                     0                     0                     0   \n",
       "\n",
       "   old_index  new_index  months_number counter_type  \n",
       "0      14302      14384              4         ELEC  \n",
       "1      12294      13678              4         ELEC  \n",
       "2      14624      14747              4         ELEC  \n",
       "3      14747      14849              4         ELEC  \n",
       "4      15066      15638             12         ELEC  \n",
       "5      15638      15952              8         ELEC  \n",
       "6      15952      16493             12         ELEC  \n",
       "7      16493      17078              8         ELEC  \n",
       "8       7770       9156              4         ELEC  \n",
       "9       9156      10238              4         ELEC  "
      ]
     },
     "execution_count": 4,
     "metadata": {},
     "output_type": "execute_result"
    }
   ],
   "source": [
    "train_invoice.head(10)"
   ]
  },
  {
   "cell_type": "code",
   "execution_count": 5,
   "id": "a6b80a46-6f38-4a0a-8e4b-97170b0ef836",
   "metadata": {},
   "outputs": [],
   "source": [
    "d={\"ELEC\":0,\"GAZ\":1}\n",
    "train_invoice['counter_type']=train_invoice['counter_type'].map(d)"
   ]
  },
  {
   "cell_type": "code",
   "execution_count": 6,
   "id": "b3ce8c39-c1bf-41bf-a1ea-053b052d74ad",
   "metadata": {},
   "outputs": [],
   "source": [
    "train_client['client_catg'] = train_client['client_catg'].astype('object')\n",
    "train_client['disrict'] = train_client['disrict'].astype('object')\n",
    "\n",
    "test_client['client_catg'] = test_client['client_catg'].astype('object')\n",
    "test_client['disrict'] = test_client['disrict'].astype('object')"
   ]
  },
  {
   "cell_type": "code",
   "execution_count": 7,
   "id": "250789a3-8619-4e08-afc6-93edda66e5ca",
   "metadata": {},
   "outputs": [
    {
     "data": {
      "text/plain": [
       "counter_type\n",
       "0    3079406\n",
       "1    1397343\n",
       "Name: count, dtype: int64"
      ]
     },
     "execution_count": 7,
     "metadata": {},
     "output_type": "execute_result"
    }
   ],
   "source": [
    "train_invoice['counter_type'].value_counts()"
   ]
  },
  {
   "cell_type": "code",
   "execution_count": 8,
   "id": "04106211-6a7e-4462-9503-a5d53055fa3e",
   "metadata": {},
   "outputs": [],
   "source": [
    "for df in [train_invoice,test_invoice]:\n",
    "    df['invoice_date'] = pd.to_datetime(df['invoice_date'])\n",
    "    df['year'] = df['invoice_date'].dt.year\n",
    "    df['month'] = df['invoice_date'].dt.month\n"
   ]
  },
  {
   "cell_type": "code",
   "execution_count": 9,
   "id": "46f4eb2c-660e-4e88-a450-0f9bacd06961",
   "metadata": {},
   "outputs": [],
   "source": [
    "aggs = {}\n",
    "aggs['consommation_level_1'] = ['sum','max','min','mean','std']\n",
    "aggs['consommation_level_2'] = ['sum','max','min','mean','std']\n",
    "aggs['consommation_level_3'] = ['sum','max','min','mean','std']\n",
    "aggs['consommation_level_4'] = ['sum','max','min','mean','std']\n",
    "\n",
    "aggs['month'] = ['mean', 'max', 'min', 'std']\n",
    "aggs['year'] = ['nunique','max','min','mean']\n",
    "\n",
    "aggs['months_number'] = ['max','min','mean','sum']\n",
    "aggs['reading_remarque'] = ['max','min','mean','std','sum']\n",
    "aggs['counter_coefficient'] = ['max', 'min','mean']\n",
    "aggs['counter_number'] = ['nunique']\n",
    "aggs['counter_type'] = ['nunique','mean','sum']\n",
    "aggs['counter_statue'] = ['nunique']\n",
    "aggs['tarif_type'] = ['nunique','max','min']\n",
    "aggs['counter_code'] = ['nunique','max','mean','min']\n",
    "\n",
    "\n",
    "aggs['old_index'] = ['nunique','mean','std']\n",
    "aggs['old_index'] = ['nunique','mean','std']"
   ]
  },
  {
   "cell_type": "code",
   "execution_count": 10,
   "id": "4bc117c9-1ff7-44cd-846b-8a7c20077ee2",
   "metadata": {},
   "outputs": [],
   "source": [
    "    agg_trans = train_invoice.groupby(['client_id']).agg(aggs)\n",
    "    agg_trans.columns = ['_'.join(col).strip() for col in agg_trans.columns.values]\n",
    "    agg_trans.reset_index(inplace=True)\n",
    "\n",
    "    df = (train_invoice.groupby('client_id')\n",
    "          .size()\n",
    "          .reset_index(name='{}transactions_count'.format('1')))\n",
    "\n",
    "    agg_trans = pd.merge(df, agg_trans, on='client_id', how='left')"
   ]
  },
  {
   "cell_type": "code",
   "execution_count": 11,
   "id": "03e3cf22-59bb-4475-8387-e7a999d99bce",
   "metadata": {},
   "outputs": [
    {
     "data": {
      "text/html": [
       "<div>\n",
       "<style scoped>\n",
       "    .dataframe tbody tr th:only-of-type {\n",
       "        vertical-align: middle;\n",
       "    }\n",
       "\n",
       "    .dataframe tbody tr th {\n",
       "        vertical-align: top;\n",
       "    }\n",
       "\n",
       "    .dataframe thead th {\n",
       "        text-align: right;\n",
       "    }\n",
       "</style>\n",
       "<table border=\"1\" class=\"dataframe\">\n",
       "  <thead>\n",
       "    <tr style=\"text-align: right;\">\n",
       "      <th></th>\n",
       "      <th>client_id</th>\n",
       "      <th>1transactions_count</th>\n",
       "      <th>consommation_level_1_sum</th>\n",
       "      <th>consommation_level_1_max</th>\n",
       "      <th>consommation_level_1_min</th>\n",
       "      <th>consommation_level_1_mean</th>\n",
       "      <th>consommation_level_1_std</th>\n",
       "      <th>consommation_level_2_sum</th>\n",
       "      <th>consommation_level_2_max</th>\n",
       "      <th>consommation_level_2_min</th>\n",
       "      <th>...</th>\n",
       "      <th>tarif_type_nunique</th>\n",
       "      <th>tarif_type_max</th>\n",
       "      <th>tarif_type_min</th>\n",
       "      <th>counter_code_nunique</th>\n",
       "      <th>counter_code_max</th>\n",
       "      <th>counter_code_mean</th>\n",
       "      <th>counter_code_min</th>\n",
       "      <th>old_index_nunique</th>\n",
       "      <th>old_index_mean</th>\n",
       "      <th>old_index_std</th>\n",
       "    </tr>\n",
       "  </thead>\n",
       "  <tbody>\n",
       "    <tr>\n",
       "      <th>0</th>\n",
       "      <td>train_Client_0</td>\n",
       "      <td>35</td>\n",
       "      <td>12334</td>\n",
       "      <td>1200</td>\n",
       "      <td>38</td>\n",
       "      <td>352.400000</td>\n",
       "      <td>310.343472</td>\n",
       "      <td>370</td>\n",
       "      <td>186</td>\n",
       "      <td>0</td>\n",
       "      <td>...</td>\n",
       "      <td>1</td>\n",
       "      <td>11</td>\n",
       "      <td>11</td>\n",
       "      <td>2</td>\n",
       "      <td>207</td>\n",
       "      <td>203.685714</td>\n",
       "      <td>203</td>\n",
       "      <td>35</td>\n",
       "      <td>9444.542857</td>\n",
       "      <td>4527.744415</td>\n",
       "    </tr>\n",
       "    <tr>\n",
       "      <th>1</th>\n",
       "      <td>train_Client_1</td>\n",
       "      <td>37</td>\n",
       "      <td>20629</td>\n",
       "      <td>1207</td>\n",
       "      <td>190</td>\n",
       "      <td>557.540541</td>\n",
       "      <td>197.935960</td>\n",
       "      <td>0</td>\n",
       "      <td>0</td>\n",
       "      <td>0</td>\n",
       "      <td>...</td>\n",
       "      <td>1</td>\n",
       "      <td>11</td>\n",
       "      <td>11</td>\n",
       "      <td>1</td>\n",
       "      <td>203</td>\n",
       "      <td>203.000000</td>\n",
       "      <td>203</td>\n",
       "      <td>37</td>\n",
       "      <td>14330.756757</td>\n",
       "      <td>6124.126094</td>\n",
       "    </tr>\n",
       "    <tr>\n",
       "      <th>2</th>\n",
       "      <td>train_Client_10</td>\n",
       "      <td>18</td>\n",
       "      <td>14375</td>\n",
       "      <td>2400</td>\n",
       "      <td>188</td>\n",
       "      <td>798.611111</td>\n",
       "      <td>513.841374</td>\n",
       "      <td>682</td>\n",
       "      <td>682</td>\n",
       "      <td>0</td>\n",
       "      <td>...</td>\n",
       "      <td>1</td>\n",
       "      <td>11</td>\n",
       "      <td>11</td>\n",
       "      <td>2</td>\n",
       "      <td>207</td>\n",
       "      <td>203.222222</td>\n",
       "      <td>203</td>\n",
       "      <td>18</td>\n",
       "      <td>32873.000000</td>\n",
       "      <td>5317.180865</td>\n",
       "    </tr>\n",
       "    <tr>\n",
       "      <th>3</th>\n",
       "      <td>train_Client_100</td>\n",
       "      <td>20</td>\n",
       "      <td>24</td>\n",
       "      <td>15</td>\n",
       "      <td>0</td>\n",
       "      <td>1.200000</td>\n",
       "      <td>3.607011</td>\n",
       "      <td>0</td>\n",
       "      <td>0</td>\n",
       "      <td>0</td>\n",
       "      <td>...</td>\n",
       "      <td>1</td>\n",
       "      <td>11</td>\n",
       "      <td>11</td>\n",
       "      <td>1</td>\n",
       "      <td>413</td>\n",
       "      <td>413.000000</td>\n",
       "      <td>413</td>\n",
       "      <td>4</td>\n",
       "      <td>94.150000</td>\n",
       "      <td>4.120232</td>\n",
       "    </tr>\n",
       "    <tr>\n",
       "      <th>4</th>\n",
       "      <td>train_Client_1000</td>\n",
       "      <td>14</td>\n",
       "      <td>9292</td>\n",
       "      <td>800</td>\n",
       "      <td>124</td>\n",
       "      <td>663.714286</td>\n",
       "      <td>224.831365</td>\n",
       "      <td>1468</td>\n",
       "      <td>400</td>\n",
       "      <td>0</td>\n",
       "      <td>...</td>\n",
       "      <td>1</td>\n",
       "      <td>11</td>\n",
       "      <td>11</td>\n",
       "      <td>1</td>\n",
       "      <td>207</td>\n",
       "      <td>207.000000</td>\n",
       "      <td>207</td>\n",
       "      <td>14</td>\n",
       "      <td>6900.428571</td>\n",
       "      <td>4732.111217</td>\n",
       "    </tr>\n",
       "  </tbody>\n",
       "</table>\n",
       "<p>5 rows × 57 columns</p>\n",
       "</div>"
      ],
      "text/plain": [
       "           client_id  1transactions_count  consommation_level_1_sum  \\\n",
       "0     train_Client_0                   35                     12334   \n",
       "1     train_Client_1                   37                     20629   \n",
       "2    train_Client_10                   18                     14375   \n",
       "3   train_Client_100                   20                        24   \n",
       "4  train_Client_1000                   14                      9292   \n",
       "\n",
       "   consommation_level_1_max  consommation_level_1_min  \\\n",
       "0                      1200                        38   \n",
       "1                      1207                       190   \n",
       "2                      2400                       188   \n",
       "3                        15                         0   \n",
       "4                       800                       124   \n",
       "\n",
       "   consommation_level_1_mean  consommation_level_1_std  \\\n",
       "0                 352.400000                310.343472   \n",
       "1                 557.540541                197.935960   \n",
       "2                 798.611111                513.841374   \n",
       "3                   1.200000                  3.607011   \n",
       "4                 663.714286                224.831365   \n",
       "\n",
       "   consommation_level_2_sum  consommation_level_2_max  \\\n",
       "0                       370                       186   \n",
       "1                         0                         0   \n",
       "2                       682                       682   \n",
       "3                         0                         0   \n",
       "4                      1468                       400   \n",
       "\n",
       "   consommation_level_2_min  ...  tarif_type_nunique  tarif_type_max  \\\n",
       "0                         0  ...                   1              11   \n",
       "1                         0  ...                   1              11   \n",
       "2                         0  ...                   1              11   \n",
       "3                         0  ...                   1              11   \n",
       "4                         0  ...                   1              11   \n",
       "\n",
       "   tarif_type_min  counter_code_nunique  counter_code_max  counter_code_mean  \\\n",
       "0              11                     2               207         203.685714   \n",
       "1              11                     1               203         203.000000   \n",
       "2              11                     2               207         203.222222   \n",
       "3              11                     1               413         413.000000   \n",
       "4              11                     1               207         207.000000   \n",
       "\n",
       "   counter_code_min  old_index_nunique  old_index_mean  old_index_std  \n",
       "0               203                 35     9444.542857    4527.744415  \n",
       "1               203                 37    14330.756757    6124.126094  \n",
       "2               203                 18    32873.000000    5317.180865  \n",
       "3               413                  4       94.150000       4.120232  \n",
       "4               207                 14     6900.428571    4732.111217  \n",
       "\n",
       "[5 rows x 57 columns]"
      ]
     },
     "execution_count": 11,
     "metadata": {},
     "output_type": "execute_result"
    }
   ],
   "source": [
    "agg_trans.head()"
   ]
  },
  {
   "cell_type": "code",
   "execution_count": 12,
   "id": "eebc3d07-9763-4e31-9124-a9210f4fa6fa",
   "metadata": {},
   "outputs": [],
   "source": [
    "train = pd.merge(train_client,agg_trans, on='client_id', how='left')"
   ]
  },
  {
   "cell_type": "code",
   "execution_count": 13,
   "id": "1edf54d2-9655-4bd7-a941-1a006ea23c85",
   "metadata": {},
   "outputs": [
    {
     "data": {
      "text/html": [
       "<div>\n",
       "<style scoped>\n",
       "    .dataframe tbody tr th:only-of-type {\n",
       "        vertical-align: middle;\n",
       "    }\n",
       "\n",
       "    .dataframe tbody tr th {\n",
       "        vertical-align: top;\n",
       "    }\n",
       "\n",
       "    .dataframe thead th {\n",
       "        text-align: right;\n",
       "    }\n",
       "</style>\n",
       "<table border=\"1\" class=\"dataframe\">\n",
       "  <thead>\n",
       "    <tr style=\"text-align: right;\">\n",
       "      <th></th>\n",
       "      <th>disrict</th>\n",
       "      <th>client_id</th>\n",
       "      <th>client_catg</th>\n",
       "      <th>region</th>\n",
       "      <th>creation_date</th>\n",
       "    </tr>\n",
       "  </thead>\n",
       "  <tbody>\n",
       "    <tr>\n",
       "      <th>0</th>\n",
       "      <td>62</td>\n",
       "      <td>test_Client_0</td>\n",
       "      <td>11</td>\n",
       "      <td>307</td>\n",
       "      <td>28/05/2002</td>\n",
       "    </tr>\n",
       "    <tr>\n",
       "      <th>1</th>\n",
       "      <td>69</td>\n",
       "      <td>test_Client_1</td>\n",
       "      <td>11</td>\n",
       "      <td>103</td>\n",
       "      <td>06/08/2009</td>\n",
       "    </tr>\n",
       "    <tr>\n",
       "      <th>2</th>\n",
       "      <td>62</td>\n",
       "      <td>test_Client_10</td>\n",
       "      <td>11</td>\n",
       "      <td>310</td>\n",
       "      <td>07/04/2004</td>\n",
       "    </tr>\n",
       "    <tr>\n",
       "      <th>3</th>\n",
       "      <td>60</td>\n",
       "      <td>test_Client_100</td>\n",
       "      <td>11</td>\n",
       "      <td>101</td>\n",
       "      <td>08/10/1992</td>\n",
       "    </tr>\n",
       "    <tr>\n",
       "      <th>4</th>\n",
       "      <td>62</td>\n",
       "      <td>test_Client_1000</td>\n",
       "      <td>11</td>\n",
       "      <td>301</td>\n",
       "      <td>21/07/1977</td>\n",
       "    </tr>\n",
       "  </tbody>\n",
       "</table>\n",
       "</div>"
      ],
      "text/plain": [
       "  disrict         client_id client_catg  region creation_date\n",
       "0      62     test_Client_0          11     307    28/05/2002\n",
       "1      69     test_Client_1          11     103    06/08/2009\n",
       "2      62    test_Client_10          11     310    07/04/2004\n",
       "3      60   test_Client_100          11     101    08/10/1992\n",
       "4      62  test_Client_1000          11     301    21/07/1977"
      ]
     },
     "execution_count": 13,
     "metadata": {},
     "output_type": "execute_result"
    }
   ],
   "source": [
    "test_client.head()"
   ]
  },
  {
   "cell_type": "code",
   "execution_count": 14,
   "id": "775c0499-af6c-468f-9b9c-0cfeb588633f",
   "metadata": {},
   "outputs": [
    {
     "data": {
      "text/html": [
       "<div>\n",
       "<style scoped>\n",
       "    .dataframe tbody tr th:only-of-type {\n",
       "        vertical-align: middle;\n",
       "    }\n",
       "\n",
       "    .dataframe tbody tr th {\n",
       "        vertical-align: top;\n",
       "    }\n",
       "\n",
       "    .dataframe thead th {\n",
       "        text-align: right;\n",
       "    }\n",
       "</style>\n",
       "<table border=\"1\" class=\"dataframe\">\n",
       "  <thead>\n",
       "    <tr style=\"text-align: right;\">\n",
       "      <th></th>\n",
       "      <th>client_id</th>\n",
       "      <th>invoice_date</th>\n",
       "      <th>tarif_type</th>\n",
       "      <th>counter_number</th>\n",
       "      <th>counter_statue</th>\n",
       "      <th>counter_code</th>\n",
       "      <th>reading_remarque</th>\n",
       "      <th>counter_coefficient</th>\n",
       "      <th>consommation_level_1</th>\n",
       "      <th>consommation_level_2</th>\n",
       "      <th>consommation_level_3</th>\n",
       "      <th>consommation_level_4</th>\n",
       "      <th>old_index</th>\n",
       "      <th>new_index</th>\n",
       "      <th>months_number</th>\n",
       "      <th>counter_type</th>\n",
       "      <th>year</th>\n",
       "      <th>month</th>\n",
       "    </tr>\n",
       "  </thead>\n",
       "  <tbody>\n",
       "    <tr>\n",
       "      <th>0</th>\n",
       "      <td>test_Client_0</td>\n",
       "      <td>2018-03-16</td>\n",
       "      <td>11</td>\n",
       "      <td>651208</td>\n",
       "      <td>0</td>\n",
       "      <td>203</td>\n",
       "      <td>8</td>\n",
       "      <td>1</td>\n",
       "      <td>755</td>\n",
       "      <td>0</td>\n",
       "      <td>0</td>\n",
       "      <td>0</td>\n",
       "      <td>19145</td>\n",
       "      <td>19900</td>\n",
       "      <td>8</td>\n",
       "      <td>ELEC</td>\n",
       "      <td>2018</td>\n",
       "      <td>3</td>\n",
       "    </tr>\n",
       "    <tr>\n",
       "      <th>1</th>\n",
       "      <td>test_Client_0</td>\n",
       "      <td>2014-03-21</td>\n",
       "      <td>11</td>\n",
       "      <td>651208</td>\n",
       "      <td>0</td>\n",
       "      <td>203</td>\n",
       "      <td>8</td>\n",
       "      <td>1</td>\n",
       "      <td>1067</td>\n",
       "      <td>0</td>\n",
       "      <td>0</td>\n",
       "      <td>0</td>\n",
       "      <td>13725</td>\n",
       "      <td>14792</td>\n",
       "      <td>8</td>\n",
       "      <td>ELEC</td>\n",
       "      <td>2014</td>\n",
       "      <td>3</td>\n",
       "    </tr>\n",
       "    <tr>\n",
       "      <th>2</th>\n",
       "      <td>test_Client_0</td>\n",
       "      <td>2014-07-17</td>\n",
       "      <td>11</td>\n",
       "      <td>651208</td>\n",
       "      <td>0</td>\n",
       "      <td>203</td>\n",
       "      <td>8</td>\n",
       "      <td>1</td>\n",
       "      <td>0</td>\n",
       "      <td>0</td>\n",
       "      <td>0</td>\n",
       "      <td>0</td>\n",
       "      <td>14792</td>\n",
       "      <td>14792</td>\n",
       "      <td>4</td>\n",
       "      <td>ELEC</td>\n",
       "      <td>2014</td>\n",
       "      <td>7</td>\n",
       "    </tr>\n",
       "    <tr>\n",
       "      <th>3</th>\n",
       "      <td>test_Client_0</td>\n",
       "      <td>2015-07-13</td>\n",
       "      <td>11</td>\n",
       "      <td>651208</td>\n",
       "      <td>0</td>\n",
       "      <td>203</td>\n",
       "      <td>9</td>\n",
       "      <td>1</td>\n",
       "      <td>410</td>\n",
       "      <td>0</td>\n",
       "      <td>0</td>\n",
       "      <td>0</td>\n",
       "      <td>16122</td>\n",
       "      <td>16532</td>\n",
       "      <td>4</td>\n",
       "      <td>ELEC</td>\n",
       "      <td>2015</td>\n",
       "      <td>7</td>\n",
       "    </tr>\n",
       "    <tr>\n",
       "      <th>4</th>\n",
       "      <td>test_Client_0</td>\n",
       "      <td>2016-07-19</td>\n",
       "      <td>11</td>\n",
       "      <td>651208</td>\n",
       "      <td>0</td>\n",
       "      <td>203</td>\n",
       "      <td>9</td>\n",
       "      <td>1</td>\n",
       "      <td>412</td>\n",
       "      <td>0</td>\n",
       "      <td>0</td>\n",
       "      <td>0</td>\n",
       "      <td>17471</td>\n",
       "      <td>17883</td>\n",
       "      <td>4</td>\n",
       "      <td>ELEC</td>\n",
       "      <td>2016</td>\n",
       "      <td>7</td>\n",
       "    </tr>\n",
       "  </tbody>\n",
       "</table>\n",
       "</div>"
      ],
      "text/plain": [
       "       client_id invoice_date  tarif_type  counter_number  counter_statue  \\\n",
       "0  test_Client_0   2018-03-16          11          651208               0   \n",
       "1  test_Client_0   2014-03-21          11          651208               0   \n",
       "2  test_Client_0   2014-07-17          11          651208               0   \n",
       "3  test_Client_0   2015-07-13          11          651208               0   \n",
       "4  test_Client_0   2016-07-19          11          651208               0   \n",
       "\n",
       "   counter_code  reading_remarque  counter_coefficient  consommation_level_1  \\\n",
       "0           203                 8                    1                   755   \n",
       "1           203                 8                    1                  1067   \n",
       "2           203                 8                    1                     0   \n",
       "3           203                 9                    1                   410   \n",
       "4           203                 9                    1                   412   \n",
       "\n",
       "   consommation_level_2  consommation_level_3  consommation_level_4  \\\n",
       "0                     0                     0                     0   \n",
       "1                     0                     0                     0   \n",
       "2                     0                     0                     0   \n",
       "3                     0                     0                     0   \n",
       "4                     0                     0                     0   \n",
       "\n",
       "   old_index  new_index  months_number counter_type  year  month  \n",
       "0      19145      19900              8         ELEC  2018      3  \n",
       "1      13725      14792              8         ELEC  2014      3  \n",
       "2      14792      14792              4         ELEC  2014      7  \n",
       "3      16122      16532              4         ELEC  2015      7  \n",
       "4      17471      17883              4         ELEC  2016      7  "
      ]
     },
     "execution_count": 14,
     "metadata": {},
     "output_type": "execute_result"
    }
   ],
   "source": [
    "test_invoice.head()"
   ]
  },
  {
   "cell_type": "code",
   "execution_count": 15,
   "id": "36509001-7c9a-4cae-9b0a-8fa9bbb95b7b",
   "metadata": {},
   "outputs": [],
   "source": [
    "d={\"ELEC\":0,\"GAZ\":1}\n",
    "test_invoice['counter_type']=test_invoice['counter_type'].map(d)"
   ]
  },
  {
   "cell_type": "code",
   "execution_count": 16,
   "id": "17b60b24-a22c-4a4a-8d0a-d05f67964d6a",
   "metadata": {},
   "outputs": [],
   "source": [
    "    agg_trans = test_invoice.groupby(['client_id']).agg(aggs)\n",
    "    agg_trans.columns = ['_'.join(col).strip() for col in agg_trans.columns.values]\n",
    "    agg_trans.reset_index(inplace=True)\n",
    "\n",
    "    df = (test_invoice.groupby('client_id')\n",
    "          .size()\n",
    "          .reset_index(name='{}transactions_count'.format('1')))\n",
    "\n",
    "    agg_trans = pd.merge(df, agg_trans, on='client_id', how='left')"
   ]
  },
  {
   "cell_type": "code",
   "execution_count": 17,
   "id": "140dbcfb-9062-4002-ba60-d42c23ae5e39",
   "metadata": {},
   "outputs": [],
   "source": [
    "test = pd.merge(test_client,agg_trans, on='client_id', how='left')"
   ]
  },
  {
   "cell_type": "code",
   "execution_count": 18,
   "id": "4e9385e4-9060-4bd6-bb9d-6ab9dc562885",
   "metadata": {},
   "outputs": [
    {
     "data": {
      "text/html": [
       "<div>\n",
       "<style scoped>\n",
       "    .dataframe tbody tr th:only-of-type {\n",
       "        vertical-align: middle;\n",
       "    }\n",
       "\n",
       "    .dataframe tbody tr th {\n",
       "        vertical-align: top;\n",
       "    }\n",
       "\n",
       "    .dataframe thead th {\n",
       "        text-align: right;\n",
       "    }\n",
       "</style>\n",
       "<table border=\"1\" class=\"dataframe\">\n",
       "  <thead>\n",
       "    <tr style=\"text-align: right;\">\n",
       "      <th></th>\n",
       "      <th>disrict</th>\n",
       "      <th>client_id</th>\n",
       "      <th>client_catg</th>\n",
       "      <th>region</th>\n",
       "      <th>creation_date</th>\n",
       "      <th>target</th>\n",
       "      <th>1transactions_count</th>\n",
       "      <th>consommation_level_1_sum</th>\n",
       "      <th>consommation_level_1_max</th>\n",
       "      <th>consommation_level_1_min</th>\n",
       "      <th>...</th>\n",
       "      <th>tarif_type_nunique</th>\n",
       "      <th>tarif_type_max</th>\n",
       "      <th>tarif_type_min</th>\n",
       "      <th>counter_code_nunique</th>\n",
       "      <th>counter_code_max</th>\n",
       "      <th>counter_code_mean</th>\n",
       "      <th>counter_code_min</th>\n",
       "      <th>old_index_nunique</th>\n",
       "      <th>old_index_mean</th>\n",
       "      <th>old_index_std</th>\n",
       "    </tr>\n",
       "  </thead>\n",
       "  <tbody>\n",
       "    <tr>\n",
       "      <th>0</th>\n",
       "      <td>60</td>\n",
       "      <td>train_Client_0</td>\n",
       "      <td>11</td>\n",
       "      <td>101</td>\n",
       "      <td>31/12/1994</td>\n",
       "      <td>0.0</td>\n",
       "      <td>35</td>\n",
       "      <td>12334</td>\n",
       "      <td>1200</td>\n",
       "      <td>38</td>\n",
       "      <td>...</td>\n",
       "      <td>1</td>\n",
       "      <td>11</td>\n",
       "      <td>11</td>\n",
       "      <td>2</td>\n",
       "      <td>207</td>\n",
       "      <td>203.685714</td>\n",
       "      <td>203</td>\n",
       "      <td>35</td>\n",
       "      <td>9444.542857</td>\n",
       "      <td>4527.744415</td>\n",
       "    </tr>\n",
       "    <tr>\n",
       "      <th>1</th>\n",
       "      <td>69</td>\n",
       "      <td>train_Client_1</td>\n",
       "      <td>11</td>\n",
       "      <td>107</td>\n",
       "      <td>29/05/2002</td>\n",
       "      <td>0.0</td>\n",
       "      <td>37</td>\n",
       "      <td>20629</td>\n",
       "      <td>1207</td>\n",
       "      <td>190</td>\n",
       "      <td>...</td>\n",
       "      <td>1</td>\n",
       "      <td>11</td>\n",
       "      <td>11</td>\n",
       "      <td>1</td>\n",
       "      <td>203</td>\n",
       "      <td>203.000000</td>\n",
       "      <td>203</td>\n",
       "      <td>37</td>\n",
       "      <td>14330.756757</td>\n",
       "      <td>6124.126094</td>\n",
       "    </tr>\n",
       "    <tr>\n",
       "      <th>2</th>\n",
       "      <td>62</td>\n",
       "      <td>train_Client_10</td>\n",
       "      <td>11</td>\n",
       "      <td>301</td>\n",
       "      <td>13/03/1986</td>\n",
       "      <td>0.0</td>\n",
       "      <td>18</td>\n",
       "      <td>14375</td>\n",
       "      <td>2400</td>\n",
       "      <td>188</td>\n",
       "      <td>...</td>\n",
       "      <td>1</td>\n",
       "      <td>11</td>\n",
       "      <td>11</td>\n",
       "      <td>2</td>\n",
       "      <td>207</td>\n",
       "      <td>203.222222</td>\n",
       "      <td>203</td>\n",
       "      <td>18</td>\n",
       "      <td>32873.000000</td>\n",
       "      <td>5317.180865</td>\n",
       "    </tr>\n",
       "    <tr>\n",
       "      <th>3</th>\n",
       "      <td>69</td>\n",
       "      <td>train_Client_100</td>\n",
       "      <td>11</td>\n",
       "      <td>105</td>\n",
       "      <td>11/07/1996</td>\n",
       "      <td>0.0</td>\n",
       "      <td>20</td>\n",
       "      <td>24</td>\n",
       "      <td>15</td>\n",
       "      <td>0</td>\n",
       "      <td>...</td>\n",
       "      <td>1</td>\n",
       "      <td>11</td>\n",
       "      <td>11</td>\n",
       "      <td>1</td>\n",
       "      <td>413</td>\n",
       "      <td>413.000000</td>\n",
       "      <td>413</td>\n",
       "      <td>4</td>\n",
       "      <td>94.150000</td>\n",
       "      <td>4.120232</td>\n",
       "    </tr>\n",
       "    <tr>\n",
       "      <th>4</th>\n",
       "      <td>62</td>\n",
       "      <td>train_Client_1000</td>\n",
       "      <td>11</td>\n",
       "      <td>303</td>\n",
       "      <td>14/10/2014</td>\n",
       "      <td>0.0</td>\n",
       "      <td>14</td>\n",
       "      <td>9292</td>\n",
       "      <td>800</td>\n",
       "      <td>124</td>\n",
       "      <td>...</td>\n",
       "      <td>1</td>\n",
       "      <td>11</td>\n",
       "      <td>11</td>\n",
       "      <td>1</td>\n",
       "      <td>207</td>\n",
       "      <td>207.000000</td>\n",
       "      <td>207</td>\n",
       "      <td>14</td>\n",
       "      <td>6900.428571</td>\n",
       "      <td>4732.111217</td>\n",
       "    </tr>\n",
       "    <tr>\n",
       "      <th>5</th>\n",
       "      <td>69</td>\n",
       "      <td>train_Client_10000</td>\n",
       "      <td>11</td>\n",
       "      <td>103</td>\n",
       "      <td>29/09/1993</td>\n",
       "      <td>0.0</td>\n",
       "      <td>48</td>\n",
       "      <td>16901</td>\n",
       "      <td>1414</td>\n",
       "      <td>0</td>\n",
       "      <td>...</td>\n",
       "      <td>2</td>\n",
       "      <td>40</td>\n",
       "      <td>11</td>\n",
       "      <td>2</td>\n",
       "      <td>203</td>\n",
       "      <td>124.625000</td>\n",
       "      <td>5</td>\n",
       "      <td>45</td>\n",
       "      <td>13789.625000</td>\n",
       "      <td>10536.192177</td>\n",
       "    </tr>\n",
       "    <tr>\n",
       "      <th>6</th>\n",
       "      <td>62</td>\n",
       "      <td>train_Client_100000</td>\n",
       "      <td>11</td>\n",
       "      <td>309</td>\n",
       "      <td>07/06/2012</td>\n",
       "      <td>0.0</td>\n",
       "      <td>40</td>\n",
       "      <td>11201</td>\n",
       "      <td>1200</td>\n",
       "      <td>0</td>\n",
       "      <td>...</td>\n",
       "      <td>2</td>\n",
       "      <td>40</td>\n",
       "      <td>11</td>\n",
       "      <td>2</td>\n",
       "      <td>413</td>\n",
       "      <td>209.000000</td>\n",
       "      <td>5</td>\n",
       "      <td>37</td>\n",
       "      <td>19788.750000</td>\n",
       "      <td>16818.314522</td>\n",
       "    </tr>\n",
       "    <tr>\n",
       "      <th>7</th>\n",
       "      <td>60</td>\n",
       "      <td>train_Client_100001</td>\n",
       "      <td>11</td>\n",
       "      <td>101</td>\n",
       "      <td>12/04/2006</td>\n",
       "      <td>0.0</td>\n",
       "      <td>78</td>\n",
       "      <td>25545</td>\n",
       "      <td>1101</td>\n",
       "      <td>0</td>\n",
       "      <td>...</td>\n",
       "      <td>2</td>\n",
       "      <td>40</td>\n",
       "      <td>11</td>\n",
       "      <td>2</td>\n",
       "      <td>203</td>\n",
       "      <td>106.538462</td>\n",
       "      <td>5</td>\n",
       "      <td>71</td>\n",
       "      <td>6583.141026</td>\n",
       "      <td>6652.875339</td>\n",
       "    </tr>\n",
       "    <tr>\n",
       "      <th>8</th>\n",
       "      <td>62</td>\n",
       "      <td>train_Client_100002</td>\n",
       "      <td>11</td>\n",
       "      <td>301</td>\n",
       "      <td>31/12/2006</td>\n",
       "      <td>0.0</td>\n",
       "      <td>2</td>\n",
       "      <td>225</td>\n",
       "      <td>218</td>\n",
       "      <td>7</td>\n",
       "      <td>...</td>\n",
       "      <td>1</td>\n",
       "      <td>11</td>\n",
       "      <td>11</td>\n",
       "      <td>1</td>\n",
       "      <td>413</td>\n",
       "      <td>413.000000</td>\n",
       "      <td>413</td>\n",
       "      <td>2</td>\n",
       "      <td>3.500000</td>\n",
       "      <td>4.949747</td>\n",
       "    </tr>\n",
       "    <tr>\n",
       "      <th>9</th>\n",
       "      <td>60</td>\n",
       "      <td>train_Client_100003</td>\n",
       "      <td>11</td>\n",
       "      <td>101</td>\n",
       "      <td>25/10/2011</td>\n",
       "      <td>0.0</td>\n",
       "      <td>5</td>\n",
       "      <td>4254</td>\n",
       "      <td>1200</td>\n",
       "      <td>254</td>\n",
       "      <td>...</td>\n",
       "      <td>1</td>\n",
       "      <td>11</td>\n",
       "      <td>11</td>\n",
       "      <td>1</td>\n",
       "      <td>467</td>\n",
       "      <td>467.000000</td>\n",
       "      <td>467</td>\n",
       "      <td>5</td>\n",
       "      <td>9342.200000</td>\n",
       "      <td>12838.345812</td>\n",
       "    </tr>\n",
       "  </tbody>\n",
       "</table>\n",
       "<p>10 rows × 62 columns</p>\n",
       "</div>"
      ],
      "text/plain": [
       "  disrict            client_id client_catg  region creation_date  target  \\\n",
       "0      60       train_Client_0          11     101    31/12/1994     0.0   \n",
       "1      69       train_Client_1          11     107    29/05/2002     0.0   \n",
       "2      62      train_Client_10          11     301    13/03/1986     0.0   \n",
       "3      69     train_Client_100          11     105    11/07/1996     0.0   \n",
       "4      62    train_Client_1000          11     303    14/10/2014     0.0   \n",
       "5      69   train_Client_10000          11     103    29/09/1993     0.0   \n",
       "6      62  train_Client_100000          11     309    07/06/2012     0.0   \n",
       "7      60  train_Client_100001          11     101    12/04/2006     0.0   \n",
       "8      62  train_Client_100002          11     301    31/12/2006     0.0   \n",
       "9      60  train_Client_100003          11     101    25/10/2011     0.0   \n",
       "\n",
       "   1transactions_count  consommation_level_1_sum  consommation_level_1_max  \\\n",
       "0                   35                     12334                      1200   \n",
       "1                   37                     20629                      1207   \n",
       "2                   18                     14375                      2400   \n",
       "3                   20                        24                        15   \n",
       "4                   14                      9292                       800   \n",
       "5                   48                     16901                      1414   \n",
       "6                   40                     11201                      1200   \n",
       "7                   78                     25545                      1101   \n",
       "8                    2                       225                       218   \n",
       "9                    5                      4254                      1200   \n",
       "\n",
       "   consommation_level_1_min  ...  tarif_type_nunique  tarif_type_max  \\\n",
       "0                        38  ...                   1              11   \n",
       "1                       190  ...                   1              11   \n",
       "2                       188  ...                   1              11   \n",
       "3                         0  ...                   1              11   \n",
       "4                       124  ...                   1              11   \n",
       "5                         0  ...                   2              40   \n",
       "6                         0  ...                   2              40   \n",
       "7                         0  ...                   2              40   \n",
       "8                         7  ...                   1              11   \n",
       "9                       254  ...                   1              11   \n",
       "\n",
       "   tarif_type_min  counter_code_nunique  counter_code_max  counter_code_mean  \\\n",
       "0              11                     2               207         203.685714   \n",
       "1              11                     1               203         203.000000   \n",
       "2              11                     2               207         203.222222   \n",
       "3              11                     1               413         413.000000   \n",
       "4              11                     1               207         207.000000   \n",
       "5              11                     2               203         124.625000   \n",
       "6              11                     2               413         209.000000   \n",
       "7              11                     2               203         106.538462   \n",
       "8              11                     1               413         413.000000   \n",
       "9              11                     1               467         467.000000   \n",
       "\n",
       "   counter_code_min  old_index_nunique  old_index_mean  old_index_std  \n",
       "0               203                 35     9444.542857    4527.744415  \n",
       "1               203                 37    14330.756757    6124.126094  \n",
       "2               203                 18    32873.000000    5317.180865  \n",
       "3               413                  4       94.150000       4.120232  \n",
       "4               207                 14     6900.428571    4732.111217  \n",
       "5                 5                 45    13789.625000   10536.192177  \n",
       "6                 5                 37    19788.750000   16818.314522  \n",
       "7                 5                 71     6583.141026    6652.875339  \n",
       "8               413                  2        3.500000       4.949747  \n",
       "9               467                  5     9342.200000   12838.345812  \n",
       "\n",
       "[10 rows x 62 columns]"
      ]
     },
     "execution_count": 18,
     "metadata": {},
     "output_type": "execute_result"
    }
   ],
   "source": [
    "train.head(10)"
   ]
  },
  {
   "cell_type": "code",
   "execution_count": 19,
   "id": "051019e5-a453-4625-a124-c583aef3cd3f",
   "metadata": {},
   "outputs": [
    {
     "data": {
      "text/html": [
       "<div>\n",
       "<style scoped>\n",
       "    .dataframe tbody tr th:only-of-type {\n",
       "        vertical-align: middle;\n",
       "    }\n",
       "\n",
       "    .dataframe tbody tr th {\n",
       "        vertical-align: top;\n",
       "    }\n",
       "\n",
       "    .dataframe thead th {\n",
       "        text-align: right;\n",
       "    }\n",
       "</style>\n",
       "<table border=\"1\" class=\"dataframe\">\n",
       "  <thead>\n",
       "    <tr style=\"text-align: right;\">\n",
       "      <th></th>\n",
       "      <th>disrict</th>\n",
       "      <th>client_id</th>\n",
       "      <th>client_catg</th>\n",
       "      <th>region</th>\n",
       "      <th>creation_date</th>\n",
       "      <th>1transactions_count</th>\n",
       "      <th>consommation_level_1_sum</th>\n",
       "      <th>consommation_level_1_max</th>\n",
       "      <th>consommation_level_1_min</th>\n",
       "      <th>consommation_level_1_mean</th>\n",
       "      <th>...</th>\n",
       "      <th>tarif_type_nunique</th>\n",
       "      <th>tarif_type_max</th>\n",
       "      <th>tarif_type_min</th>\n",
       "      <th>counter_code_nunique</th>\n",
       "      <th>counter_code_max</th>\n",
       "      <th>counter_code_mean</th>\n",
       "      <th>counter_code_min</th>\n",
       "      <th>old_index_nunique</th>\n",
       "      <th>old_index_mean</th>\n",
       "      <th>old_index_std</th>\n",
       "    </tr>\n",
       "  </thead>\n",
       "  <tbody>\n",
       "    <tr>\n",
       "      <th>0</th>\n",
       "      <td>62</td>\n",
       "      <td>test_Client_0</td>\n",
       "      <td>11</td>\n",
       "      <td>307</td>\n",
       "      <td>28/05/2002</td>\n",
       "      <td>37</td>\n",
       "      <td>18061</td>\n",
       "      <td>1090</td>\n",
       "      <td>0</td>\n",
       "      <td>488.135135</td>\n",
       "      <td>...</td>\n",
       "      <td>1</td>\n",
       "      <td>11</td>\n",
       "      <td>11</td>\n",
       "      <td>1</td>\n",
       "      <td>203</td>\n",
       "      <td>203.000000</td>\n",
       "      <td>203</td>\n",
       "      <td>36</td>\n",
       "      <td>11389.837838</td>\n",
       "      <td>5401.043096</td>\n",
       "    </tr>\n",
       "    <tr>\n",
       "      <th>1</th>\n",
       "      <td>69</td>\n",
       "      <td>test_Client_1</td>\n",
       "      <td>11</td>\n",
       "      <td>103</td>\n",
       "      <td>06/08/2009</td>\n",
       "      <td>22</td>\n",
       "      <td>24011</td>\n",
       "      <td>3600</td>\n",
       "      <td>11</td>\n",
       "      <td>1091.409091</td>\n",
       "      <td>...</td>\n",
       "      <td>1</td>\n",
       "      <td>11</td>\n",
       "      <td>11</td>\n",
       "      <td>1</td>\n",
       "      <td>433</td>\n",
       "      <td>433.000000</td>\n",
       "      <td>433</td>\n",
       "      <td>22</td>\n",
       "      <td>29380.772727</td>\n",
       "      <td>17638.422718</td>\n",
       "    </tr>\n",
       "    <tr>\n",
       "      <th>2</th>\n",
       "      <td>62</td>\n",
       "      <td>test_Client_10</td>\n",
       "      <td>11</td>\n",
       "      <td>310</td>\n",
       "      <td>07/04/2004</td>\n",
       "      <td>74</td>\n",
       "      <td>40999</td>\n",
       "      <td>1200</td>\n",
       "      <td>0</td>\n",
       "      <td>554.040541</td>\n",
       "      <td>...</td>\n",
       "      <td>2</td>\n",
       "      <td>40</td>\n",
       "      <td>11</td>\n",
       "      <td>2</td>\n",
       "      <td>207</td>\n",
       "      <td>119.648649</td>\n",
       "      <td>5</td>\n",
       "      <td>74</td>\n",
       "      <td>11774.054054</td>\n",
       "      <td>10987.377541</td>\n",
       "    </tr>\n",
       "    <tr>\n",
       "      <th>3</th>\n",
       "      <td>60</td>\n",
       "      <td>test_Client_100</td>\n",
       "      <td>11</td>\n",
       "      <td>101</td>\n",
       "      <td>08/10/1992</td>\n",
       "      <td>40</td>\n",
       "      <td>9774</td>\n",
       "      <td>721</td>\n",
       "      <td>0</td>\n",
       "      <td>244.350000</td>\n",
       "      <td>...</td>\n",
       "      <td>2</td>\n",
       "      <td>40</td>\n",
       "      <td>11</td>\n",
       "      <td>2</td>\n",
       "      <td>203</td>\n",
       "      <td>104.000000</td>\n",
       "      <td>5</td>\n",
       "      <td>39</td>\n",
       "      <td>13623.725000</td>\n",
       "      <td>13242.361986</td>\n",
       "    </tr>\n",
       "    <tr>\n",
       "      <th>4</th>\n",
       "      <td>62</td>\n",
       "      <td>test_Client_1000</td>\n",
       "      <td>11</td>\n",
       "      <td>301</td>\n",
       "      <td>21/07/1977</td>\n",
       "      <td>53</td>\n",
       "      <td>30114</td>\n",
       "      <td>2400</td>\n",
       "      <td>0</td>\n",
       "      <td>568.188679</td>\n",
       "      <td>...</td>\n",
       "      <td>2</td>\n",
       "      <td>40</td>\n",
       "      <td>11</td>\n",
       "      <td>2</td>\n",
       "      <td>203</td>\n",
       "      <td>135.754717</td>\n",
       "      <td>5</td>\n",
       "      <td>52</td>\n",
       "      <td>13927.471698</td>\n",
       "      <td>14371.199312</td>\n",
       "    </tr>\n",
       "    <tr>\n",
       "      <th>5</th>\n",
       "      <td>62</td>\n",
       "      <td>test_Client_10000</td>\n",
       "      <td>11</td>\n",
       "      <td>304</td>\n",
       "      <td>18/02/2015</td>\n",
       "      <td>12</td>\n",
       "      <td>7121</td>\n",
       "      <td>962</td>\n",
       "      <td>159</td>\n",
       "      <td>593.416667</td>\n",
       "      <td>...</td>\n",
       "      <td>1</td>\n",
       "      <td>11</td>\n",
       "      <td>11</td>\n",
       "      <td>1</td>\n",
       "      <td>420</td>\n",
       "      <td>420.000000</td>\n",
       "      <td>420</td>\n",
       "      <td>12</td>\n",
       "      <td>22582.583333</td>\n",
       "      <td>12430.670131</td>\n",
       "    </tr>\n",
       "    <tr>\n",
       "      <th>6</th>\n",
       "      <td>62</td>\n",
       "      <td>test_Client_10001</td>\n",
       "      <td>11</td>\n",
       "      <td>303</td>\n",
       "      <td>13/09/2005</td>\n",
       "      <td>77</td>\n",
       "      <td>791</td>\n",
       "      <td>281</td>\n",
       "      <td>0</td>\n",
       "      <td>10.272727</td>\n",
       "      <td>...</td>\n",
       "      <td>2</td>\n",
       "      <td>40</td>\n",
       "      <td>11</td>\n",
       "      <td>2</td>\n",
       "      <td>203</td>\n",
       "      <td>105.285714</td>\n",
       "      <td>5</td>\n",
       "      <td>18</td>\n",
       "      <td>130.129870</td>\n",
       "      <td>123.719691</td>\n",
       "    </tr>\n",
       "    <tr>\n",
       "      <th>7</th>\n",
       "      <td>69</td>\n",
       "      <td>test_Client_10002</td>\n",
       "      <td>11</td>\n",
       "      <td>104</td>\n",
       "      <td>10/02/2011</td>\n",
       "      <td>77</td>\n",
       "      <td>58274</td>\n",
       "      <td>3805</td>\n",
       "      <td>0</td>\n",
       "      <td>756.805195</td>\n",
       "      <td>...</td>\n",
       "      <td>3</td>\n",
       "      <td>45</td>\n",
       "      <td>11</td>\n",
       "      <td>3</td>\n",
       "      <td>420</td>\n",
       "      <td>209.415584</td>\n",
       "      <td>5</td>\n",
       "      <td>76</td>\n",
       "      <td>30106.129870</td>\n",
       "      <td>16807.909793</td>\n",
       "    </tr>\n",
       "    <tr>\n",
       "      <th>8</th>\n",
       "      <td>62</td>\n",
       "      <td>test_Client_10003</td>\n",
       "      <td>11</td>\n",
       "      <td>309</td>\n",
       "      <td>12/04/2013</td>\n",
       "      <td>19</td>\n",
       "      <td>12374</td>\n",
       "      <td>800</td>\n",
       "      <td>329</td>\n",
       "      <td>651.263158</td>\n",
       "      <td>...</td>\n",
       "      <td>1</td>\n",
       "      <td>11</td>\n",
       "      <td>11</td>\n",
       "      <td>1</td>\n",
       "      <td>207</td>\n",
       "      <td>207.000000</td>\n",
       "      <td>207</td>\n",
       "      <td>19</td>\n",
       "      <td>5941.315789</td>\n",
       "      <td>4553.366301</td>\n",
       "    </tr>\n",
       "    <tr>\n",
       "      <th>9</th>\n",
       "      <td>69</td>\n",
       "      <td>test_Client_10004</td>\n",
       "      <td>11</td>\n",
       "      <td>107</td>\n",
       "      <td>12/07/1993</td>\n",
       "      <td>62</td>\n",
       "      <td>35290</td>\n",
       "      <td>2400</td>\n",
       "      <td>0</td>\n",
       "      <td>569.193548</td>\n",
       "      <td>...</td>\n",
       "      <td>2</td>\n",
       "      <td>40</td>\n",
       "      <td>11</td>\n",
       "      <td>2</td>\n",
       "      <td>413</td>\n",
       "      <td>261.645161</td>\n",
       "      <td>5</td>\n",
       "      <td>56</td>\n",
       "      <td>22820.500000</td>\n",
       "      <td>18398.577260</td>\n",
       "    </tr>\n",
       "  </tbody>\n",
       "</table>\n",
       "<p>10 rows × 61 columns</p>\n",
       "</div>"
      ],
      "text/plain": [
       "  disrict          client_id client_catg  region creation_date  \\\n",
       "0      62      test_Client_0          11     307    28/05/2002   \n",
       "1      69      test_Client_1          11     103    06/08/2009   \n",
       "2      62     test_Client_10          11     310    07/04/2004   \n",
       "3      60    test_Client_100          11     101    08/10/1992   \n",
       "4      62   test_Client_1000          11     301    21/07/1977   \n",
       "5      62  test_Client_10000          11     304    18/02/2015   \n",
       "6      62  test_Client_10001          11     303    13/09/2005   \n",
       "7      69  test_Client_10002          11     104    10/02/2011   \n",
       "8      62  test_Client_10003          11     309    12/04/2013   \n",
       "9      69  test_Client_10004          11     107    12/07/1993   \n",
       "\n",
       "   1transactions_count  consommation_level_1_sum  consommation_level_1_max  \\\n",
       "0                   37                     18061                      1090   \n",
       "1                   22                     24011                      3600   \n",
       "2                   74                     40999                      1200   \n",
       "3                   40                      9774                       721   \n",
       "4                   53                     30114                      2400   \n",
       "5                   12                      7121                       962   \n",
       "6                   77                       791                       281   \n",
       "7                   77                     58274                      3805   \n",
       "8                   19                     12374                       800   \n",
       "9                   62                     35290                      2400   \n",
       "\n",
       "   consommation_level_1_min  consommation_level_1_mean  ...  \\\n",
       "0                         0                 488.135135  ...   \n",
       "1                        11                1091.409091  ...   \n",
       "2                         0                 554.040541  ...   \n",
       "3                         0                 244.350000  ...   \n",
       "4                         0                 568.188679  ...   \n",
       "5                       159                 593.416667  ...   \n",
       "6                         0                  10.272727  ...   \n",
       "7                         0                 756.805195  ...   \n",
       "8                       329                 651.263158  ...   \n",
       "9                         0                 569.193548  ...   \n",
       "\n",
       "   tarif_type_nunique  tarif_type_max  tarif_type_min  counter_code_nunique  \\\n",
       "0                   1              11              11                     1   \n",
       "1                   1              11              11                     1   \n",
       "2                   2              40              11                     2   \n",
       "3                   2              40              11                     2   \n",
       "4                   2              40              11                     2   \n",
       "5                   1              11              11                     1   \n",
       "6                   2              40              11                     2   \n",
       "7                   3              45              11                     3   \n",
       "8                   1              11              11                     1   \n",
       "9                   2              40              11                     2   \n",
       "\n",
       "   counter_code_max  counter_code_mean  counter_code_min  old_index_nunique  \\\n",
       "0               203         203.000000               203                 36   \n",
       "1               433         433.000000               433                 22   \n",
       "2               207         119.648649                 5                 74   \n",
       "3               203         104.000000                 5                 39   \n",
       "4               203         135.754717                 5                 52   \n",
       "5               420         420.000000               420                 12   \n",
       "6               203         105.285714                 5                 18   \n",
       "7               420         209.415584                 5                 76   \n",
       "8               207         207.000000               207                 19   \n",
       "9               413         261.645161                 5                 56   \n",
       "\n",
       "   old_index_mean  old_index_std  \n",
       "0    11389.837838    5401.043096  \n",
       "1    29380.772727   17638.422718  \n",
       "2    11774.054054   10987.377541  \n",
       "3    13623.725000   13242.361986  \n",
       "4    13927.471698   14371.199312  \n",
       "5    22582.583333   12430.670131  \n",
       "6      130.129870     123.719691  \n",
       "7    30106.129870   16807.909793  \n",
       "8     5941.315789    4553.366301  \n",
       "9    22820.500000   18398.577260  \n",
       "\n",
       "[10 rows x 61 columns]"
      ]
     },
     "execution_count": 19,
     "metadata": {},
     "output_type": "execute_result"
    }
   ],
   "source": [
    "test.head(10)"
   ]
  },
  {
   "cell_type": "code",
   "execution_count": 20,
   "id": "36d2f99c-4f60-4f6d-a247-7bf8e7bf0e93",
   "metadata": {},
   "outputs": [
    {
     "data": {
      "text/plain": [
       "((135493, 62), (58069, 61))"
      ]
     },
     "execution_count": 20,
     "metadata": {},
     "output_type": "execute_result"
    }
   ],
   "source": [
    "train.shape,test.shape"
   ]
  },
  {
   "cell_type": "code",
   "execution_count": 21,
   "id": "cbb8e47d-da9f-4c4e-b10a-c3bc89f13ba6",
   "metadata": {},
   "outputs": [],
   "source": [
    "for df in [train,test]:\n",
    "    df['creation_date'] = pd.to_datetime(df['creation_date'])\n",
    "    df['year'] = df['creation_date'].dt.year\n",
    "    df['month'] = df['creation_date'].dt.month\n",
    "    df['month_diff'] = ((datetime.today() - df['creation_date']).dt.days)//30"
   ]
  },
  {
   "cell_type": "code",
   "execution_count": 22,
   "id": "f461dec3-0da5-490b-a216-fef68f40eb56",
   "metadata": {},
   "outputs": [],
   "source": [
    "col_to_drop = ['client_id', \n",
    "            'creation_date',\n",
    "            'old_index_std',\n",
    "            'reading_remarque_std',\n",
    "            'month_std','consommation_level_1_std', \n",
    "            'consommation_level_2_std', \n",
    "            'consommation_level_3_std',\n",
    "            'consommation_level_4_std']\n",
    "for col in col_to_drop:\n",
    "    if col in train.columns:\n",
    "        train.drop([col], axis=1, inplace=True)\n",
    "    if col in test.columns:\n",
    "        test.drop([col], axis=1, inplace=True)"
   ]
  },
  {
   "cell_type": "code",
   "execution_count": 23,
   "id": "9267a43b-162b-42f7-8309-787f957c8786",
   "metadata": {},
   "outputs": [],
   "source": [
    "from sklearn import preprocessing\n",
    "for f in test.columns:\n",
    "    if train[f].dtype=='object' or test[f].dtype=='object': \n",
    "        lbl = preprocessing.LabelEncoder()\n",
    "        lbl.fit(list(train[f].values) + list(test[f].values))\n",
    "        train[f] = lbl.transform(list(train[f].values))\n",
    "        test[f] = lbl.transform(list(test[f].values))  "
   ]
  },
  {
   "cell_type": "code",
   "execution_count": 24,
   "id": "d4e0cd18-189b-4819-bea4-8dc8ed24d49e",
   "metadata": {},
   "outputs": [
    {
     "data": {
      "text/html": [
       "<div>\n",
       "<style scoped>\n",
       "    .dataframe tbody tr th:only-of-type {\n",
       "        vertical-align: middle;\n",
       "    }\n",
       "\n",
       "    .dataframe tbody tr th {\n",
       "        vertical-align: top;\n",
       "    }\n",
       "\n",
       "    .dataframe thead th {\n",
       "        text-align: right;\n",
       "    }\n",
       "</style>\n",
       "<table border=\"1\" class=\"dataframe\">\n",
       "  <thead>\n",
       "    <tr style=\"text-align: right;\">\n",
       "      <th></th>\n",
       "      <th>Missing</th>\n",
       "    </tr>\n",
       "  </thead>\n",
       "  <tbody>\n",
       "  </tbody>\n",
       "</table>\n",
       "</div>"
      ],
      "text/plain": [
       "Empty DataFrame\n",
       "Columns: [Missing ]\n",
       "Index: []"
      ]
     },
     "execution_count": 24,
     "metadata": {},
     "output_type": "execute_result"
    }
   ],
   "source": [
    "all_data_na = train.isnull().sum() \n",
    "all_data_na = all_data_na.drop(all_data_na[all_data_na == 0].index).sort_values(ascending=False)[:30]\n",
    "missing_data = pd.DataFrame({'Missing ' :all_data_na})\n",
    "missing_data.head(10)"
   ]
  },
  {
   "cell_type": "code",
   "execution_count": 25,
   "id": "cddd061f-846d-4399-b0b8-bb1a545cff25",
   "metadata": {},
   "outputs": [],
   "source": [
    "target=train['target']\n",
    "train.drop('target',axis=1,inplace=True)"
   ]
  },
  {
   "cell_type": "code",
   "execution_count": 26,
   "id": "85d73a4b",
   "metadata": {},
   "outputs": [
    {
     "name": "stdout",
     "output_type": "stream",
     "text": [
      "Train invoices:  (4476749, 16)\n",
      "Train clients:  (135493, 6) \n",
      "\n",
      "Test invoices:  (1939730, 16)\n",
      "Test clients:  (58069, 5)\n",
      "Number of missing rows in Train invoices: 0\n",
      "Number of missing rows in Test invoices: 0 \n",
      "\n",
      "Number of missing rows in Train clients: 0\n",
      "Number of missing rows in Test clients: 0\n",
      "Number of unique values in invoice_train:\n",
      "client_id            <=========>                135493\n",
      "invoice_date            <=========>                8275\n",
      "tarif_type            <=========>                17\n",
      "counter_number            <=========>                201893\n",
      "counter_statue            <=========>                12\n",
      "counter_code            <=========>                42\n",
      "reading_remarque            <=========>                8\n",
      "counter_coefficient            <=========>                16\n",
      "consommation_level_1            <=========>                8295\n",
      "consommation_level_2            <=========>                12576\n",
      "consommation_level_3            <=========>                2253\n",
      "consommation_level_4            <=========>                12075\n",
      "old_index            <=========>                155648\n",
      "new_index            <=========>                157980\n",
      "months_number            <=========>                1370\n",
      "counter_type            <=========>                2\n"
     ]
    },
    {
     "data": {
      "image/png": "[encoded data removed]",
      "text/plain": [
       "<Figure size 600x600 with 1 Axes>"
      ]
     },
     "metadata": {},
     "output_type": "display_data"
    },
    {
     "data": {
      "image/png": "[encoded data removed]",
      "text/plain": [
       "<Figure size 1200x300 with 1 Axes>"
      ]
     },
     "metadata": {},
     "output_type": "display_data"
    },
    {
     "data": {
      "image/png": "[encoded data removed]",
      "text/plain": [
       "<Figure size 600x600 with 1 Axes>"
      ]
     },
     "metadata": {},
     "output_type": "display_data"
    },
    {
     "data": {
      "image/png": "[encoded data removed]",
      "text/plain": [
       "<Figure size 1200x300 with 1 Axes>"
      ]
     },
     "metadata": {},
     "output_type": "display_data"
    },
    {
     "data": {
      "image/png": "[encoded data removed]",
      "text/plain": [
       "<Figure size 1200x300 with 1 Axes>"
      ]
     },
     "metadata": {},
     "output_type": "display_data"
    },
    {
     "data": {
      "image/png": "[encoded data removed]",
      "text/plain": [
       "<Figure size 1200x300 with 1 Axes>"
      ]
     },
     "metadata": {},
     "output_type": "display_data"
    },
    {
     "data": {
      "image/png": "[encoded data removed]",
      "text/plain": [
       "<Figure size 1500x1000 with 2 Axes>"
      ]
     },
     "metadata": {},
     "output_type": "display_data"
    },
    {
     "data": {
      "application/vnd.plotly.v1+json": {
       "config": {
        "plotlyServerURL": "https://plot.ly"
       },
       "data": [
        {
         "hovertemplate": "Monthly AVG=Non-Fraudulent<br>invoice_date=%{x}<br>consommation_level_1=%{y}<extra></extra>",
         "legendgroup": "Non-Fraudulent",
         "line": {
          "color": "#636efa",
          "dash": "solid"
         },
         "marker": {
          "symbol": "circle"
         },
         "mode": "lines+markers",
         "name": "Non-Fraudulent",
         "orientation": "v",
         "showlegend": true,
         "type": "scatter",
         "x": [
          "2019-01-31T00:00:00",
          "2019-02-28T00:00:00",
          "2019-03-31T00:00:00",
          "2019-04-30T00:00:00",
          "2019-05-31T00:00:00",
          "2019-06-30T00:00:00",
          "2019-07-31T00:00:00",
          "2019-08-31T00:00:00",
          "2019-09-30T00:00:00",
          "2019-10-31T00:00:00",
          "2019-11-30T00:00:00",
          "2019-12-31T00:00:00"
         ],
         "xaxis": "x",
         "y": [
          819.6659546961947,
          518.3003942705994,
          471.05368467089437,
          487.0623835600971,
          559.984499178982,
          510.2820363917925,
          552.5635642135642,
          598.924292940906,
          622.2106462303232,
          519.2153507285666,
          612.347788378144,
          527.6307950492973
         ],
         "yaxis": "y"
        },
        {
         "hovertemplate": "Monthly AVG=Fraudulent<br>invoice_date=%{x}<br>consommation_level_1=%{y}<extra></extra>",
         "legendgroup": "Fraudulent",
         "line": {
          "color": "#EF553B",
          "dash": "dot"
         },
         "marker": {
          "symbol": "circle"
         },
         "mode": "lines+markers",
         "name": "Fraudulent",
         "orientation": "v",
         "showlegend": true,
         "type": "scatter",
         "x": [
          "2019-01-31T00:00:00",
          "2019-02-28T00:00:00",
          "2019-03-31T00:00:00",
          "2019-04-30T00:00:00",
          "2019-05-31T00:00:00",
          "2019-06-30T00:00:00",
          "2019-07-31T00:00:00",
          "2019-08-31T00:00:00",
          "2019-09-30T00:00:00",
          "2019-10-31T00:00:00",
          "2019-11-30T00:00:00",
          "2019-12-31T00:00:00"
         ],
         "xaxis": "x",
         "y": [
          857.906994047619,
          537.3074679113186,
          484.34669338677355,
          500.61888701517705,
          636.7201365187714,
          606.3944603629417,
          647.6463675213676,
          678.6706467661692,
          681.0633946830266,
          566.060100166945,
          750.4628975265018,
          554.2338983050847
         ],
         "yaxis": "y"
        }
       ],
       "layout": {
        "legend": {
         "title": {
          "text": "Monthly AVG"
         },
         "tracegroupgap": 0
        },
        "margin": {
         "t": 60
        },
        "template": {
         "data": {
          "bar": [
           {
            "error_x": {
             "color": "#2a3f5f"
            },
            "error_y": {
             "color": "#2a3f5f"
            },
            "marker": {
             "line": {
              "color": "white",
              "width": 0.5
             },
             "pattern": {
              "fillmode": "overlay",
              "size": 10,
              "solidity": 0.2
             }
            },
            "type": "bar"
           }
          ],
          "barpolar": [
           {
            "marker": {
             "line": {
              "color": "white",
              "width": 0.5
             },
             "pattern": {
              "fillmode": "overlay",
              "size": 10,
              "solidity": 0.2
             }
            },
            "type": "barpolar"
           }
          ],
          "carpet": [
           {
            "aaxis": {
             "endlinecolor": "#2a3f5f",
             "gridcolor": "#C8D4E3",
             "linecolor": "#C8D4E3",
             "minorgridcolor": "#C8D4E3",
             "startlinecolor": "#2a3f5f"
            },
            "baxis": {
             "endlinecolor": "#2a3f5f",
             "gridcolor": "#C8D4E3",
             "linecolor": "#C8D4E3",
             "minorgridcolor": "#C8D4E3",
             "startlinecolor": "#2a3f5f"
            },
            "type": "carpet"
           }
          ],
          "choropleth": [
           {
            "colorbar": {
             "outlinewidth": 0,
             "ticks": ""
            },
            "type": "choropleth"
           }
          ],
          "contour": [
           {
            "colorbar": {
             "outlinewidth": 0,
             "ticks": ""
            },
            "colorscale": [
             [
              0,
              "#0d0887"
             ],
             [
              0.1111111111111111,
              "#46039f"
             ],
             [
              0.2222222222222222,
              "#7201a8"
             ],
             [
              0.3333333333333333,
              "#9c179e"
             ],
             [
              0.4444444444444444,
              "#bd3786"
             ],
             [
              0.5555555555555556,
              "#d8576b"
             ],
             [
              0.6666666666666666,
              "#ed7953"
             ],
             [
              0.7777777777777778,
              "#fb9f3a"
             ],
             [
              0.8888888888888888,
              "#fdca26"
             ],
             [
              1,
              "#f0f921"
             ]
            ],
            "type": "contour"
           }
          ],
          "contourcarpet": [
           {
            "colorbar": {
             "outlinewidth": 0,
             "ticks": ""
            },
            "type": "contourcarpet"
           }
          ],
          "heatmap": [
           {
            "colorbar": {
             "outlinewidth": 0,
             "ticks": ""
            },
            "colorscale": [
             [
              0,
              "#0d0887"
             ],
             [
              0.1111111111111111,
              "#46039f"
             ],
             [
              0.2222222222222222,
              "#7201a8"
             ],
             [
              0.3333333333333333,
              "#9c179e"
             ],
             [
              0.4444444444444444,
              "#bd3786"
             ],
             [
              0.5555555555555556,
              "#d8576b"
             ],
             [
              0.6666666666666666,
              "#ed7953"
             ],
             [
              0.7777777777777778,
              "#fb9f3a"
             ],
             [
              0.8888888888888888,
              "#fdca26"
             ],
             [
              1,
              "#f0f921"
             ]
            ],
            "type": "heatmap"
           }
          ],
          "heatmapgl": [
           {
            "colorbar": {
             "outlinewidth": 0,
             "ticks": ""
            },
            "colorscale": [
             [
              0,
              "#0d0887"
             ],
             [
              0.1111111111111111,
              "#46039f"
             ],
             [
              0.2222222222222222,
              "#7201a8"
             ],
             [
              0.3333333333333333,
              "#9c179e"
             ],
             [
              0.4444444444444444,
              "#bd3786"
             ],
             [
              0.5555555555555556,
              "#d8576b"
             ],
             [
              0.6666666666666666,
              "#ed7953"
             ],
             [
              0.7777777777777778,
              "#fb9f3a"
             ],
             [
              0.8888888888888888,
              "#fdca26"
             ],
             [
              1,
              "#f0f921"
             ]
            ],
            "type": "heatmapgl"
           }
          ],
          "histogram": [
           {
            "marker": {
             "pattern": {
              "fillmode": "overlay",
              "size": 10,
              "solidity": 0.2
             }
            },
            "type": "histogram"
           }
          ],
          "histogram2d": [
           {
            "colorbar": {
             "outlinewidth": 0,
             "ticks": ""
            },
            "colorscale": [
             [
              0,
              "#0d0887"
             ],
             [
              0.1111111111111111,
              "#46039f"
             ],
             [
              0.2222222222222222,
              "#7201a8"
             ],
             [
              0.3333333333333333,
              "#9c179e"
             ],
             [
              0.4444444444444444,
              "#bd3786"
             ],
             [
              0.5555555555555556,
              "#d8576b"
             ],
             [
              0.6666666666666666,
              "#ed7953"
             ],
             [
              0.7777777777777778,
              "#fb9f3a"
             ],
             [
              0.8888888888888888,
              "#fdca26"
             ],
             [
              1,
              "#f0f921"
             ]
            ],
            "type": "histogram2d"
           }
          ],
          "histogram2dcontour": [
           {
            "colorbar": {
             "outlinewidth": 0,
             "ticks": ""
            },
            "colorscale": [
             [
              0,
              "#0d0887"
             ],
             [
              0.1111111111111111,
              "#46039f"
             ],
             [
              0.2222222222222222,
              "#7201a8"
             ],
             [
              0.3333333333333333,
              "#9c179e"
             ],
             [
              0.4444444444444444,
              "#bd3786"
             ],
             [
              0.5555555555555556,
              "#d8576b"
             ],
             [
              0.6666666666666666,
              "#ed7953"
             ],
             [
              0.7777777777777778,
              "#fb9f3a"
             ],
             [
              0.8888888888888888,
              "#fdca26"
             ],
             [
              1,
              "#f0f921"
             ]
            ],
            "type": "histogram2dcontour"
           }
          ],
          "mesh3d": [
           {
            "colorbar": {
             "outlinewidth": 0,
             "ticks": ""
            },
            "type": "mesh3d"
           }
          ],
          "parcoords": [
           {
            "line": {
             "colorbar": {
              "outlinewidth": 0,
              "ticks": ""
             }
            },
            "type": "parcoords"
           }
          ],
          "pie": [
           {
            "automargin": true,
            "type": "pie"
           }
          ],
          "scatter": [
           {
            "fillpattern": {
             "fillmode": "overlay",
             "size": 10,
             "solidity": 0.2
            },
            "type": "scatter"
           }
          ],
          "scatter3d": [
           {
            "line": {
             "colorbar": {
              "outlinewidth": 0,
              "ticks": ""
             }
            },
            "marker": {
             "colorbar": {
              "outlinewidth": 0,
              "ticks": ""
             }
            },
            "type": "scatter3d"
           }
          ],
          "scattercarpet": [
           {
            "marker": {
             "colorbar": {
              "outlinewidth": 0,
              "ticks": ""
             }
            },
            "type": "scattercarpet"
           }
          ],
          "scattergeo": [
           {
            "marker": {
             "colorbar": {
              "outlinewidth": 0,
              "ticks": ""
             }
            },
            "type": "scattergeo"
           }
          ],
          "scattergl": [
           {
            "marker": {
             "colorbar": {
              "outlinewidth": 0,
              "ticks": ""
             }
            },
            "type": "scattergl"
           }
          ],
          "scattermapbox": [
           {
            "marker": {
             "colorbar": {
              "outlinewidth": 0,
              "ticks": ""
             }
            },
            "type": "scattermapbox"
           }
          ],
          "scatterpolar": [
           {
            "marker": {
             "colorbar": {
              "outlinewidth": 0,
              "ticks": ""
             }
            },
            "type": "scatterpolar"
           }
          ],
          "scatterpolargl": [
           {
            "marker": {
             "colorbar": {
              "outlinewidth": 0,
              "ticks": ""
             }
            },
            "type": "scatterpolargl"
           }
          ],
          "scatterternary": [
           {
            "marker": {
             "colorbar": {
              "outlinewidth": 0,
              "ticks": ""
             }
            },
            "type": "scatterternary"
           }
          ],
          "surface": [
           {
            "colorbar": {
             "outlinewidth": 0,
             "ticks": ""
            },
            "colorscale": [
             [
              0,
              "#0d0887"
             ],
             [
              0.1111111111111111,
              "#46039f"
             ],
             [
              0.2222222222222222,
              "#7201a8"
             ],
             [
              0.3333333333333333,
              "#9c179e"
             ],
             [
              0.4444444444444444,
              "#bd3786"
             ],
             [
              0.5555555555555556,
              "#d8576b"
             ],
             [
              0.6666666666666666,
              "#ed7953"
             ],
             [
              0.7777777777777778,
              "#fb9f3a"
             ],
             [
              0.8888888888888888,
              "#fdca26"
             ],
             [
              1,
              "#f0f921"
             ]
            ],
            "type": "surface"
           }
          ],
          "table": [
           {
            "cells": {
             "fill": {
              "color": "#EBF0F8"
             },
             "line": {
              "color": "white"
             }
            },
            "header": {
             "fill": {
              "color": "#C8D4E3"
             },
             "line": {
              "color": "white"
             }
            },
            "type": "table"
           }
          ]
         },
         "layout": {
          "annotationdefaults": {
           "arrowcolor": "#2a3f5f",
           "arrowhead": 0,
           "arrowwidth": 1
          },
          "autotypenumbers": "strict",
          "coloraxis": {
           "colorbar": {
            "outlinewidth": 0,
            "ticks": ""
           }
          },
          "colorscale": {
           "diverging": [
            [
             0,
             "#8e0152"
            ],
            [
             0.1,
             "#c51b7d"
            ],
            [
             0.2,
             "#de77ae"
            ],
            [
             0.3,
             "#f1b6da"
            ],
            [
             0.4,
             "#fde0ef"
            ],
            [
             0.5,
             "#f7f7f7"
            ],
            [
             0.6,
             "#e6f5d0"
            ],
            [
             0.7,
             "#b8e186"
            ],
            [
             0.8,
             "#7fbc41"
            ],
            [
             0.9,
             "#4d9221"
            ],
            [
             1,
             "#276419"
            ]
           ],
           "sequential": [
            [
             0,
             "#0d0887"
            ],
            [
             0.1111111111111111,
             "#46039f"
            ],
            [
             0.2222222222222222,
             "#7201a8"
            ],
            [
             0.3333333333333333,
             "#9c179e"
            ],
            [
             0.4444444444444444,
             "#bd3786"
            ],
            [
             0.5555555555555556,
             "#d8576b"
            ],
            [
             0.6666666666666666,
             "#ed7953"
            ],
            [
             0.7777777777777778,
             "#fb9f3a"
            ],
            [
             0.8888888888888888,
             "#fdca26"
            ],
            [
             1,
             "#f0f921"
            ]
           ],
           "sequentialminus": [
            [
             0,
             "#0d0887"
            ],
            [
             0.1111111111111111,
             "#46039f"
            ],
            [
             0.2222222222222222,
             "#7201a8"
            ],
            [
             0.3333333333333333,
             "#9c179e"
            ],
            [
             0.4444444444444444,
             "#bd3786"
            ],
            [
             0.5555555555555556,
             "#d8576b"
            ],
            [
             0.6666666666666666,
             "#ed7953"
            ],
            [
             0.7777777777777778,
             "#fb9f3a"
            ],
            [
             0.8888888888888888,
             "#fdca26"
            ],
            [
             1,
             "#f0f921"
            ]
           ]
          },
          "colorway": [
           "#636efa",
           "#EF553B",
           "#00cc96",
           "#ab63fa",
           "#FFA15A",
           "#19d3f3",
           "#FF6692",
           "#B6E880",
           "#FF97FF",
           "#FECB52"
          ],
          "font": {
           "color": "#2a3f5f"
          },
          "geo": {
           "bgcolor": "white",
           "lakecolor": "white",
           "landcolor": "white",
           "showlakes": true,
           "showland": true,
           "subunitcolor": "#C8D4E3"
          },
          "hoverlabel": {
           "align": "left"
          },
          "hovermode": "closest",
          "mapbox": {
           "style": "light"
          },
          "paper_bgcolor": "white",
          "plot_bgcolor": "white",
          "polar": {
           "angularaxis": {
            "gridcolor": "#EBF0F8",
            "linecolor": "#EBF0F8",
            "ticks": ""
           },
           "bgcolor": "white",
           "radialaxis": {
            "gridcolor": "#EBF0F8",
            "linecolor": "#EBF0F8",
            "ticks": ""
           }
          },
          "scene": {
           "xaxis": {
            "backgroundcolor": "white",
            "gridcolor": "#DFE8F3",
            "gridwidth": 2,
            "linecolor": "#EBF0F8",
            "showbackground": true,
            "ticks": "",
            "zerolinecolor": "#EBF0F8"
           },
           "yaxis": {
            "backgroundcolor": "white",
            "gridcolor": "#DFE8F3",
            "gridwidth": 2,
            "linecolor": "#EBF0F8",
            "showbackground": true,
            "ticks": "",
            "zerolinecolor": "#EBF0F8"
           },
           "zaxis": {
            "backgroundcolor": "white",
            "gridcolor": "#DFE8F3",
            "gridwidth": 2,
            "linecolor": "#EBF0F8",
            "showbackground": true,
            "ticks": "",
            "zerolinecolor": "#EBF0F8"
           }
          },
          "shapedefaults": {
           "line": {
            "color": "#2a3f5f"
           }
          },
          "ternary": {
           "aaxis": {
            "gridcolor": "#DFE8F3",
            "linecolor": "#A2B1C6",
            "ticks": ""
           },
           "baxis": {
            "gridcolor": "#DFE8F3",
            "linecolor": "#A2B1C6",
            "ticks": ""
           },
           "bgcolor": "white",
           "caxis": {
            "gridcolor": "#DFE8F3",
            "linecolor": "#A2B1C6",
            "ticks": ""
           }
          },
          "title": {
           "x": 0.05
          },
          "xaxis": {
           "automargin": true,
           "gridcolor": "#EBF0F8",
           "linecolor": "#EBF0F8",
           "ticks": "",
           "title": {
            "standoff": 15
           },
           "zerolinecolor": "#EBF0F8",
           "zerolinewidth": 2
          },
          "yaxis": {
           "automargin": true,
           "gridcolor": "#EBF0F8",
           "linecolor": "#EBF0F8",
           "ticks": "",
           "title": {
            "standoff": 15
           },
           "zerolinecolor": "#EBF0F8",
           "zerolinewidth": 2
          }
         }
        },
        "title": {
         "text": "Consumption Discrepancy Comparison Between Two Selected Customers (2019)"
        },
        "xaxis": {
         "anchor": "y",
         "domain": [
          0,
          1
         ],
         "title": {
          "text": "invoice_date"
         }
        },
        "yaxis": {
         "anchor": "x",
         "domain": [
          0,
          1
         ],
         "title": {
          "text": "consommation_level_1"
         }
        }
       }
      }
     },
     "metadata": {},
     "output_type": "display_data"
    },
    {
     "name": "stdout",
     "output_type": "stream",
     "text": [
      "0:\tlearn: 0.6195903\ttotal: 279ms\tremaining: 4m 10s\n",
      "50:\tlearn: 0.1615901\ttotal: 6.76s\tremaining: 1m 52s\n",
      "100:\tlearn: 0.1510688\ttotal: 13.4s\tremaining: 1m 46s\n",
      "150:\tlearn: 0.1454646\ttotal: 19.8s\tremaining: 1m 38s\n",
      "200:\tlearn: 0.1409745\ttotal: 26.3s\tremaining: 1m 31s\n",
      "250:\tlearn: 0.1370311\ttotal: 33.1s\tremaining: 1m 25s\n",
      "300:\tlearn: 0.1331106\ttotal: 39.5s\tremaining: 1m 18s\n",
      "350:\tlearn: 0.1294052\ttotal: 45.9s\tremaining: 1m 11s\n",
      "400:\tlearn: 0.1263607\ttotal: 50.9s\tremaining: 1m 3s\n",
      "450:\tlearn: 0.1236314\ttotal: 58.2s\tremaining: 57.9s\n",
      "500:\tlearn: 0.1207715\ttotal: 1m 5s\tremaining: 52.1s\n",
      "550:\tlearn: 0.1182529\ttotal: 1m 12s\tremaining: 46s\n",
      "600:\tlearn: 0.1158623\ttotal: 1m 33s\tremaining: 46.8s\n",
      "650:\tlearn: 0.1133882\ttotal: 1m 42s\tremaining: 39.3s\n",
      "700:\tlearn: 0.1111198\ttotal: 1m 56s\tremaining: 33.1s\n",
      "750:\tlearn: 0.1085877\ttotal: 2m 19s\tremaining: 27.6s\n",
      "800:\tlearn: 0.1064268\ttotal: 2m 27s\tremaining: 18.3s\n",
      "850:\tlearn: 0.1041221\ttotal: 2m 36s\tremaining: 9.02s\n",
      "899:\tlearn: 0.1021329\ttotal: 2m 43s\tremaining: 0us\n",
      "0:\tlearn: 0.6161686\ttotal: 359ms\tremaining: 5m 22s\n",
      "50:\tlearn: 0.1622961\ttotal: 27s\tremaining: 7m 29s\n",
      "100:\tlearn: 0.1508345\ttotal: 37.7s\tremaining: 4m 58s\n",
      "150:\tlearn: 0.1455565\ttotal: 48s\tremaining: 3m 58s\n",
      "200:\tlearn: 0.1410033\ttotal: 57.9s\tremaining: 3m 21s\n",
      "250:\tlearn: 0.1368337\ttotal: 1m 4s\tremaining: 2m 45s\n",
      "300:\tlearn: 0.1329901\ttotal: 1m 9s\tremaining: 2m 18s\n",
      "350:\tlearn: 0.1297314\ttotal: 1m 15s\tremaining: 1m 58s\n",
      "400:\tlearn: 0.1266283\ttotal: 1m 22s\tremaining: 1m 42s\n",
      "450:\tlearn: 0.1239325\ttotal: 1m 36s\tremaining: 1m 36s\n",
      "500:\tlearn: 0.1212001\ttotal: 2m\tremaining: 1m 35s\n",
      "550:\tlearn: 0.1184596\ttotal: 2m 5s\tremaining: 1m 19s\n",
      "600:\tlearn: 0.1160922\ttotal: 2m 12s\tremaining: 1m 6s\n",
      "650:\tlearn: 0.1136345\ttotal: 2m 19s\tremaining: 53.5s\n",
      "700:\tlearn: 0.1112660\ttotal: 2m 29s\tremaining: 42.5s\n",
      "750:\tlearn: 0.1088529\ttotal: 2m 51s\tremaining: 34.1s\n",
      "800:\tlearn: 0.1067113\ttotal: 2m 58s\tremaining: 22s\n",
      "850:\tlearn: 0.1046686\ttotal: 3m 4s\tremaining: 10.6s\n",
      "899:\tlearn: 0.1027956\ttotal: 3m 10s\tremaining: 0us\n",
      "0:\tlearn: 0.6162656\ttotal: 108ms\tremaining: 1m 37s\n",
      "50:\tlearn: 0.1619641\ttotal: 23.8s\tremaining: 6m 36s\n",
      "100:\tlearn: 0.1505683\ttotal: 28.5s\tremaining: 3m 45s\n",
      "150:\tlearn: 0.1450454\ttotal: 33s\tremaining: 2m 43s\n",
      "200:\tlearn: 0.1404877\ttotal: 37.9s\tremaining: 2m 11s\n",
      "250:\tlearn: 0.1364760\ttotal: 42.7s\tremaining: 1m 50s\n",
      "300:\tlearn: 0.1327185\ttotal: 47.4s\tremaining: 1m 34s\n",
      "350:\tlearn: 0.1289422\ttotal: 53.7s\tremaining: 1m 23s\n",
      "400:\tlearn: 0.1259634\ttotal: 1m\tremaining: 1m 15s\n",
      "450:\tlearn: 0.1228135\ttotal: 1m 5s\tremaining: 1m 5s\n",
      "500:\tlearn: 0.1200882\ttotal: 1m 10s\tremaining: 56.3s\n",
      "550:\tlearn: 0.1176860\ttotal: 1m 15s\tremaining: 47.9s\n",
      "600:\tlearn: 0.1151700\ttotal: 1m 21s\tremaining: 40.4s\n",
      "650:\tlearn: 0.1126057\ttotal: 1m 41s\tremaining: 38.9s\n",
      "700:\tlearn: 0.1104328\ttotal: 1m 45s\tremaining: 30s\n",
      "750:\tlearn: 0.1080756\ttotal: 1m 50s\tremaining: 21.9s\n",
      "800:\tlearn: 0.1059707\ttotal: 1m 54s\tremaining: 14.2s\n",
      "850:\tlearn: 0.1036044\ttotal: 1m 59s\tremaining: 6.91s\n",
      "899:\tlearn: 0.1016376\ttotal: 2m 6s\tremaining: 0us\n",
      "0:\tlearn: 0.6164794\ttotal: 123ms\tremaining: 1m 50s\n",
      "50:\tlearn: 0.1634825\ttotal: 7.36s\tremaining: 2m 2s\n",
      "100:\tlearn: 0.1520088\ttotal: 15.4s\tremaining: 2m 2s\n",
      "150:\tlearn: 0.1469365\ttotal: 22.1s\tremaining: 1m 49s\n",
      "200:\tlearn: 0.1424084\ttotal: 44.7s\tremaining: 2m 35s\n",
      "250:\tlearn: 0.1385241\ttotal: 51.4s\tremaining: 2m 12s\n",
      "300:\tlearn: 0.1346626\ttotal: 58.5s\tremaining: 1m 56s\n",
      "350:\tlearn: 0.1313681\ttotal: 1m 4s\tremaining: 1m 40s\n",
      "400:\tlearn: 0.1280660\ttotal: 1m 10s\tremaining: 1m 27s\n",
      "450:\tlearn: 0.1251890\ttotal: 1m 15s\tremaining: 1m 15s\n",
      "500:\tlearn: 0.1224037\ttotal: 1m 20s\tremaining: 1m 4s\n",
      "550:\tlearn: 0.1197317\ttotal: 1m 38s\tremaining: 1m 2s\n",
      "600:\tlearn: 0.1170309\ttotal: 1m 43s\tremaining: 51.7s\n",
      "650:\tlearn: 0.1147569\ttotal: 1m 48s\tremaining: 41.4s\n",
      "700:\tlearn: 0.1124319\ttotal: 1m 52s\tremaining: 32s\n",
      "750:\tlearn: 0.1102083\ttotal: 1m 59s\tremaining: 23.7s\n",
      "800:\tlearn: 0.1077738\ttotal: 2m 12s\tremaining: 16.3s\n",
      "850:\tlearn: 0.1059051\ttotal: 2m 26s\tremaining: 8.41s\n",
      "899:\tlearn: 0.1038533\ttotal: 2m 31s\tremaining: 0us\n",
      "0:\tlearn: 0.6160889\ttotal: 117ms\tremaining: 1m 44s\n",
      "50:\tlearn: 0.1621074\ttotal: 6.77s\tremaining: 1m 52s\n",
      "100:\tlearn: 0.1508910\ttotal: 12.4s\tremaining: 1m 38s\n",
      "150:\tlearn: 0.1453719\ttotal: 34.4s\tremaining: 2m 50s\n",
      "200:\tlearn: 0.1411044\ttotal: 39.2s\tremaining: 2m 16s\n",
      "250:\tlearn: 0.1370640\ttotal: 45.3s\tremaining: 1m 57s\n",
      "300:\tlearn: 0.1333278\ttotal: 51.8s\tremaining: 1m 43s\n",
      "350:\tlearn: 0.1299179\ttotal: 57.2s\tremaining: 1m 29s\n",
      "400:\tlearn: 0.1267922\ttotal: 1m 2s\tremaining: 1m 17s\n",
      "450:\tlearn: 0.1238487\ttotal: 1m 23s\tremaining: 1m 23s\n",
      "500:\tlearn: 0.1210046\ttotal: 1m 28s\tremaining: 1m 10s\n",
      "550:\tlearn: 0.1181218\ttotal: 1m 34s\tremaining: 59.5s\n",
      "600:\tlearn: 0.1155637\ttotal: 1m 40s\tremaining: 50.1s\n",
      "650:\tlearn: 0.1133060\ttotal: 1m 45s\tremaining: 40.5s\n",
      "700:\tlearn: 0.1108369\ttotal: 2m 6s\tremaining: 36s\n",
      "750:\tlearn: 0.1085383\ttotal: 2m 10s\tremaining: 26s\n",
      "800:\tlearn: 0.1062713\ttotal: 2m 15s\tremaining: 16.7s\n",
      "850:\tlearn: 0.1041899\ttotal: 2m 19s\tremaining: 8.04s\n",
      "899:\tlearn: 0.1020849\ttotal: 2m 24s\tremaining: 0us\n",
      "0:\tlearn: 0.6161813\ttotal: 99.5ms\tremaining: 1m 29s\n",
      "50:\tlearn: 0.1621733\ttotal: 4.95s\tremaining: 1m 22s\n",
      "100:\tlearn: 0.1506608\ttotal: 9.91s\tremaining: 1m 18s\n",
      "150:\tlearn: 0.1452346\ttotal: 14.8s\tremaining: 1m 13s\n",
      "200:\tlearn: 0.1406729\ttotal: 20s\tremaining: 1m 9s\n",
      "250:\tlearn: 0.1369470\ttotal: 40.4s\tremaining: 1m 44s\n",
      "300:\tlearn: 0.1329301\ttotal: 44.8s\tremaining: 1m 29s\n",
      "350:\tlearn: 0.1295828\ttotal: 49.5s\tremaining: 1m 17s\n",
      "400:\tlearn: 0.1266009\ttotal: 53.9s\tremaining: 1m 7s\n",
      "450:\tlearn: 0.1236927\ttotal: 58.3s\tremaining: 58.1s\n",
      "500:\tlearn: 0.1210780\ttotal: 1m 2s\tremaining: 50.1s\n",
      "550:\tlearn: 0.1184154\ttotal: 1m 7s\tremaining: 42.8s\n",
      "600:\tlearn: 0.1159513\ttotal: 1m 13s\tremaining: 36.4s\n",
      "650:\tlearn: 0.1135896\ttotal: 1m 18s\tremaining: 30s\n",
      "700:\tlearn: 0.1113813\ttotal: 1m 38s\tremaining: 28.1s\n",
      "750:\tlearn: 0.1091194\ttotal: 1m 43s\tremaining: 20.5s\n",
      "800:\tlearn: 0.1067936\ttotal: 1m 48s\tremaining: 13.3s\n",
      "850:\tlearn: 0.1046848\ttotal: 1m 52s\tremaining: 6.49s\n",
      "899:\tlearn: 0.1026180\ttotal: 1m 57s\tremaining: 0us\n",
      "0:\tlearn: 0.6267648\ttotal: 49.5ms\tremaining: 44.5s\n",
      "50:\tlearn: 0.1628480\ttotal: 5.48s\tremaining: 1m 31s\n",
      "100:\tlearn: 0.1516302\ttotal: 10.8s\tremaining: 1m 25s\n",
      "150:\tlearn: 0.1459938\ttotal: 31.8s\tremaining: 2m 37s\n",
      "200:\tlearn: 0.1416553\ttotal: 36s\tremaining: 2m 5s\n",
      "250:\tlearn: 0.1376265\ttotal: 40.6s\tremaining: 1m 45s\n",
      "300:\tlearn: 0.1336419\ttotal: 45.7s\tremaining: 1m 30s\n",
      "350:\tlearn: 0.1301751\ttotal: 51.4s\tremaining: 1m 20s\n",
      "400:\tlearn: 0.1272612\ttotal: 57.7s\tremaining: 1m 11s\n",
      "450:\tlearn: 0.1242425\ttotal: 1m 16s\tremaining: 1m 15s\n",
      "500:\tlearn: 0.1214101\ttotal: 1m 22s\tremaining: 1m 5s\n",
      "550:\tlearn: 0.1186426\ttotal: 1m 26s\tremaining: 54.9s\n",
      "600:\tlearn: 0.1161393\ttotal: 1m 31s\tremaining: 45.6s\n",
      "650:\tlearn: 0.1138365\ttotal: 1m 36s\tremaining: 36.7s\n",
      "700:\tlearn: 0.1112714\ttotal: 1m 41s\tremaining: 28.8s\n",
      "750:\tlearn: 0.1090232\ttotal: 1m 47s\tremaining: 21.2s\n",
      "800:\tlearn: 0.1067151\ttotal: 1m 51s\tremaining: 13.8s\n",
      "850:\tlearn: 0.1045729\ttotal: 1m 55s\tremaining: 6.67s\n",
      "899:\tlearn: 0.1025732\ttotal: 2m\tremaining: 0us\n",
      "0:\tlearn: 0.6161560\ttotal: 82ms\tremaining: 1m 13s\n",
      "50:\tlearn: 0.1629355\ttotal: 11.4s\tremaining: 3m 10s\n",
      "100:\tlearn: 0.1517177\ttotal: 25.4s\tremaining: 3m 20s\n",
      "150:\tlearn: 0.1457606\ttotal: 29.9s\tremaining: 2m 28s\n",
      "200:\tlearn: 0.1410884\ttotal: 35s\tremaining: 2m 1s\n",
      "250:\tlearn: 0.1370688\ttotal: 39.7s\tremaining: 1m 42s\n",
      "300:\tlearn: 0.1332016\ttotal: 44.1s\tremaining: 1m 27s\n",
      "350:\tlearn: 0.1297696\ttotal: 48.4s\tremaining: 1m 15s\n",
      "400:\tlearn: 0.1263309\ttotal: 52.8s\tremaining: 1m 5s\n",
      "450:\tlearn: 0.1236508\ttotal: 58s\tremaining: 57.7s\n",
      "500:\tlearn: 0.1209424\ttotal: 1m 13s\tremaining: 58.6s\n",
      "550:\tlearn: 0.1182944\ttotal: 1m 31s\tremaining: 57.7s\n",
      "600:\tlearn: 0.1157155\ttotal: 1m 38s\tremaining: 49s\n",
      "650:\tlearn: 0.1132801\ttotal: 1m 47s\tremaining: 41.1s\n",
      "700:\tlearn: 0.1105309\ttotal: 2m 9s\tremaining: 36.8s\n",
      "750:\tlearn: 0.1082823\ttotal: 2m 14s\tremaining: 26.6s\n",
      "800:\tlearn: 0.1062041\ttotal: 2m 19s\tremaining: 17.2s\n",
      "850:\tlearn: 0.1043303\ttotal: 2m 25s\tremaining: 8.36s\n",
      "899:\tlearn: 0.1022745\ttotal: 2m 31s\tremaining: 0us\n",
      "0:\tlearn: 0.6161540\ttotal: 110ms\tremaining: 1m 39s\n",
      "50:\tlearn: 0.1635181\ttotal: 21.7s\tremaining: 6m 2s\n",
      "100:\tlearn: 0.1515800\ttotal: 26.5s\tremaining: 3m 29s\n",
      "150:\tlearn: 0.1463328\ttotal: 31.7s\tremaining: 2m 37s\n",
      "200:\tlearn: 0.1420784\ttotal: 38.1s\tremaining: 2m 12s\n",
      "250:\tlearn: 0.1379868\ttotal: 56.3s\tremaining: 2m 25s\n",
      "300:\tlearn: 0.1338645\ttotal: 1m 5s\tremaining: 2m 10s\n",
      "350:\tlearn: 0.1303396\ttotal: 1m 10s\tremaining: 1m 50s\n",
      "400:\tlearn: 0.1273723\ttotal: 1m 15s\tremaining: 1m 33s\n",
      "450:\tlearn: 0.1250253\ttotal: 1m 19s\tremaining: 1m 19s\n",
      "500:\tlearn: 0.1221793\ttotal: 1m 24s\tremaining: 1m 7s\n",
      "550:\tlearn: 0.1194294\ttotal: 1m 30s\tremaining: 57.1s\n",
      "600:\tlearn: 0.1168778\ttotal: 1m 35s\tremaining: 47.4s\n",
      "650:\tlearn: 0.1146035\ttotal: 1m 39s\tremaining: 38.2s\n",
      "700:\tlearn: 0.1123108\ttotal: 1m 44s\tremaining: 29.7s\n",
      "750:\tlearn: 0.1098070\ttotal: 1m 49s\tremaining: 21.7s\n",
      "800:\tlearn: 0.1075294\ttotal: 1m 54s\tremaining: 14.2s\n",
      "850:\tlearn: 0.1053914\ttotal: 1m 59s\tremaining: 6.88s\n",
      "899:\tlearn: 0.1033134\ttotal: 2m 4s\tremaining: 0us\n",
      "0:\tlearn: 0.6163307\ttotal: 89.3ms\tremaining: 1m 20s\n",
      "50:\tlearn: 0.1633894\ttotal: 5.08s\tremaining: 1m 24s\n",
      "100:\tlearn: 0.1515141\ttotal: 10.1s\tremaining: 1m 19s\n",
      "150:\tlearn: 0.1460050\ttotal: 15.2s\tremaining: 1m 15s\n",
      "200:\tlearn: 0.1416590\ttotal: 20.2s\tremaining: 1m 10s\n",
      "250:\tlearn: 0.1375646\ttotal: 24.8s\tremaining: 1m 4s\n",
      "300:\tlearn: 0.1334333\ttotal: 29.9s\tremaining: 59.5s\n",
      "350:\tlearn: 0.1297465\ttotal: 34.6s\tremaining: 54.1s\n",
      "400:\tlearn: 0.1263295\ttotal: 39.4s\tremaining: 49s\n",
      "450:\tlearn: 0.1232972\ttotal: 45.8s\tremaining: 45.6s\n",
      "500:\tlearn: 0.1204903\ttotal: 52.3s\tremaining: 41.6s\n",
      "550:\tlearn: 0.1181536\ttotal: 58.1s\tremaining: 36.8s\n",
      "600:\tlearn: 0.1153950\ttotal: 1m 3s\tremaining: 31.7s\n",
      "650:\tlearn: 0.1130016\ttotal: 1m 9s\tremaining: 26.6s\n",
      "700:\tlearn: 0.1105827\ttotal: 1m 15s\tremaining: 21.4s\n",
      "750:\tlearn: 0.1083900\ttotal: 1m 21s\tremaining: 16.2s\n",
      "800:\tlearn: 0.1061415\ttotal: 1m 27s\tremaining: 10.8s\n",
      "850:\tlearn: 0.1040711\ttotal: 1m 33s\tremaining: 5.39s\n",
      "899:\tlearn: 0.1017470\ttotal: 1m 39s\tremaining: 0us\n",
      "Mean AUC: 0.5713003632035322\n"
     ]
    }
   ],
   "source": [
    "from sklearn.model_selection import KFold\n",
    "from CatBoost import CatBoostClassifier\n",
    "from sklearn.metrics import roc_auc_score\n",
    "\n",
    "\n",
    "# invoiceYears = train_invoice['invoice_date'].dt.year.unique()\n",
    "\n",
    "\n",
    "# Define KFold cross-validation\n",
    "kf = KFold(n_splits=10, shuffle=True, random_state=42)\n",
    "\n",
    "# Initialize lists to store predictions and errors\n",
    "predictions = []\n",
    "# errors = []\n",
    "auc_scores = []\n",
    "\n",
    "# Iterate over folds\n",
    "for fold, (train_idx, valid_idx) in enumerate(kf.split(train)):\n",
    "    # Extract training and validation data for this fold\n",
    "    X_train_fold, X_valid_fold = train.iloc[train_idx], train.iloc[valid_idx]\n",
    "    y_train_fold, y_valid_fold = target[train_idx], target[valid_idx]\n",
    "\n",
    "    # Define and train your model\n",
    "    model = CatBoostClassifier(\n",
    "        iterations=900,\n",
    "        depth=8,\n",
    "        learning_rate=0.055,\n",
    "        subsample=0.9,\n",
    "        colsample_bylevel=0.9,\n",
    "        random_seed=42,\n",
    "        verbose=50  # Set to 'Verbose' for training logs\n",
    "    )\n",
    "\n",
    "    # Train the model\n",
    "    model.fit(X_train_fold, y_train_fold)\n",
    "\n",
    "    # Make predictions on the validation set\n",
    "    fold_preds = model.predict(X_valid_fold)\n",
    "    \n",
    "    '''# Evaluate model and store predictions and errors\n",
    "    rmse = np.sqrt(mean_squared_error(y_valid_fold, fold_preds))\n",
    "    errors.append(rmse)\n",
    "    predictions.append(fold_preds)'''\n",
    "    \n",
    "    \n",
    "    # Calculate AUC score for the fold\n",
    "    auc = roc_auc_score(y_valid_fold, fold_preds)\n",
    "    auc_scores.append(auc)\n",
    "\n",
    "    # Optionally, you can also make predictions on the test set for each fold and save them for ensembling later\n",
    "\n",
    "# Calculate average error across folds\n",
    "# mean_error = np.mean(errors)\n",
    "# print(\"Mean RMSE:\", mean_error)\n",
    "\n",
    "# Optionally, you can also ensemble the predictions from different folds here\n",
    "\n",
    "# After ensembling (if applicable), you can make predictions on the test set using the ensemble model\n",
    "# And write the submission file\n",
    "# Calculate average AUC score across folds\n",
    "\n",
    "\n",
    "mean_auc = np.mean(auc_scores)\n",
    "print(\"Mean AUC:\", mean_auc)"
   ]
  },
  {
   "cell_type": "code",
   "execution_count": 27,
   "id": "d9709a9a",
   "metadata": {},
   "outputs": [
    {
     "ename": "AttributeError",
     "evalue": "'numpy.ndarray' object has no attribute 'append'",
     "output_type": "error",
     "traceback": [
      "\u001b[1;31m---------------------------------------------------------------------------\u001b[0m",
      "\u001b[1;31mAttributeError\u001b[0m                            Traceback (most recent call last)",
      "Cell \u001b[1;32mIn[27], line 2\u001b[0m\n\u001b[0;32m      1\u001b[0m \u001b[39m# Store predictions from this fold\u001b[39;00m\n\u001b[1;32m----> 2\u001b[0m fold_preds\u001b[39m.\u001b[39;49mappend(fold_preds)\n\u001b[0;32m      4\u001b[0m \u001b[39m# Concatenate predictions from all folds into a single DataFrame\u001b[39;00m\n\u001b[0;32m      5\u001b[0m fold_preds_df \u001b[39m=\u001b[39m pd\u001b[39m.\u001b[39mDataFrame(np\u001b[39m.\u001b[39mconcatenate(all_fold_preds))\n",
      "\u001b[1;31mAttributeError\u001b[0m: 'numpy.ndarray' object has no attribute 'append'"
     ]
    }
   ],
   "source": [
    "# Store predictions from this fold\n",
    "fold_preds.append(fold_preds)\n",
    "\n",
    "# Concatenate predictions from all folds into a single DataFrame\n",
    "fold_preds_df = pd.DataFrame(np.concatenate(all_fold_preds))\n",
    "\n",
    "# Assuming fold_preds_df contains the correct predictions\n",
    "# Now you can proceed with creating the submission DataFrame\n",
    "submission = pd.DataFrame({\n",
    "    \"client_id\": sub[\"client_id\"],\n",
    "    \"target\": fold_preds_df[0]  # Assuming the predictions are in the first column\n",
    "})\n",
    "\n",
    "# Write the submission file\n",
    "submission.to_csv('submission_fraud_cat_KFold.csv', index=False)"
   ]
  },
  {
   "cell_type": "code",
   "execution_count": null,
   "id": "a16b8998-8f61-492d-8c8a-62314dc87469",
   "metadata": {},
   "outputs": [
    {
     "name": "stdout",
     "output_type": "stream",
     "text": [
      "0:\tlearn: 0.6228451\ttotal: 100ms\tremaining: 50s\n",
      "50:\tlearn: 0.1652085\ttotal: 5.01s\tremaining: 44.1s\n",
      "100:\tlearn: 0.1531686\ttotal: 10.1s\tremaining: 39.7s\n",
      "150:\tlearn: 0.1477308\ttotal: 15.5s\tremaining: 35.7s\n",
      "200:\tlearn: 0.1437199\ttotal: 20.5s\tremaining: 30.6s\n",
      "250:\tlearn: 0.1401112\ttotal: 25.6s\tremaining: 25.4s\n",
      "300:\tlearn: 0.1366255\ttotal: 30.4s\tremaining: 20.1s\n",
      "350:\tlearn: 0.1335095\ttotal: 35.7s\tremaining: 15.1s\n",
      "400:\tlearn: 0.1307856\ttotal: 41s\tremaining: 10.1s\n",
      "450:\tlearn: 0.1280829\ttotal: 46.2s\tremaining: 5.02s\n",
      "499:\tlearn: 0.1256822\ttotal: 50.7s\tremaining: 0us\n",
      "CPU times: total: 4min 8s\n",
      "Wall time: 56 s\n"
     ]
    }
   ],
   "source": [
    "from catboost import CatBoostClassifier\n",
    "\n",
    "# Create CatBoostClassifier instance\n",
    "model= CatBoostClassifier(\n",
    "    iterations=900,\n",
    "    depth=8,\n",
    "    learning_rate=0.05,\n",
    "    subsample=0.9,\n",
    "    colsample_bylevel=0.9,\n",
    "    random_seed=42,\n",
    "    verbose=50  # Set to 'Verbose' for training logs\n",
    ")\n",
    "\n",
    "# Train the model\n",
    "%time model.fit(train, target)\n",
    "\n",
    "# After training, you can make predictions\n",
    "predictions = model.predict_proba(test)\n",
    "\n",
    "# Calculate the AUC score\n",
    "auc = roc_auc_score(y_test, y_pred_proba)\n",
    "print(\"AUC Score:\", auc)\n"
   ]
  },
  {
   "cell_type": "code",
   "execution_count": null,
   "id": "94038b62",
   "metadata": {},
   "outputs": [],
   "source": [
    "\n",
    "\n",
    "\n",
    "\n",
    "\n",
    "\n",
    "\n",
    "\n",
    "\n",
    "\n",
    "\n",
    "\n",
    "submission = pd.DataFrame({\n",
    "        \"client_id\": sub[\"client_id\"],\n",
    "        \"target\": preds[1]\n",
    "    })\n",
    "submission.to_csv('submission_fraud_cat.csv', index=False)"
   ]
  },
  {
   "cell_type": "code",
   "execution_count": null,
   "id": "ec6ef973",
   "metadata": {},
   "outputs": [],
   "source": []
  },
  {
   "cell_type": "code",
   "execution_count": null,
   "id": "1f885c66",
   "metadata": {},
   "outputs": [],
   "source": []
  },
  {
   "cell_type": "code",
   "execution_count": null,
   "id": "70a9c697-8373-4a11-888f-9260dab986b6",
   "metadata": {},
   "outputs": [
    {
     "name": "stdout",
     "output_type": "stream",
     "text": [
      "CPU times: total: 4min 48s\n",
      "Wall time: 1min\n"
     ]
    }
   ],
   "source": [
    "import xgboost as xgb\n",
    "\n",
    "# Create XGBoost Classifier instance\n",
    "model = xgb.XGBClassifier(\n",
    "    n_estimators=500,\n",
    "    max_depth=9,\n",
    "    learning_rate=0.055,\n",
    "    subsample=0.9,\n",
    "    colsample_bytree=0.9,\n",
    "    random_state=42,\n",
    "    verbosity=1  # Set to 1 for training logs\n",
    ")\n",
    "\n",
    "# Train the model\n",
    "%time model.fit(train, target)\n",
    "\n",
    "# After training, you can make predictions\n",
    "predictions = model.predict(test)\n",
    "\n",
    "print\n"
   ]
  },
  {
   "cell_type": "code",
   "execution_count": null,
   "id": "d136dae3-de61-475b-8be1-c5bb2b7b3ff2",
   "metadata": {},
   "outputs": [],
   "source": [
    "pred=model.predict_proba(test)"
   ]
  },
  {
   "cell_type": "code",
   "execution_count": null,
   "id": "c82d4348-c5e3-4ea1-8d09-9a766c1a52ab",
   "metadata": {},
   "outputs": [],
   "source": [
    "preds = (pred) "
   ]
  },
  {
   "cell_type": "code",
   "execution_count": null,
   "id": "6f8a12e7-1cdb-4537-98c6-24a62cf29218",
   "metadata": {},
   "outputs": [],
   "source": [
    "preds = pd.DataFrame(preds)"
   ]
  },
  {
   "cell_type": "code",
   "execution_count": null,
   "id": "d3a3ceb4-9898-43f3-9213-edc9a8ab864b",
   "metadata": {},
   "outputs": [
    {
     "data": {
      "text/html": [
       "<div>\n",
       "<style scoped>\n",
       "    .dataframe tbody tr th:only-of-type {\n",
       "        vertical-align: middle;\n",
       "    }\n",
       "\n",
       "    .dataframe tbody tr th {\n",
       "        vertical-align: top;\n",
       "    }\n",
       "\n",
       "    .dataframe thead th {\n",
       "        text-align: right;\n",
       "    }\n",
       "</style>\n",
       "<table border=\"1\" class=\"dataframe\">\n",
       "  <thead>\n",
       "    <tr style=\"text-align: right;\">\n",
       "      <th></th>\n",
       "      <th>0</th>\n",
       "      <th>1</th>\n",
       "    </tr>\n",
       "  </thead>\n",
       "  <tbody>\n",
       "    <tr>\n",
       "      <th>0</th>\n",
       "      <td>0.979904</td>\n",
       "      <td>0.020096</td>\n",
       "    </tr>\n",
       "    <tr>\n",
       "      <th>1</th>\n",
       "      <td>0.974732</td>\n",
       "      <td>0.025268</td>\n",
       "    </tr>\n",
       "    <tr>\n",
       "      <th>2</th>\n",
       "      <td>0.997406</td>\n",
       "      <td>0.002594</td>\n",
       "    </tr>\n",
       "    <tr>\n",
       "      <th>3</th>\n",
       "      <td>0.997638</td>\n",
       "      <td>0.002362</td>\n",
       "    </tr>\n",
       "    <tr>\n",
       "      <th>4</th>\n",
       "      <td>0.974954</td>\n",
       "      <td>0.025046</td>\n",
       "    </tr>\n",
       "    <tr>\n",
       "      <th>5</th>\n",
       "      <td>0.984502</td>\n",
       "      <td>0.015498</td>\n",
       "    </tr>\n",
       "    <tr>\n",
       "      <th>6</th>\n",
       "      <td>0.999922</td>\n",
       "      <td>0.000079</td>\n",
       "    </tr>\n",
       "    <tr>\n",
       "      <th>7</th>\n",
       "      <td>0.669456</td>\n",
       "      <td>0.330544</td>\n",
       "    </tr>\n",
       "    <tr>\n",
       "      <th>8</th>\n",
       "      <td>0.999212</td>\n",
       "      <td>0.000788</td>\n",
       "    </tr>\n",
       "    <tr>\n",
       "      <th>9</th>\n",
       "      <td>0.982634</td>\n",
       "      <td>0.017366</td>\n",
       "    </tr>\n",
       "  </tbody>\n",
       "</table>\n",
       "</div>"
      ],
      "text/plain": [
       "          0         1\n",
       "0  0.979904  0.020096\n",
       "1  0.974732  0.025268\n",
       "2  0.997406  0.002594\n",
       "3  0.997638  0.002362\n",
       "4  0.974954  0.025046\n",
       "5  0.984502  0.015498\n",
       "6  0.999922  0.000079\n",
       "7  0.669456  0.330544\n",
       "8  0.999212  0.000788\n",
       "9  0.982634  0.017366"
      ]
     },
     "execution_count": 58,
     "metadata": {},
     "output_type": "execute_result"
    }
   ],
   "source": [
    "preds.head(10)"
   ]
  },
  {
   "cell_type": "code",
   "execution_count": null,
   "id": "97458095-437e-4df7-81e2-5646a0d1253d",
   "metadata": {},
   "outputs": [],
   "source": [
    "sub=pd.read_csv('SampleSubmission (4).csv')"
   ]
  },
  {
   "cell_type": "code",
   "execution_count": null,
   "id": "a141f68d-a470-4bf1-9b4c-ec4581706e07",
   "metadata": {},
   "outputs": [],
   "source": [
    "submission = pd.DataFrame({\n",
    "        \"client_id\": sub[\"client_id\"],\n",
    "        \"target\": preds[1]\n",
    "    })\n",
    "submission.to_csv('submission_fraud_new.csv', index=False)"
   ]
  },
  {
   "cell_type": "code",
   "execution_count": null,
   "id": "54e75bde-65ce-4d51-b1d8-8c511d83561d",
   "metadata": {},
   "outputs": [
    {
     "data": {
      "text/html": [
       "<div>\n",
       "<style scoped>\n",
       "    .dataframe tbody tr th:only-of-type {\n",
       "        vertical-align: middle;\n",
       "    }\n",
       "\n",
       "    .dataframe tbody tr th {\n",
       "        vertical-align: top;\n",
       "    }\n",
       "\n",
       "    .dataframe thead th {\n",
       "        text-align: right;\n",
       "    }\n",
       "</style>\n",
       "<table border=\"1\" class=\"dataframe\">\n",
       "  <thead>\n",
       "    <tr style=\"text-align: right;\">\n",
       "      <th></th>\n",
       "      <th>client_id</th>\n",
       "      <th>target</th>\n",
       "    </tr>\n",
       "  </thead>\n",
       "  <tbody>\n",
       "    <tr>\n",
       "      <th>0</th>\n",
       "      <td>test_Client_0</td>\n",
       "      <td>0.020096</td>\n",
       "    </tr>\n",
       "    <tr>\n",
       "      <th>1</th>\n",
       "      <td>test_Client_1</td>\n",
       "      <td>0.025268</td>\n",
       "    </tr>\n",
       "    <tr>\n",
       "      <th>2</th>\n",
       "      <td>test_Client_10</td>\n",
       "      <td>0.002594</td>\n",
       "    </tr>\n",
       "    <tr>\n",
       "      <th>3</th>\n",
       "      <td>test_Client_100</td>\n",
       "      <td>0.002362</td>\n",
       "    </tr>\n",
       "    <tr>\n",
       "      <th>4</th>\n",
       "      <td>test_Client_1000</td>\n",
       "      <td>0.025046</td>\n",
       "    </tr>\n",
       "    <tr>\n",
       "      <th>5</th>\n",
       "      <td>test_Client_10000</td>\n",
       "      <td>0.015498</td>\n",
       "    </tr>\n",
       "    <tr>\n",
       "      <th>6</th>\n",
       "      <td>test_Client_10001</td>\n",
       "      <td>0.000079</td>\n",
       "    </tr>\n",
       "    <tr>\n",
       "      <th>7</th>\n",
       "      <td>test_Client_10002</td>\n",
       "      <td>0.330544</td>\n",
       "    </tr>\n",
       "    <tr>\n",
       "      <th>8</th>\n",
       "      <td>test_Client_10003</td>\n",
       "      <td>0.000788</td>\n",
       "    </tr>\n",
       "    <tr>\n",
       "      <th>9</th>\n",
       "      <td>test_Client_10004</td>\n",
       "      <td>0.017366</td>\n",
       "    </tr>\n",
       "  </tbody>\n",
       "</table>\n",
       "</div>"
      ],
      "text/plain": [
       "           client_id    target\n",
       "0      test_Client_0  0.020096\n",
       "1      test_Client_1  0.025268\n",
       "2     test_Client_10  0.002594\n",
       "3    test_Client_100  0.002362\n",
       "4   test_Client_1000  0.025046\n",
       "5  test_Client_10000  0.015498\n",
       "6  test_Client_10001  0.000079\n",
       "7  test_Client_10002  0.330544\n",
       "8  test_Client_10003  0.000788\n",
       "9  test_Client_10004  0.017366"
      ]
     },
     "execution_count": 61,
     "metadata": {},
     "output_type": "execute_result"
    }
   ],
   "source": [
    "submission.head(10)"
   ]
  },
  {
   "cell_type": "code",
   "execution_count": null,
   "id": "230231e8-2f1e-49c7-b01f-3e72f2e50458",
   "metadata": {},
   "outputs": [],
   "source": []
  },
  {
   "cell_type": "code",
   "execution_count": null,
   "id": "12ecca6a-1f75-43ac-ad20-b3f180fc3da5",
   "metadata": {},
   "outputs": [],
   "source": []
  },
  {
   "cell_type": "code",
   "execution_count": null,
   "id": "9325b99f-a8ea-4fe7-af11-52cfdd72bb5b",
   "metadata": {},
   "outputs": [],
   "source": []
  },
  {
   "cell_type": "code",
   "execution_count": null,
   "id": "aefeff1b-1bb1-4c3b-b4b2-5ead6a527dff",
   "metadata": {},
   "outputs": [],
   "source": []
  },
  {
   "cell_type": "code",
   "execution_count": null,
   "id": "ba77acdd-8e1d-4e92-bfae-8ed48836c90d",
   "metadata": {},
   "outputs": [],
   "source": []
  },
  {
   "cell_type": "code",
   "execution_count": null,
   "id": "e7deb572-e0f0-4c13-a024-0d463366b5ae",
   "metadata": {},
   "outputs": [],
   "source": []
  },
  {
   "cell_type": "code",
   "execution_count": null,
   "id": "537a0f0b-297b-4a14-a910-9f53e29fd3d2",
   "metadata": {},
   "outputs": [],
   "source": []
  },
  {
   "cell_type": "code",
   "execution_count": null,
   "id": "09d7e355-53fc-48f2-9c27-35a4bcb736da",
   "metadata": {},
   "outputs": [],
   "source": []
  }
 ],
 "metadata": {
  "kernelspec": {
   "display_name": "Python 3 (ipykernel)",
   "language": "python",
   "name": "python3"
  },
  "language_info": {
   "codemirror_mode": {
    "name": "ipython",
    "version": 3
   },
   "file_extension": ".py",
   "mimetype": "text/x-python",
   "name": "python",
   "nbconvert_exporter": "python",
   "pygments_lexer": "ipython3",
   "version": "3.8.2"
  }
 },
 "nbformat": 4,
 "nbformat_minor": 5
}
